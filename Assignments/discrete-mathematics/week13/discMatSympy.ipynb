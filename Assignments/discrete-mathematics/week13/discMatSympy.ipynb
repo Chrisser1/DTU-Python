{
 "cells": [
  {
   "cell_type": "code",
   "execution_count": 16,
   "metadata": {},
   "outputs": [],
   "source": [
    "from sympy import *\n",
    "import pandas as pd\n",
    "import re\n",
    "\n",
    "def superscriptify(expr):\n",
    "    \"\"\"Convert an expression's powers (**) into unicode superscripts and leave multiplication as is.\"\"\"\n",
    "    if expr is None:\n",
    "        return \"*\"\n",
    "    s = str(expr)\n",
    "\n",
    "    # Map digits and minus sign to superscripts\n",
    "    superscript_map = {\n",
    "        '0': '⁰', '1': '¹', '2': '²', '3': '³', '4': '⁴',\n",
    "        '5': '⁵', '6': '⁶', '7': '⁷', '8': '⁸', '9': '⁹',\n",
    "        '-': '⁻'\n",
    "    }\n",
    "\n",
    "    def replace_power(match):\n",
    "        exponent_str = match.group(1)\n",
    "        # Convert each character of the exponent to its superscript equivalent\n",
    "        return ''.join(superscript_map.get(ch, ch) for ch in exponent_str)\n",
    "\n",
    "    # Replace all occurrences of '**<integer>' with the corresponding superscript characters\n",
    "    s = re.sub(r'\\*\\*(-?\\d+)', lambda m: replace_power(m), s)\n",
    "\n",
    "    return s\n",
    "\n",
    "def extended_euclidean_algorithm_polys(N, M, x, beatify: bool = true):\n",
    "    # Initialize variables for the extended Euclidean algorithm\n",
    "    r = [N, M]  # Remainders\n",
    "    s = [Poly(1, x), Poly(0, x)]  # Coefficients of N(x)\n",
    "    t = [Poly(0, x), Poly(1, x)]  # Coefficients of M(x)\n",
    "\n",
    "    # Perform the extended Euclidean algorithm\n",
    "    k = 0\n",
    "    while r[k+1] != 0:\n",
    "        quotient, remainder = div(r[k], r[k+1])\n",
    "        r.append(remainder)\n",
    "        if remainder == 0:\n",
    "            s.append(None)\n",
    "            t.append(None)\n",
    "        else:\n",
    "            s.append(s[k] - quotient * s[k+1])\n",
    "            t.append(t[k] - quotient * t[k+1])\n",
    "        k += 1\n",
    "\n",
    "    results = []\n",
    "    for i in range(len(r)):\n",
    "        if beatify:\n",
    "            r_str = superscriptify(r[i].as_expr() if r[i] is not None else None)\n",
    "            s_str = superscriptify(s[i].as_expr() if s[i] is not None else None)\n",
    "            t_str = superscriptify(t[i].as_expr() if t[i] is not None else None)\n",
    "        else:\n",
    "            r_str = r[i].as_expr() if r[i] is not None else None\n",
    "            s_str = s[i].as_expr() if s[i] is not None else None\n",
    "            t_str = t[i].as_expr() if t[i] is not None else None\n",
    "        results.append({\n",
    "            \"k\": i,\n",
    "            \"r_k(x)\": r_str,\n",
    "            \"s_k(x)\": s_str,\n",
    "            \"t_k(x)\": t_str\n",
    "        })\n",
    "\n",
    "    df = pd.DataFrame(results)\n",
    "    return df\n",
    "\n",
    "# Example usage\n",
    "x = symbols('x', real=True)\n",
    "N = Poly(x**4 + x**3 - 2*x**2 + 3*x - 43, x)  # N(x)\n",
    "M = Poly(x**2 + 2*x - 6, x)                  # M(x)\n",
    "df_results = extended_euclidean_algorithm_polys(N, M, x, true)\n"
   ]
  },
  {
   "cell_type": "code",
   "execution_count": 17,
   "metadata": {},
   "outputs": [
    {
     "data": {
      "text/html": [
       "<div>\n",
       "<style scoped>\n",
       "    .dataframe tbody tr th:only-of-type {\n",
       "        vertical-align: middle;\n",
       "    }\n",
       "\n",
       "    .dataframe tbody tr th {\n",
       "        vertical-align: top;\n",
       "    }\n",
       "\n",
       "    .dataframe thead th {\n",
       "        text-align: right;\n",
       "    }\n",
       "</style>\n",
       "<table border=\"1\" class=\"dataframe\">\n",
       "  <thead>\n",
       "    <tr style=\"text-align: right;\">\n",
       "      <th></th>\n",
       "      <th>k</th>\n",
       "      <th>r_k(x)</th>\n",
       "      <th>s_k(x)</th>\n",
       "      <th>t_k(x)</th>\n",
       "    </tr>\n",
       "  </thead>\n",
       "  <tbody>\n",
       "    <tr>\n",
       "      <th>0</th>\n",
       "      <td>0</td>\n",
       "      <td>x⁴ + x³ - 2*x² + 3*x - 43</td>\n",
       "      <td>1</td>\n",
       "      <td>0</td>\n",
       "    </tr>\n",
       "    <tr>\n",
       "      <th>1</th>\n",
       "      <td>1</td>\n",
       "      <td>x² + 2*x - 6</td>\n",
       "      <td>0</td>\n",
       "      <td>1</td>\n",
       "    </tr>\n",
       "    <tr>\n",
       "      <th>2</th>\n",
       "      <td>2</td>\n",
       "      <td>-15*x - 7</td>\n",
       "      <td>1</td>\n",
       "      <td>-x² + x - 6</td>\n",
       "    </tr>\n",
       "    <tr>\n",
       "      <th>3</th>\n",
       "      <td>3</td>\n",
       "      <td>-1511/225</td>\n",
       "      <td>x/15 + 23/225</td>\n",
       "      <td>-x³/15 - 8*x²/225 - 67*x/225 + 29/75</td>\n",
       "    </tr>\n",
       "    <tr>\n",
       "      <th>4</th>\n",
       "      <td>4</td>\n",
       "      <td>0</td>\n",
       "      <td>*</td>\n",
       "      <td>*</td>\n",
       "    </tr>\n",
       "  </tbody>\n",
       "</table>\n",
       "</div>"
      ],
      "text/plain": [
       "   k                     r_k(x)         s_k(x)  \\\n",
       "0  0  x⁴ + x³ - 2*x² + 3*x - 43              1   \n",
       "1  1               x² + 2*x - 6              0   \n",
       "2  2                  -15*x - 7              1   \n",
       "3  3                  -1511/225  x/15 + 23/225   \n",
       "4  4                          0              *   \n",
       "\n",
       "                                 t_k(x)  \n",
       "0                                     0  \n",
       "1                                     1  \n",
       "2                           -x² + x - 6  \n",
       "3  -x³/15 - 8*x²/225 - 67*x/225 + 29/75  \n",
       "4                                     *  "
      ]
     },
     "execution_count": 17,
     "metadata": {},
     "output_type": "execute_result"
    }
   ],
   "source": [
    "df_results.head(10)"
   ]
  },
  {
   "cell_type": "markdown",
   "metadata": {},
   "source": [
    "# Inverse of mod"
   ]
  },
  {
   "cell_type": "code",
   "execution_count": 20,
   "metadata": {},
   "outputs": [
    {
     "data": {
      "text/plain": [
       "5"
      ]
     },
     "execution_count": 20,
     "metadata": {},
     "output_type": "execute_result"
    }
   ],
   "source": [
    "mod_inverse(5,6)"
   ]
  },
  {
   "cell_type": "markdown",
   "metadata": {},
   "source": [
    "# Chinese remainder therom"
   ]
  },
  {
   "cell_type": "code",
   "execution_count": 21,
   "metadata": {},
   "outputs": [
    {
     "name": "stdout",
     "output_type": "stream",
     "text": [
      "x ≡ 68 (mod 105)\n"
     ]
    }
   ],
   "source": [
    "from sympy.ntheory.modular import crt\n",
    "\n",
    "# Define the moduli\n",
    "moduli = [3, 5, 7]\n",
    "\n",
    "# Define the remainders\n",
    "remainders = [2, 3, 5]\n",
    "\n",
    "# Solve using the Chinese Remainder Theorem\n",
    "solution, modulus = crt(moduli, remainders)\n",
    "\n",
    "# Print the solution\n",
    "print(f\"x ≡ {solution} (mod {modulus})\")"
   ]
  },
  {
   "cell_type": "markdown",
   "metadata": {},
   "source": [
    "# Problem: Equivalent Sets\n",
    "\n",
    "**conjugated** of a set. Given a universal set $U$, the **conjugated** of a set $A \\subseteq U$ is the set of all elements in $U$ that are not in $A$. Formally:\n",
    "\n",
    "$$\n",
    "\\overline{A} = \\{ x \\in U : x \\notin A \\}\n",
    "$$\n",
    "\n",
    "\n",
    "## Question:\n",
    "Given a universal set $ U $, which of the following sets are equal to $ \\overline{A \\cap (B \\cup C)} $?\n",
    "\n",
    "### Options:\n",
    "1. $ \\text{None of these} $\n",
    "2. $ (A \\cap (B \\cup C)) - U $\n",
    "3. $ \\overline{A} \\cap (\\overline{B} \\cup \\overline{C}) $\n",
    "4. $ A \\cup (B \\cap C) $\n",
    "5. $ (U - (A \\cap B)) \\cap (U - (A \\cap C)) $"
   ]
  },
  {
   "cell_type": "markdown",
   "metadata": {},
   "source": [
    "### Answer:\n",
    "**Step 1: Start with the given expression**\n",
    "\n",
    "$$\n",
    "\\overline{A \\cap (B \\cup C)}\n",
    "$$\n",
    "\n",
    "**Step 2: Apply De Morgan's Laws**\n",
    "\n",
    "Using De Morgan's law:\n",
    "$$\n",
    "\\overline{X \\cap Y} = \\overline{X} \\cup \\overline{Y}\n",
    "$$\n",
    "we can rewrite:\n",
    "$$\n",
    "\\overline{A \\cap (B \\cup C)} = \\overline{A} \\cup \\overline{B \\cup C}\n",
    "$$\n",
    "\n",
    "Now apply De Morgan's law again to $\\overline{B \\cup C}$:\n",
    "$$\n",
    "\\overline{B \\cup C} = \\overline{B} \\cap \\overline{C}\n",
    "$$\n",
    "\n",
    "So we have:\n",
    "$$\n",
    "\\overline{A \\cap (B \\cup C)} = \\overline{A} \\cup (\\overline{B} \\cap \\overline{C})\n",
    "$$\n",
    "\n",
    "This is our simplified form.\n",
    "\n",
    "**Step 3: Compare with the given options**\n",
    "\n",
    "1. **None of these:** We should check all other options first.\n",
    "\n",
    "2. $(A \\cap (B \\cup C)) - U$:\n",
    "\n",
    "   Subtracting the universal set $U$ from any set results in the empty set. Thus:\n",
    "   $$\n",
    "   (A \\cap (B \\cup C)) - U = \\emptyset\n",
    "   $$\n",
    "   This clearly doesn't match $\\overline{A \\cap (B \\cup C)}$.\n",
    "\n",
    "3. $\\overline{A} \\cap (\\overline{B} \\cup \\overline{C})$:\n",
    "\n",
    "   Our derived form is $\\overline{A} \\cup (\\overline{B} \\cap \\overline{C})$. Notice that:\n",
    "   $$\n",
    "   \\overline{A} \\cup (\\overline{B} \\cap \\overline{C}) \\neq \\overline{A} \\cap (\\overline{B} \\cup \\overline{C})\n",
    "   $$\n",
    "   They are not the same due to the difference in how unions and intersections distribute.\n",
    "\n",
    "4. $A \\cup (B \\cap C)$:\n",
    "\n",
    "   This doesn't match the complement form we have. Substituting a few test cases quickly shows it doesn't align with $\\overline{A \\cap (B \\cup C)}$.\n",
    "\n",
    "5. $(U - (A \\cap B)) \\cap (U - (A \\cap C))$:\n",
    "\n",
    "   Let's rewrite this using complements. Since $U - X = \\overline{X}$, we get:\n",
    "   $$\n",
    "   (U - (A \\cap B)) \\cap (U - (A \\cap C)) = \\overline{A \\cap B} \\cap \\overline{A \\cap C}\n",
    "   $$\n",
    "\n",
    "   Apply De Morgan's law to each:\n",
    "   $$\n",
    "   \\overline{A \\cap B} = \\overline{A} \\cup \\overline{B}\n",
    "   $$\n",
    "   $$\n",
    "   \\overline{A \\cap C} = \\overline{A} \\cup \\overline{C}\n",
    "   $$\n",
    "\n",
    "   Substitute these back:\n",
    "   $$\n",
    "   (\\overline{A} \\cup \\overline{B}) \\cap (\\overline{A} \\cup \\overline{C})\n",
    "   $$\n",
    "\n",
    "   Now use the distributive law:\n",
    "   $$\n",
    "   (\\overline{A} \\cup \\overline{B}) \\cap (\\overline{A} \\cup \\overline{C}) = \\overline{A} \\cup (\\overline{B} \\cap \\overline{C})\n",
    "   $$\n",
    "\n",
    "   This matches exactly with our simplified form of $\\overline{A \\cap (B \\cup C)}$.\n",
    "\n",
    "**Conclusion:**\n",
    "\n",
    "Option 5 is exactly equal to $\\overline{A \\cap (B \\cup C)}$.\n",
    "\n",
    "---\n",
    "\n",
    "# Final Answer\n",
    "\n",
    "$$\n",
    "\\boxed{(U - (A \\cap B)) \\cap (U - (A \\cap C))}\n",
    "$$\n",
    "\n",
    "Thus, the correct choice is **Option 5**."
   ]
  },
  {
   "cell_type": "markdown",
   "metadata": {},
   "source": [
    "# Permutations"
   ]
  },
  {
   "cell_type": "markdown",
   "metadata": {},
   "source": [
    "Consider all permutations of abcde.\n",
    "1. How many do not contain abc?\n",
    "2. How many contain ab or bc?\n",
    "3. How many contain ab or bc but not abc?"
   ]
  },
  {
   "cell_type": "code",
   "execution_count": 22,
   "metadata": {},
   "outputs": [
    {
     "name": "stdout",
     "output_type": "stream",
     "text": [
      "114\n",
      "42\n",
      "36\n"
     ]
    }
   ],
   "source": [
    "from itertools import permutations\n",
    "\n",
    "# All permutations of 'abcde'\n",
    "p = permutations('abcde')\n",
    "p_list = list(p)\n",
    "\n",
    "# Filter permutations not containing 'abc'\n",
    "no_abc = [perm for perm in p_list if 'abc' not in ''.join(perm)]\n",
    "print(len(no_abc))\n",
    "\n",
    "# Filter permutations containing 'ab' or 'bc'\n",
    "ab_bc = [perm for perm in p_list if 'ab' in ''.join(perm) or 'bc' in ''.join(perm)]\n",
    "print(len(ab_bc))\n",
    "\n",
    "# Filter permutations containing 'ab' or 'bc' but not 'abc'\n",
    "ab_bc_no_abc = [perm for perm in ab_bc if 'abc' not in ''.join(perm)]\n",
    "print(len(ab_bc_no_abc))\n"
   ]
  },
  {
   "cell_type": "markdown",
   "metadata": {},
   "source": [
    "# Coefficients"
   ]
  },
  {
   "cell_type": "markdown",
   "metadata": {},
   "source": [
    "The coefficient of $x^7 \\cdot y^2$ in $(2x+3y)^9$ is:"
   ]
  },
  {
   "cell_type": "code",
   "execution_count": 23,
   "metadata": {},
   "outputs": [
    {
     "data": {
      "text/plain": [
       "{2: 9, 3: 4}"
      ]
     },
     "execution_count": 23,
     "metadata": {},
     "output_type": "execute_result"
    }
   ],
   "source": [
    "# Define the variables\n",
    "x, y = symbols('x y')\n",
    "\n",
    "# Define the expression\n",
    "expr = (2*x + 3*y)**9\n",
    "\n",
    "# Expand the expression\n",
    "expanded_expr = expand(expr)\n",
    "\n",
    "# Extract the coefficient of x^7 * y^2\n",
    "coefficient = expanded_expr.coeff(x**7 * y**2)\n",
    "\n",
    "# Factorize the coefficient\n",
    "factorized_coefficient = factorint(coefficient)\n",
    "factorized_coefficient\n"
   ]
  },
  {
   "cell_type": "markdown",
   "metadata": {},
   "source": [
    "## If it doesn't work use Binomial Theorem (Manual Approach):\n",
    "\n",
    "### General Term in the Expansion of $ (2x + 3y)^9 $\n",
    "\n",
    "The general term in the expansion of $ (2x + 3y)^9 $ is given by:\n",
    "\n",
    "$$\n",
    "T_k = \\binom{9}{k} \\cdot (2x)^{9-k} \\cdot (3y)^k\n",
    "$$\n",
    "\n",
    "---\n",
    "\n",
    "For $ x^7 \\cdot y^2 $, we have:\n",
    "\n",
    "$$\n",
    "9 - k = 7 \\implies k = 2\n",
    "$$\n",
    "\n",
    "---\n",
    "\n",
    "### Substitute $ k = 2 $:\n",
    "\n",
    "The coefficient of $ x^7 \\cdot y^2 $ is:\n",
    "\n",
    "$$\n",
    "\\text{Coefficient} = \\binom{9}{2} \\cdot (2)^7 \\cdot (3)^2\n",
    "$$\n",
    "\n",
    "### Step 2: Substitute $ k = 2 $\n",
    "\n",
    "The coefficient of $ x^7 y^2 $ is:\n",
    "\n",
    "$$\n",
    "\\text{Coefficient} = \\binom{9}{2} \\cdot (2)^7 \\cdot (3)^2\n",
    "$$\n",
    "\n",
    "---\n",
    "\n",
    "### Step 3: Compute Each Part\n",
    "\n",
    "1. **Binomial Coefficient:**\n",
    "   $$\n",
    "   \\binom{9}{2} = \\frac{9 \\cdot 8}{2} = 36\n",
    "   $$\n",
    "\n",
    "2. **Power of 2:**\n",
    "   $$\n",
    "   (2)^7 = 128\n",
    "   $$\n",
    "\n",
    "3. **Power of 3:**\n",
    "   $$\n",
    "   (3)^2 = 9\n",
    "   $$\n",
    "\n",
    "4. **Combine All:**\n",
    "   $$\n",
    "   \\text{Coefficient} = 36 \\cdot 128 \\cdot 9\n",
    "   $$\n",
    "\n",
    "---\n",
    "\n",
    "### Step 4: Simplify the Expression\n",
    "\n",
    "Simplify step-by-step:\n",
    "\n",
    "1. Multiply:\n",
    "   $$\n",
    "   36 \\cdot 128 = 4608\n",
    "   $$\n",
    "2. Multiply further:\n",
    "   $$\n",
    "   4608 \\cdot 9 = 41472\n",
    "   $$\n",
    "\n",
    "This simplifies in terms of powers of 2 and 3:\n",
    "$$\n",
    "41472 = 2^9 \\cdot 3^4\n",
    "$$\n",
    "\n"
   ]
  },
  {
   "cell_type": "markdown",
   "metadata": {},
   "source": [
    "# Number of derangements\n",
    "Let $ D_n $ denote the number of derangements of $ n $ objects. For instance, $ D_3 = 2 $, because the derangements of $ 123 $ are $ 231 $ and $ 312 $. We will evaluate $ D_n $ for all positive integers $ n $ using the principle of inclusion–exclusion.\n",
    "\n",
    "---\n",
    "\n",
    "## **Theorem 2**\n",
    "\n",
    "The number of derangements of a set with $ n $ elements is:\n",
    "\n",
    "$$\n",
    "D_n = n! \\left[ 1 - \\frac{1}{1!} + \\frac{1}{2!} - \\frac{1}{3!} + \\cdots + (-1)^n \\frac{1}{n!} \\right].\n",
    "$$"
   ]
  },
  {
   "cell_type": "code",
   "execution_count": 24,
   "metadata": {},
   "outputs": [],
   "source": [
    "import math\n",
    "def derangement_formula(n):\n",
    "    \"\"\" Calculate the number of derangements using the direct formula. \"\"\"\n",
    "    derangements = math.factorial(n) * sum(((-1) ** k) / math.factorial(k) for k in range(n + 1))\n",
    "    return int(derangements)"
   ]
  },
  {
   "cell_type": "code",
   "execution_count": 25,
   "metadata": {},
   "outputs": [
    {
     "data": {
      "text/plain": [
       "265"
      ]
     },
     "execution_count": 25,
     "metadata": {},
     "output_type": "execute_result"
    }
   ],
   "source": [
    "derangement_formula(6)"
   ]
  },
  {
   "cell_type": "markdown",
   "metadata": {},
   "source": [
    "# Cube graph"
   ]
  },
  {
   "cell_type": "code",
   "execution_count": 26,
   "metadata": {},
   "outputs": [
    {
     "name": "stdout",
     "output_type": "stream",
     "text": [
      "Number of edges in a 4-cube: 32\n"
     ]
    }
   ],
   "source": [
    "def count_edges_in_n_cube(n):\n",
    "    # Number of edges in the n-cube graph\n",
    "    return n * (2 ** (n - 1))\n",
    "\n",
    "# Example: Edges in a 3-cube\n",
    "n = 4\n",
    "print(f\"Number of edges in a {n}-cube: {count_edges_in_n_cube(n)}\")\n"
   ]
  },
  {
   "cell_type": "markdown",
   "metadata": {},
   "source": [
    "# Min number sum (pigeonhole principle)"
   ]
  },
  {
   "cell_type": "code",
   "execution_count": 27,
   "metadata": {},
   "outputs": [],
   "source": [
    "from itertools import combinations\n",
    "\n",
    "def guaranteed_selection_count(target, numbers):\n",
    "    # Step 1: Find all subsets whose sum equals the target\n",
    "    target_subsets = []\n",
    "    for r in range(1, len(numbers) + 1):\n",
    "        for subset in combinations(numbers, r):\n",
    "            if sum(subset) == target:\n",
    "                target_subsets.append(set(subset))\n",
    "\n",
    "    # If no subset sums to the target, no finite number will guarantee it.\n",
    "    if not target_subsets:\n",
    "        return float('inf')  # or len(numbers) + 1, depending on your preference\n",
    "\n",
    "    # Step 2: Find the maximum subset of 'numbers' that does NOT contain any target-sum subset fully\n",
    "    # We'll brute force all subsets of 'numbers' and check.\n",
    "    # For each candidate subset, we must ensure it does not include any of the target_subsets fully.\n",
    "    # i.e., For every target_subset T, candidate_subset should not be a superset of T.\n",
    "\n",
    "    max_safe_size = 0\n",
    "    n = len(numbers)\n",
    "    for r in range(n + 1):\n",
    "        for candidate in combinations(numbers, r):\n",
    "            candidate_set = set(candidate)\n",
    "            # Check if candidate_set fully contains any target_subset\n",
    "            if any(t_subset.issubset(candidate_set) for t_subset in target_subsets):\n",
    "                # This candidate is not safe because it contains a full target-sum subset\n",
    "                continue\n",
    "            # If it passes all checks, update max_safe_size\n",
    "            max_safe_size = max(max_safe_size, r)\n",
    "\n",
    "    # Step 3: Once you exceed max_safe_size by 1, you guarantee forming a target subset\n",
    "    return max_safe_size + 1\n"
   ]
  },
  {
   "cell_type": "code",
   "execution_count": 28,
   "metadata": {},
   "outputs": [
    {
     "name": "stdout",
     "output_type": "stream",
     "text": [
      "Minimum number of selections needed to guarantee a sum of 16: 5\n"
     ]
    }
   ],
   "source": [
    "# Example usage:\n",
    "numbers = [1, 3, 5, 7, 9, 11, 13, 15]\n",
    "target = 16\n",
    "count = guaranteed_selection_count(target, numbers)\n",
    "print(f\"Minimum number of selections needed to guarantee a sum of {target}: {count}\")"
   ]
  },
  {
   "cell_type": "code",
   "execution_count": 29,
   "metadata": {},
   "outputs": [
    {
     "name": "stdout",
     "output_type": "stream",
     "text": [
      "Minimum number of selections needed to guarantee a sum of 7: 4\n"
     ]
    }
   ],
   "source": [
    "# Example usage:\n",
    "numbers = [1, 2, 3, 4, 5, 6]\n",
    "target = 7\n",
    "count = guaranteed_selection_count(target, numbers)\n",
    "print(f\"Minimum number of selections needed to guarantee a sum of {target}: {count}\")"
   ]
  },
  {
   "cell_type": "markdown",
   "metadata": {},
   "source": [
    "# Relation\n",
    "**Reflexive:** A binary relation $ R $ on a set $ A $ is called *reflexive* if every element in $ A $ is related to itself. Formally, for every $ a \\in A $,\n",
    "$$\n",
    "(a, a) \\in R.\n",
    "$$\n",
    "\n",
    "**Symmetric:** A binary relation $ R $ on a set $ A $ is *symmetric* if whenever $ a $ is related to $ b $, then $ b $ is also related to $ a $. Formally, for every $ a, b \\in A $,\n",
    "$$\n",
    "(a, b) \\in R \\implies (b, a) \\in R.\n",
    "$$\n",
    "\n",
    "**Antisymmetric:** A binary relation $ R $ on a set $ A $ is *antisymmetric* if the only way for both $ a $ to be related to $ b $ and $ b $ to be related to $ a $ to hold simultaneously is when $ a = b $. Formally, for every $ a, b \\in A $,\n",
    "$$\n",
    "(a, b) \\in R \\text{ and } (b, a) \\in R \\implies a = b.\n",
    "$$\n",
    "\n",
    "**Transitive:** A binary relation $ R $ on a set $ A $ is *transitive* if whenever $ a $ is related to $ b $ and $ b $ is related to $ c $, then $ a $ must also be related to $ c $. Formally, for every $ a, b, c \\in A $,\n",
    "$$\n",
    "(a, b) \\in R \\text{ and } (b, c) \\in R \\implies (a, c) \\in R.\n",
    "$$\n"
   ]
  },
  {
   "cell_type": "markdown",
   "metadata": {},
   "source": [
    "# Sets and subset sizes"
   ]
  },
  {
   "cell_type": "code",
   "execution_count": null,
   "metadata": {},
   "outputs": [
    {
     "data": {
      "text/plain": [
       "(3535316142212174320, 1152921504606846976, 604462909807314587353088)"
      ]
     },
     "execution_count": 32,
     "metadata": {},
     "output_type": "execute_result"
    }
   ],
   "source": [
    "from sympy import binomial, S\n",
    "\n",
    "# Total set size\n",
    "n = 80\n",
    "\n",
    "# Question 1: Subsets of size exactly 20\n",
    "subsets_size_20 = binomial(n, 20)\n",
    "\n",
    "# Question 2: Subsets with no element greater than 60\n",
    "subsets_no_greater_than_60 = 2**60  # 60 elements can form all possible subsets\n",
    "\n",
    "# Question 3: Subsets with an even number of elements\n",
    "subsets_even_elements = sum(binomial(n, k) for k in range(0, n + 1, 2))\n",
    "\n",
    "subsets_size_20, subsets_no_greater_than_60, subsets_even_elements\n"
   ]
  },
  {
   "cell_type": "markdown",
   "metadata": {},
   "source": [
    "604462909807314587353088 = $2^{79}$"
   ]
  },
  {
   "cell_type": "markdown",
   "metadata": {},
   "source": []
  }
 ],
 "metadata": {
  "kernelspec": {
   "display_name": "DTUMisc",
   "language": "python",
   "name": "python3"
  },
  "language_info": {
   "codemirror_mode": {
    "name": "ipython",
    "version": 3
   },
   "file_extension": ".py",
   "mimetype": "text/x-python",
   "name": "python",
   "nbconvert_exporter": "python",
   "pygments_lexer": "ipython3",
   "version": "3.11.10"
  }
 },
 "nbformat": 4,
 "nbformat_minor": 2
}
