{
 "cells": [
  {
   "cell_type": "markdown",
   "metadata": {},
   "source": [
    "# Assignment 1"
   ]
  },
  {
   "cell_type": "markdown",
   "metadata": {},
   "source": [
    "How many elements are in $A_1 \\cup A_2$ if there are 12 elements in A1, 18 elements in A2, and\n",
    "\n",
    "**a)** $A_1 \\cap A_2 = \\varnothing$, vi har $12 + 18 = 30$\n",
    "\n",
    "**b)** $|A_1 \\cap A_2 = 1|$, vi har $12 + 18 - 1 = 29$\n",
    "\n",
    "**c)** $|A_1 \\cap A_2 = 6|$, vi har $12 + 18 - 6 = 24$\n",
    "\n",
    "**d)** $|A_1 \\subseteq A_2?|$, vi har $12 + 18 - 12 = 18$"
   ]
  },
  {
   "cell_type": "markdown",
   "metadata": {},
   "source": [
    "# Assignment 5\n",
    "Find the number of elements in $A_1 \\cup A_2 \\cup A_3$ if there\n",
    "are 100 elements in each set and if\n",
    "\n",
    "**a)** the sets are pairwise disjoint. (No value is equal): We then have $100 \\cdot 3 = 300$\n",
    "\n",
    "**b)** there are 50 common elements in each pair of sets and\n",
    "no elements in all three sets: We then have $100 \\cdot 3 - 50 \\cdot 3 = 150$\n",
    "\n",
    "**c)** there are 50 common elements in each pair of sets and\n",
    "25 elements in all three sets: We then have $100 \\cdot 3 - 50 \\cdot 3 + 25 = 175$\n",
    "\n",
    "**d)** the sets are equal: We then have $300 \\cdot 3 - 100 \\cdot 3 + 100 = 100$"
   ]
  },
  {
   "cell_type": "markdown",
   "metadata": {},
   "source": [
    "# Assignment 9\n",
    "How many students are enrolled in a course either in calculus, discrete mathematics, data structures, or programming languages at a school if there are 507, 292, 312,\n",
    "and 344 students in these courses, respectively; 14 in\n",
    "both calculus and data structures; 213 in both calculus\n",
    "and programming languages; 211 in both discrete mathematics and data structures; 43 in both discrete mathematics and programming languages; and no student may\n",
    "take calculus and discrete mathematics, or data structures\n",
    "and programming languages, concurrently?"
   ]
  },
  {
   "cell_type": "markdown",
   "metadata": {},
   "source": [
    "We have:\n",
    "\n",
    "c = 507\n",
    "\n",
    "dm = 292\n",
    "\n",
    "ds = 312\n",
    "\n",
    "p = 344\n",
    "\n",
    "$c \\cap ds = 14$\n",
    "\n",
    "$c \\cap p = 213$\n",
    "\n",
    "$dm \\cap ds = 211$\n",
    "\n",
    "$dm \\cap p = 43$\n",
    "\n",
    "Now we can write our formula based on theorem 1\n",
    "![image.png](../../../misc/images/discrete-math/6/5/theorem1.png)\n",
    "We note that \"no student may\n",
    "take calculus and discrete mathematics, or data structures\n",
    "and programming languages, concurrently\" which means we only need to include the union of two."
   ]
  },
  {
   "cell_type": "code",
   "execution_count": 48,
   "metadata": {},
   "outputs": [
    {
     "data": {
      "text/plain": [
       "974"
      ]
     },
     "execution_count": 48,
     "metadata": {},
     "output_type": "execute_result"
    }
   ],
   "source": [
    "507+292+312+344 - (14 + 213 + 211 + 43)"
   ]
  },
  {
   "cell_type": "markdown",
   "metadata": {},
   "source": [
    "# Assignment 11\n",
    "Find the number of positive integers not exceeding 1000\n",
    "that are not divisible by 3, 17, or 35."
   ]
  },
  {
   "cell_type": "markdown",
   "metadata": {},
   "source": [
    "To do this we will first find the ones that are divisible by 3, 17, or 35."
   ]
  },
  {
   "cell_type": "code",
   "execution_count": 49,
   "metadata": {},
   "outputs": [],
   "source": [
    "a = 1000//3 + 1000//17 + 1000//35 - (1000//(3*17) + 1000//(3*35) + 1000//(17* 35)) + 1000//(3*17*35)"
   ]
  },
  {
   "cell_type": "code",
   "execution_count": 50,
   "metadata": {},
   "outputs": [
    {
     "data": {
      "text/plain": [
       "610"
      ]
     },
     "execution_count": 50,
     "metadata": {},
     "output_type": "execute_result"
    }
   ],
   "source": [
    "1000 - a"
   ]
  },
  {
   "cell_type": "markdown",
   "metadata": {},
   "source": [
    "# Assignment 15\n",
    "How many bit strings of length eight do not contain six\n",
    "consecutive 0s?"
   ]
  },
  {
   "cell_type": "markdown",
   "metadata": {},
   "source": [
    "We know that we have a bit in the form:\n",
    "\n",
    "00 00 00 00\n",
    "\n",
    "We now note that we can have:\n",
    "\n",
    "a = xy 00 00 00\n",
    "\n",
    "b = 00 00 00 xy\n",
    "\n",
    "c = x0 00 00 0y\n",
    "\n",
    "We have four solutions each time which is $4 \\cdot 3 = 12$. So now we need to find how many that does not contain six consecutive 0s, we first need to find the total possible states which is $2^8$. But this over counts as we have the same states more time, so we subtract those. We now have:\n",
    "\n",
    "$a \\cap b = 1$\n",
    "\n",
    "$a \\cap c = 2$\n",
    "\n",
    "$b \\cap c = 2$\n",
    "\n",
    "$a \\cap b \\cap c = 1$\n",
    "\n",
    "We can now use the formula:\n",
    "$$\n",
    "|A_1 \\cup A_2 \\cup A_3| = |A_1| + |A_2| + |A_3| - |A_1 \\cap A_2| - |A_1 \\cap A_3| - |A_2 \\cap A_3| + |A_1 \\cap A_2 \\cap A_3|\n",
    "$$"
   ]
  },
  {
   "cell_type": "code",
   "execution_count": 51,
   "metadata": {},
   "outputs": [
    {
     "data": {
      "text/plain": [
       "8"
      ]
     },
     "execution_count": 51,
     "metadata": {},
     "output_type": "execute_result"
    }
   ],
   "source": [
    "12 - 5 + 1"
   ]
  },
  {
   "cell_type": "markdown",
   "metadata": {},
   "source": [
    "We note that it is do not contain six\n",
    "consecutive 0s?"
   ]
  },
  {
   "cell_type": "code",
   "execution_count": 52,
   "metadata": {},
   "outputs": [
    {
     "data": {
      "text/plain": [
       "248"
      ]
     },
     "execution_count": 52,
     "metadata": {},
     "output_type": "execute_result"
    }
   ],
   "source": [
    "2**8 - 8"
   ]
  },
  {
   "cell_type": "markdown",
   "metadata": {},
   "source": [
    "# Assignment 23\n",
    "Write out the explicit formula given by the principle of\n",
    "inclusion–exclusion for the number of elements in the\n",
    "union of six sets when it is known that no three of these\n",
    "sets have a common intersection."
   ]
  },
  {
   "cell_type": "markdown",
   "metadata": {},
   "source": [
    "$$\n",
    "|A_1 \\cup A_2 \\cup A_3 \\cup A_4 \\cup A_5 \\cup A_6| = |A_1| + |A_2| + |A_3| + |A_4| + |A_5| + |A_6| \\newline - |A_1 \\cap A_2| - |A_1 \\cap A_3| - |A_1 \\cap A_4| - |A_1 \\cap A_5| - |A_1 \\cap A_6|  \\newline - |A_2 \\cap A_3| - |A_2 \\cap A_4| - |A_2 \\cap A_5| - |A_2 \\cap A_6| - |A_3 \\cap A_4| \n",
    "\\newline - |A_3 \\cap A_5| - |A_3 \\cap A_6| - |A_4 \\cap A_5| - |A_4 \\cap A_6| - |A_5 \\cap A_6|\n",
    "$$\n"
   ]
  }
 ],
 "metadata": {
  "kernelspec": {
   "display_name": "DTUMisc",
   "language": "python",
   "name": "python3"
  },
  "language_info": {
   "codemirror_mode": {
    "name": "ipython",
    "version": 3
   },
   "file_extension": ".py",
   "mimetype": "text/x-python",
   "name": "python",
   "nbconvert_exporter": "python",
   "pygments_lexer": "ipython3",
   "version": "3.11.10"
  }
 },
 "nbformat": 4,
 "nbformat_minor": 2
}
