{
 "cells": [
  {
   "cell_type": "code",
   "execution_count": 103,
   "metadata": {},
   "outputs": [],
   "source": [
    "from sympy import *"
   ]
  },
  {
   "cell_type": "markdown",
   "metadata": {},
   "source": [
    "# Opgave 1: Intro til lineære ligningssystemer med SymPy\n",
    "\n",
    "## Spørgsmål a\n",
    "\n",
    "\n",
    "#### Find den reduceret trappe form med python funktionen DinMatrix.rref()"
   ]
  },
  {
   "cell_type": "markdown",
   "metadata": {},
   "source": [
    "Totalmatricen $T__$1 \n",
    " til det første lineære ligningssystem kan defineres i Sympy på følgende måde:$ T1=Matrix([[1,1,1,1],[1,2,4,1],[1,3,9,1]]$). Afprøv kommmandoen. For at se matricen \n",
    " på dit skærm, behøver du blot at skrive T1. For at beregne \n",
    "’s reducerede trappeform kan man skrive$ T1.rref($). Bemærk at “rref” blot er en forkortelse af “reduced row echelon form”. Hvordan skal outputtet fortolkes)"
   ]
  },
  {
   "cell_type": "code",
   "execution_count": 104,
   "metadata": {},
   "outputs": [
    {
     "data": {
      "text/plain": [
       "(Matrix([\n",
       " [1, 0, 0, 1],\n",
       " [0, 1, 0, 0],\n",
       " [0, 0, 1, 0]]),\n",
       " (0, 1, 2))"
      ]
     },
     "execution_count": 104,
     "metadata": {},
     "output_type": "execute_result"
    }
   ],
   "source": [
    "# Intialise matrix with this structure.\n",
    "# Here we initialise the matrix\n",
    "# _         _\n",
    "# | 1 1 1 1 |\n",
    "# | 1 2 4 1 |\n",
    "# | 1 3 9 1 |\n",
    "T1=Matrix([[1,1,1,1],[1,2,4,1],[1,3,9,1]])\n",
    "\n",
    "# Here we use the .rref() to fine the reduced row echelon form.\n",
    "T1.rref()"
   ]
  },
  {
   "cell_type": "markdown",
   "metadata": {},
   "source": [
    "## Spørgsmål b\n",
    "\n",
    "#### Brug af $linsolve(DinMatrix1, DinMatrix2)$\n",
    "\n",
    "Ud fra T1’s reducerede trappeform kan løsningen til lineær ligningssystem nr. 1., direkte aflæses. Man kan også løse systemet direkte i Sympy. Først skal man definere systemets koefficientmatrix A=Matrix([[1,1,1],[1,2,4],[1,3,9]]) $og systemets højreside b$=Matrix([[1],[1],[1]]).$ Afprøv nu kommandoen l$insolve((A,b)) $og fortolk outputtet.$"
   ]
  },
  {
   "cell_type": "code",
   "execution_count": 105,
   "metadata": {},
   "outputs": [
    {
     "data": {
      "text/latex": [
       "$\\displaystyle \\left\\{\\left( 1, \\  0, \\  0\\right)\\right\\}$"
      ],
      "text/plain": [
       "{(1, 0, 0)}"
      ]
     },
     "execution_count": 105,
     "metadata": {},
     "output_type": "execute_result"
    }
   ],
   "source": [
    "# Write your \"Totalmatrix\" a your \"coefficient matrix\" as A and then your write your \"Konstantsøjlen\" as small b\n",
    "A_1 = Matrix([[1,1,1], [1,2,4], [1,3,9]])\n",
    "b_1 = Matrix([[1], [1], [1]])\n",
    "\n",
    "# Then use this as to solve the matrix and get your unknown variables\n",
    "linsolve((A_1,b_1))"
   ]
  },
  {
   "cell_type": "markdown",
   "metadata": {},
   "source": [
    "## Spørgsmål c\n",
    "\n",
    "Prøv nu selv at gå igennem de samme trin som i spørgsmål a og b, men nu for ligningssystem nr 2. Hvilke søjler af totalmatricens reducerede trappeform indeholder et pivot-element? Hvad er systemets løsningsmængde?"
   ]
  },
  {
   "cell_type": "code",
   "execution_count": 106,
   "metadata": {},
   "outputs": [
    {
     "data": {
      "text/plain": [
       "(Matrix([\n",
       " [1, 0, -2, 1],\n",
       " [0, 1,  3, 0],\n",
       " [0, 0,  0, 0]]),\n",
       " (0, 1))"
      ]
     },
     "execution_count": 106,
     "metadata": {},
     "output_type": "execute_result"
    }
   ],
   "source": [
    "# Here we difine a your \"Totalmatrix\"\n",
    "T2=Matrix([[1,1,1,1],[1,2,4,1],[1,3,7,1]])\n",
    "# Then again here we define our coefficientMatrix\n",
    "A_2=Matrix([[1,1,1],[1,2,4], [1,3,7]])\n",
    "b_2=Matrix([[1],[1],[1]])\n",
    "\n",
    "T2.rref()"
   ]
  },
  {
   "cell_type": "code",
   "execution_count": 107,
   "metadata": {},
   "outputs": [
    {
     "data": {
      "text/latex": [
       "$\\displaystyle \\left\\{\\left( 2 \\tau_{0} + 1, \\  - 3 \\tau_{0}, \\  \\tau_{0}\\right)\\right\\}$"
      ],
      "text/plain": [
       "{(2*tau0 + 1, -3*tau0, tau0)}"
      ]
     },
     "execution_count": 107,
     "metadata": {},
     "output_type": "execute_result"
    }
   ],
   "source": [
    "linsolve((A_2,b_2))\n"
   ]
  },
  {
   "cell_type": "markdown",
   "metadata": {},
   "source": [
    "## Spørgsmål d\n",
    "Gør nu det samme en gang til, men nu for ligningsssytem nr 3. Hvilke søjler af totalmatricens reducerede trappeform indeholder et pivot-element? Hvad er systemets løsningsmængde?"
   ]
  },
  {
   "cell_type": "code",
   "execution_count": 108,
   "metadata": {},
   "outputs": [
    {
     "data": {
      "text/plain": [
       "(Matrix([\n",
       " [1, 0, -2, 0],\n",
       " [0, 1,  3, 0],\n",
       " [0, 0,  0, 1]]),\n",
       " (0, 1, 3))"
      ]
     },
     "execution_count": 108,
     "metadata": {},
     "output_type": "execute_result"
    }
   ],
   "source": [
    "T3=Matrix([[1,1,1,1],[1,2,4,1],[1,3,7,0]])\n",
    "A_3=Matrix([[1,1,1],[1,2,4],[1,3,7]])\n",
    "b_3=Matrix([[1],[1],[0]])\n",
    "\n",
    "T3.rref()"
   ]
  },
  {
   "cell_type": "code",
   "execution_count": 109,
   "metadata": {},
   "outputs": [
    {
     "data": {
      "text/latex": [
       "$\\displaystyle \\emptyset$"
      ],
      "text/plain": [
       "EmptySet"
      ]
     },
     "execution_count": 109,
     "metadata": {},
     "output_type": "execute_result"
    }
   ],
   "source": [
    "linsolve((A_3,b_3))"
   ]
  },
  {
   "cell_type": "markdown",
   "metadata": {},
   "source": [
    "Sympy angiver svaret $\\emptyset$, altså løsningsmængden er tom."
   ]
  },
  {
   "cell_type": "markdown",
   "metadata": {},
   "source": [
    "# Opgave 2: Linearkombinationer"
   ]
  },
  {
   "cell_type": "markdown",
   "metadata": {},
   "source": [
    "$$\n",
    "u =\n",
    "\\begin{bmatrix}\n",
    "4 \\\\\n",
    "-2 \\\\\n",
    "0\n",
    "\\end{bmatrix}\n",
    ", v =\n",
    "\\begin{bmatrix}\n",
    "7 \\\\\n",
    "4 \\\\\n",
    "3 \\\\\n",
    "\\end{bmatrix}\n",
    ", w =\n",
    "\\begin{bmatrix}\n",
    "1 \\\\\n",
    "7 \\\\\n",
    "3 \\\\\n",
    "\\end{bmatrix}\n",
    "$$\n"
   ]
  },
  {
   "cell_type": "markdown",
   "metadata": {},
   "source": [
    "**Spørgsmål A)**\n",
    "Beregn i hånden følgende linearkombinationer af de tre vektorer u, v og w.\n",
    "\n",
    "1. 4v\n",
    "2. 2u - 3w\n",
    "3. 3u - 2v + 2w\n"
   ]
  },
  {
   "cell_type": "markdown",
   "metadata": {},
   "source": [
    "1:\n",
    "$$\n",
    "4v = \n",
    "\n",
    "\\begin{bmatrix}\n",
    "7 \\cdot 4 \\\\\n",
    "4 \\cdot 4 \\\\\n",
    "3 \\cdot 4\n",
    "\\end{bmatrix}\n",
    "\n",
    "=\n",
    "\n",
    "\\begin{bmatrix}\n",
    "28 \\\\\n",
    "16 \\\\\n",
    "12\n",
    "\\end{bmatrix}\n",
    "$$\n",
    "\n",
    "2:\n",
    "$$\n",
    "2u =\n",
    "\n",
    "\\begin{bmatrix}\n",
    "8  \\\\\n",
    "-4 \\\\\n",
    "0\n",
    "\\end{bmatrix}\n",
    "\n",
    "3w =\n",
    "\n",
    "\\begin{bmatrix}\n",
    "3  \\\\\n",
    "21 \\\\\n",
    "9\n",
    "\\end{bmatrix}\n",
    "\n",
    "\\newline\n",
    "\n",
    "2u - 3w =\n",
    "\n",
    "\\begin{bmatrix}\n",
    "8 - 3  \\\\\n",
    "-4 - 21 \\\\\n",
    "0 - 9\n",
    "\\end{bmatrix}\n",
    "\n",
    "= \n",
    "\n",
    "\\begin{bmatrix}\n",
    "5  \\\\\n",
    "-25 \\\\\n",
    "-9\n",
    "\\end{bmatrix}\n",
    "\n",
    "$$\n",
    "\n",
    "3:\n",
    "$$\n",
    "3u = \n",
    "\\begin{bmatrix}\n",
    "12 \\\\\n",
    "-6 \\\\\n",
    "0\n",
    "\\end{bmatrix},\n",
    "\n",
    "2v =\n",
    "\\begin{bmatrix}\n",
    "14 \\\\\n",
    "8 \\\\\n",
    "6\n",
    "\\end{bmatrix},\n",
    "\n",
    "2w =\n",
    "\\begin{bmatrix}\n",
    "2 \\\\\n",
    "14 \\\\\n",
    "6\n",
    "\\end{bmatrix},\n",
    "\n",
    "\\newline\n",
    "3u - 2v + 2w =\n",
    "\\begin{bmatrix}\n",
    "12 - 14 + 2 \\\\\n",
    "-6 - 8 + 14 \\\\\n",
    "0 - 6 + 6\n",
    "\\end{bmatrix}\n",
    "\n",
    "=\n",
    "\n",
    "\\begin{bmatrix}\n",
    "0 \\\\\n",
    "0 \\\\\n",
    "0\n",
    "\\end{bmatrix}\n",
    "$$"
   ]
  },
  {
   "cell_type": "markdown",
   "metadata": {},
   "source": [
    "### Spørgsmål b\n",
    "Afgør om vektorerne u,v og w er lineært uafhængige baseret på svarene fra spørgsmål a.\n",
    "\n",
    "#### svar:\n",
    "De er ikke lineære uafhængige, som vi fandt da vi udregnede 3 ligning, som viser at vi kan få den tilhørende nulvektor som beskrevet i ligning (7-4) fra noterne."
   ]
  },
  {
   "cell_type": "markdown",
   "metadata": {},
   "source": [
    "### Spørgsmål c\n",
    "Vis at vektorerne u og v er lineært uafhængige.\n",
    "\n",
    "#### Svar:\n",
    "Vi skriver denne ligning op i sin totalmatrix form:\n",
    "$$\n",
    "c_1 \\cdot u + c_2 \\cdot v = \\begin{bmatrix} 0 \\\\ 0 \\\\ 0 \\end{bmatrix}\n",
    "$$"
   ]
  },
  {
   "cell_type": "code",
   "execution_count": 110,
   "metadata": {},
   "outputs": [
    {
     "data": {
      "text/latex": [
       "$\\displaystyle \\left[\\begin{matrix}4 c_{1} + 7 c_{2}\\\\- 2 c_{1} + 4 c_{2}\\\\3 c_{2}\\end{matrix}\\right]$"
      ],
      "text/plain": [
       "Matrix([\n",
       "[ 4*c_1 + 7*c_2],\n",
       "[-2*c_1 + 4*c_2],\n",
       "[         3*c_2]])"
      ]
     },
     "execution_count": 110,
     "metadata": {},
     "output_type": "execute_result"
    }
   ],
   "source": [
    "c_1, c_2 = symbols(('c_1', 'c_2'))\n",
    "u = Matrix([4,-2,0])\n",
    "v = Matrix([7,4,3])\n",
    "T = Matrix([c_1 * u + c_2 * v])\n",
    "T"
   ]
  },
  {
   "cell_type": "code",
   "execution_count": 111,
   "metadata": {},
   "outputs": [
    {
     "data": {
      "text/latex": [
       "$\\displaystyle \\left\\{\\left( 0, \\  0\\right)\\right\\}$"
      ],
      "text/plain": [
       "{(0, 0)}"
      ]
     },
     "execution_count": 111,
     "metadata": {},
     "output_type": "execute_result"
    }
   ],
   "source": [
    "eq1 = Eq(T[0], 0)\n",
    "eq2 = Eq(T[1], 0)\n",
    "eq3 = Eq(T[2], 0)\n",
    "\n",
    "linsolve((eq1, eq2, eq3), (c_1, c_2))"
   ]
  },
  {
   "cell_type": "markdown",
   "metadata": {},
   "source": [
    "Da c_1 = c_2 = 0, ergo er de lineært uafhængige."
   ]
  },
  {
   "cell_type": "markdown",
   "metadata": {},
   "source": [
    "# Opgave 3\n",
    "Der opgives følgende tre vektorer i $\\mathbb{R}^4$:\n",
    "$$\n",
    "u = \\begin{bmatrix} 1 \\\\ 1 \\\\ 0 \\\\ 0 \\end{bmatrix}, \\quad\n",
    "v = \\begin{bmatrix} 0 \\\\ 1 \\\\ 1 \\\\ 0 \\end{bmatrix}, \\quad\n",
    "w = \\begin{bmatrix} 0 \\\\ 0 \\\\ 1 \\\\ 1 \\end{bmatrix}\n",
    "$$\n"
   ]
  },
  {
   "cell_type": "code",
   "execution_count": 112,
   "metadata": {},
   "outputs": [],
   "source": [
    "u = Matrix([1,1,0,0])\n",
    "v = Matrix([0,1,1,0])\n",
    "w = Matrix([0,0,1,1])"
   ]
  },
  {
   "cell_type": "markdown",
   "metadata": {},
   "source": [
    "### Spørgsmål a\n",
    "Vis at vektorerne u, v og w er lineært uafhængige."
   ]
  },
  {
   "cell_type": "markdown",
   "metadata": {},
   "source": [
    "For at vise tre matrixer er lineære uafhængige skal de kunne beskrives som:\n",
    "\n",
    "$$\n",
    "c_1 \\cdot u + c_2 \\cdot v + c_3 \\cdot w = \\begin{bmatrix} 0 \\\\ 0 \\\\ 0 \\end{bmatrix}\n",
    "$$"
   ]
  },
  {
   "cell_type": "code",
   "execution_count": 113,
   "metadata": {},
   "outputs": [
    {
     "data": {
      "text/latex": [
       "$\\displaystyle \\left[\\begin{matrix}c_{1}\\\\c_{1} + c_{2}\\\\c_{2} + c_{3}\\\\c_{3}\\end{matrix}\\right]$"
      ],
      "text/plain": [
       "Matrix([\n",
       "[      c_1],\n",
       "[c_1 + c_2],\n",
       "[c_2 + c_3],\n",
       "[      c_3]])"
      ]
     },
     "execution_count": 113,
     "metadata": {},
     "output_type": "execute_result"
    }
   ],
   "source": [
    "c_1, c_2, c_3 = symbols(('c_1', 'c_2', 'c_3'))\n",
    "T = Matrix([c_1 * u + c_2 * v + c_3 * w])\n",
    "T"
   ]
  },
  {
   "cell_type": "code",
   "execution_count": 114,
   "metadata": {},
   "outputs": [
    {
     "data": {
      "text/latex": [
       "$\\displaystyle \\left\\{\\left( 0, \\  0, \\  0\\right)\\right\\}$"
      ],
      "text/plain": [
       "{(0, 0, 0)}"
      ]
     },
     "execution_count": 114,
     "metadata": {},
     "output_type": "execute_result"
    }
   ],
   "source": [
    "eq1 = Eq(T[0], 0)\n",
    "eq2 = Eq(T[1], 0)\n",
    "eq3 = Eq(T[2], 0)\n",
    "\n",
    "linsolve((eq1, eq2, eq3), (c_1, c_2, c_3))"
   ]
  },
  {
   "cell_type": "markdown",
   "metadata": {},
   "source": [
    "### Spørgsmål b\n",
    "Find en vektor $b \\in \\mathbb{R}^4$ således at vektorerne u, v, w og b er lineært uafhængige."
   ]
  },
  {
   "cell_type": "markdown",
   "metadata": {},
   "source": [
    "#### Svar:\n",
    "Vi kan observere at hvis vi vælger at:\n",
    "$$\n",
    "b = \n",
    "\\begin{bmatrix}\n",
    "0 \\\\\n",
    "0 \\\\\n",
    "0 \\\\\n",
    "1\n",
    "\\end{bmatrix}\n",
    "$$\n",
    "\n",
    "så gælder det at:"
   ]
  },
  {
   "cell_type": "code",
   "execution_count": 115,
   "metadata": {},
   "outputs": [
    {
     "data": {
      "text/latex": [
       "$\\displaystyle \\left[\\begin{matrix}c_{1}\\\\c_{1} + c_{2}\\\\c_{2} + c_{3}\\\\c_{3} + c_{4}\\end{matrix}\\right]$"
      ],
      "text/plain": [
       "Matrix([\n",
       "[      c_1],\n",
       "[c_1 + c_2],\n",
       "[c_2 + c_3],\n",
       "[c_3 + c_4]])"
      ]
     },
     "execution_count": 115,
     "metadata": {},
     "output_type": "execute_result"
    }
   ],
   "source": [
    "b = Matrix([0, 0, 0, 1])\n",
    "c_1, c_2, c_3, c_4 = symbols(('c_1', 'c_2', 'c_3', 'c_4'))\n",
    "T = Matrix([c_1 * u + c_2 * v + c_3 * w + c_4 * b])\n",
    "T"
   ]
  },
  {
   "cell_type": "code",
   "execution_count": 116,
   "metadata": {},
   "outputs": [
    {
     "data": {
      "text/latex": [
       "$\\displaystyle \\left\\{\\left( 0, \\  0, \\  0, \\  0\\right)\\right\\}$"
      ],
      "text/plain": [
       "{(0, 0, 0, 0)}"
      ]
     },
     "execution_count": 116,
     "metadata": {},
     "output_type": "execute_result"
    }
   ],
   "source": [
    "eq1 = Eq(T[0], 0)\n",
    "eq2 = Eq(T[1], 0)\n",
    "eq3 = Eq(T[2], 0)\n",
    "eq4 = Eq(T[3], 0)\n",
    "\n",
    "linsolve((eq1, eq2, eq3, eq4), (c_1, c_2, c_3, c_4))"
   ]
  },
  {
   "cell_type": "markdown",
   "metadata": {},
   "source": [
    "Som vi kan se er denne matrix altså korrekt."
   ]
  },
  {
   "cell_type": "markdown",
   "metadata": {},
   "source": [
    "### Spørgsmål c\n",
    "Antag at $c \\in \\mathbb{R}^4$ opfylder at vektorerne u, v, w og c er lineært uafhængige. Vis, at i så fald kan vektor c ikke skrives som en linearkombination af u, v og w."
   ]
  },
  {
   "cell_type": "markdown",
   "metadata": {},
   "source": [
    "#### Svar\n",
    "For at vise dette skal vi bruge egenskaben ved lineær uafhængighed. Hvis vektorerne $ \\mathbf{u}, \\mathbf{v}, \\mathbf{w} $ og $ \\mathbf{c} $ er lineært uafhængige, betyder det, at ingen af dem kan udtrykkes som en linearkombination af de andre.\n",
    "\n",
    "#### Argumentation\n",
    "\n",
    "Hvis vi antager, at $ \\mathbf{c} $ kan skrives som en linearkombination af $ \\mathbf{u}, \\mathbf{v} $ og $ \\mathbf{w} $, så findes der skalarer $ c_1, c_2, c_3 \\in \\mathbb{R} $, således at:\n",
    "\n",
    "$$\n",
    "\\mathbf{c} = c_1 \\cdot \\mathbf{u} + c_2 \\cdot \\mathbf{v} + c_3 \\cdot \\mathbf{w}\n",
    "$$\n",
    "\n",
    "Dette kan omskrives til:\n",
    "\n",
    "$$\n",
    "\\mathbf{c} - c_1 \\cdot \\mathbf{u} - c_2 \\cdot \\mathbf{v} - c_3 \\cdot \\mathbf{w} = \\begin{bmatrix} 0 \\\\ 0 \\\\ 0 \\\\ 0 \\end{bmatrix}\n",
    "$$\n",
    "\n",
    "Denne ligning viser, at hvis $ \\mathbf{c} $ kan udtrykkes som en linearkombination af $ \\mathbf{u}, \\mathbf{v} $ og $ \\mathbf{w} $, så vil der eksistere en ikke-triviel linearkombination, hvor summen af de vægtede vektorer giver nulvektoren.\n",
    "\n",
    "#### Konklusion\n",
    "\n",
    "Men dette er i modstrid med antagelsen om, at $ \\mathbf{u}, \\mathbf{v}, \\mathbf{w} $ og $ \\mathbf{c} $ er lineært uafhængige, da lineært uafhængige vektorer kun kan opfylde nulvektor-ligningen, når alle koefficienter er nul. Derfor kan $ \\mathbf{c} $ ikke skrives som en linearkombination af $ \\mathbf{u}, \\mathbf{v} $ og $ \\mathbf{w} $."
   ]
  }
 ],
 "metadata": {
  "kernelspec": {
   "display_name": "DTUMisc",
   "language": "python",
   "name": "python3"
  },
  "language_info": {
   "codemirror_mode": {
    "name": "ipython",
    "version": 3
   },
   "file_extension": ".py",
   "mimetype": "text/x-python",
   "name": "python",
   "nbconvert_exporter": "python",
   "pygments_lexer": "ipython3",
   "version": "3.11.10"
  }
 },
 "nbformat": 4,
 "nbformat_minor": 2
}
