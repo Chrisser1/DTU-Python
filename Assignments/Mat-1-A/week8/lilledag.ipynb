{
 "cells": [
  {
   "cell_type": "code",
   "execution_count": 2,
   "metadata": {},
   "outputs": [],
   "source": [
    "from sympy import *"
   ]
  },
  {
   "cell_type": "markdown",
   "metadata": {},
   "source": [
    "# Opgave 1: Transponerede matricer\n",
    "\n",
    "Beregn\n",
    "$$\n",
    "\\begin{bmatrix}\n",
    "1 & 2 \\\\\n",
    "3 & 4 \\\\\n",
    "5 & 6\n",
    "\\end{bmatrix}^T\n",
    "$$"
   ]
  },
  {
   "cell_type": "code",
   "execution_count": 3,
   "metadata": {},
   "outputs": [
    {
     "data": {
      "text/latex": [
       "$\\displaystyle \\left[\\begin{matrix}1 & 2\\\\3 & 4\\\\5 & 6\\end{matrix}\\right]$"
      ],
      "text/plain": [
       "Matrix([\n",
       "[1, 2],\n",
       "[3, 4],\n",
       "[5, 6]])"
      ]
     },
     "execution_count": 3,
     "metadata": {},
     "output_type": "execute_result"
    }
   ],
   "source": [
    "a = Matrix([[1,2], [3,4], [5,6]])\n",
    "a"
   ]
  },
  {
   "cell_type": "code",
   "execution_count": 4,
   "metadata": {},
   "outputs": [
    {
     "data": {
      "text/latex": [
       "$\\displaystyle \\left[\\begin{matrix}1 & 3 & 5\\\\2 & 4 & 6\\end{matrix}\\right]$"
      ],
      "text/plain": [
       "Matrix([\n",
       "[1, 3, 5],\n",
       "[2, 4, 6]])"
      ]
     },
     "execution_count": 4,
     "metadata": {},
     "output_type": "execute_result"
    }
   ],
   "source": [
    "a.transpose()"
   ]
  },
  {
   "cell_type": "markdown",
   "metadata": {},
   "source": [
    "# Opgave 2: Determinanter\n",
    "Givet er følgende matrix:\n",
    "$$\n",
    "A = \n",
    "\\begin{bmatrix}\n",
    "1 & 3 & 5 \\\\\n",
    "2 & 4 & 6 \\\\\n",
    "3 & 0 & 0\n",
    "\\end{bmatrix}\n",
    "$$"
   ]
  },
  {
   "cell_type": "code",
   "execution_count": 5,
   "metadata": {},
   "outputs": [
    {
     "data": {
      "text/latex": [
       "$\\displaystyle \\left[\\begin{matrix}1 & 3 & 5\\\\2 & 4 & 6\\\\3 & 0 & 0\\end{matrix}\\right]$"
      ],
      "text/plain": [
       "Matrix([\n",
       "[1, 3, 5],\n",
       "[2, 4, 6],\n",
       "[3, 0, 0]])"
      ]
     },
     "execution_count": 5,
     "metadata": {},
     "output_type": "execute_result"
    }
   ],
   "source": [
    "A = Matrix([[1,3,5],[2,4,6],[3,0,0]])\n",
    "A"
   ]
  },
  {
   "cell_type": "markdown",
   "metadata": {},
   "source": [
    "## Spørgsmål a\n",
    "Beregn matricerne A(1;1), A(2;1) og A(3;1) og deres determinanter."
   ]
  },
  {
   "cell_type": "markdown",
   "metadata": {},
   "source": [
    "### Svar\n",
    "For at finde determinaten gør vi følgende:\n",
    "\n",
    "$$\n",
    "A(1;1) =\n",
    "\\begin{bmatrix}\n",
    "\\times & \\times & \\times \\\\\n",
    "\\times & 4 & 6 \\\\\n",
    "\\times & 0 & 0\n",
    "\\end{bmatrix} =\n",
    "\\begin{bmatrix}\n",
    "4 & 6 \\\\\n",
    "0 & 0\n",
    "\\end{bmatrix} \n",
    "$$\n",
    "\n",
    "$$\n",
    "A(2;1) =\n",
    "\\begin{bmatrix}\n",
    "\\times & 3 & 5 \\\\\n",
    "\\times & \\times & \\times \\\\\n",
    "\\times & 0 & 0\n",
    "\\end{bmatrix} =\n",
    "\\begin{bmatrix}\n",
    "3 & 5 \\\\\n",
    "0 & 0\n",
    "\\end{bmatrix} \n",
    "$$\n",
    "\n",
    "$$\n",
    "A(3;1) =\n",
    "\\begin{bmatrix}\n",
    "\\times & 3 & 5 \\\\\n",
    "\\times & 4 & 6 \\\\\n",
    "\\times & \\times & \\times\n",
    "\\end{bmatrix} =\n",
    "\\begin{bmatrix}\n",
    "3 & 5 \\\\\n",
    "4 & 6\n",
    "\\end{bmatrix} \n",
    "$$\n",
    "\n",
    "Nu vil vi udregne deres determinanter:\n",
    "Benyttes bogstaver a, b, c og d som matricens elementer, kan vi skrive dette som:\n",
    "$$\n",
    "det(\\begin{bmatrix} a & b \\\\ c & d\\end{bmatrix}) = ad - bc\n",
    "$$\n",
    "\n",
    "\n",
    "$$\n",
    "det(A(1;1)) = \n",
    "4 \\cdot 0 - 6 \\cdot 0  = 0\n",
    "$$\n",
    "\n",
    "$$\n",
    "det(A(2;1)) = \n",
    "3 \\cdot 0 - 5 \\cdot 0  = 0\n",
    "$$\n",
    "\n",
    "$$\n",
    "det(A(3;1)) = \n",
    "3 \\cdot 6 - 5 \\cdot 4  = -2\n",
    "$$"
   ]
  },
  {
   "cell_type": "markdown",
   "metadata": {},
   "source": [
    "## Spørgsmål b\n",
    "Beregn det(A) i hånden ved at bruge Definition 8.1.2 fra noterne. Med andre ord: beregn det(A) ved at udvikle determinanten efter den 1. søjle.\n",
    "\n",
    "![image.png](../../../misc/images/definitions/8.1.2.png)"
   ]
  },
  {
   "cell_type": "markdown",
   "metadata": {},
   "source": [
    "### Svar:\n",
    "Vi følger ligningen:\n",
    "$$\n",
    "det(A) = A[1][1] \\cdot det(A(1;1)) - A[2][1] \\cdot det(A(2;1)) + A[3][1] \\cdot det(A(3;1))\n",
    "$$\n",
    "\n",
    "$$\n",
    "= 1 \\cdot 0 - 2 \\cdot 0 + 3 \\cdot -2 = -6\n",
    "$$"
   ]
  },
  {
   "cell_type": "markdown",
   "metadata": {},
   "source": [
    "## Spørgsmål c\n",
    "Beregn matricerne A(2;1), A(2;2) og A(2;3) og deres determinanter."
   ]
  },
  {
   "cell_type": "markdown",
   "metadata": {},
   "source": [
    "### Svar:\n",
    "$$\n",
    "A(2;1) =\n",
    "\\begin{bmatrix}\n",
    "\\times & 3 & 5 \\\\\n",
    "\\times & \\times & \\times \\\\\n",
    "\\times & 0 & 0\n",
    "\\end{bmatrix} =\n",
    "\\begin{bmatrix}\n",
    "3 & 5 \\\\\n",
    "0 & 0\n",
    "\\end{bmatrix} \n",
    "$$\n",
    "\n",
    "$$\n",
    "A(2;2) =\n",
    "\\begin{bmatrix}\n",
    "1 & \\times & 5 \\\\\n",
    "\\times & \\times & \\times \\\\\n",
    "3 & \\times & 0\n",
    "\\end{bmatrix} =\n",
    "\\begin{bmatrix}\n",
    "1 & 5 \\\\\n",
    "3 & 0\n",
    "\\end{bmatrix} \n",
    "$$\n",
    "\n",
    "$$\n",
    "A(2;3) =\n",
    "\\begin{bmatrix}\n",
    "1 & 3 & \\times \\\\\n",
    "\\times & \\times & \\times \\\\\n",
    "3 & 0 & \\times\n",
    "\\end{bmatrix} =\n",
    "\\begin{bmatrix}\n",
    "1 & 3 \\\\\n",
    "3 & 0\n",
    "\\end{bmatrix} \n",
    "$$\n",
    "\n",
    "Nu vil vi udregne deres determinanter:\n",
    "$$\n",
    "det(A(2;1)) = \n",
    "3 \\cdot 0 - 5 \\cdot 0  = 0\n",
    "$$\n",
    "\n",
    "$$\n",
    "det(A(2;2)) = \n",
    "1 \\cdot 0 - 5 \\cdot 3  = -15\n",
    "$$\n",
    "\n",
    "$$\n",
    "det(A(2;3)) = \n",
    "1 \\cdot 0 - 3 \\cdot 3  = -9\n",
    "$$"
   ]
  },
  {
   "cell_type": "markdown",
   "metadata": {},
   "source": [
    "## Spørgsmål d\n",
    "Vi følger ligningen:\n",
    "$$\n",
    "det(A) = - A[2][1] \\cdot det(A(2;1)) + A[2][2] \\cdot det(A(2;1)) - A[2][3] \\cdot det(A(2;3))\n",
    "$$\n",
    "\n",
    "$$\n",
    "= -2 \\cdot 0 + 4 \\cdot -15 - 6 \\cdot -9 = -6\n",
    "$$"
   ]
  },
  {
   "cell_type": "markdown",
   "metadata": {},
   "source": [
    "## Spørgsmål e\n",
    "I dette tilfælde er det bekvemt at udvikle determinanten efter matricens tredje række. Hvorfor?"
   ]
  },
  {
   "cell_type": "markdown",
   "metadata": {},
   "source": [
    "### Svar:\n",
    "På grund af de mange nuller i matricens tredje række gælder:\n",
    "$$\n",
    "det(A) = 3 \\cdot det(A(3;1)) = 3 \\cdot (3 \\cdot 6 - 4 \\cdot 5) = -6\n",
    "$$"
   ]
  },
  {
   "cell_type": "markdown",
   "metadata": {},
   "source": [
    "# Spørgsmål f\n",
    "Til sidst, beregn det(A) i SymPy."
   ]
  },
  {
   "cell_type": "code",
   "execution_count": 6,
   "metadata": {},
   "outputs": [
    {
     "data": {
      "text/latex": [
       "$\\displaystyle -6$"
      ],
      "text/plain": [
       "-6"
      ]
     },
     "execution_count": 6,
     "metadata": {},
     "output_type": "execute_result"
    }
   ],
   "source": [
    "A.det()"
   ]
  },
  {
   "cell_type": "markdown",
   "metadata": {},
   "source": [
    "# Opgave 3: Determinanter og lineært uafhængighed\n",
    "Givet er følgende fire vektorer i $\\mathbb{C}^4$:\n",
    "$$\n",
    "v_1 =\n",
    "\\begin{bmatrix}\n",
    "1 \\\\\n",
    "1 \\\\\n",
    "0 \\\\\n",
    "i\n",
    "\\end{bmatrix}, \n",
    "\n",
    "v_2 =\n",
    "\\begin{bmatrix}\n",
    "4 + i \\\\\n",
    "1 \\\\\n",
    "-i \\\\\n",
    "0\n",
    "\\end{bmatrix}, \n",
    "\n",
    "v_3 =\n",
    "\\begin{bmatrix}\n",
    "1 + i \\\\\n",
    "1 - i \\\\\n",
    "5i \\\\\n",
    "-7\n",
    "\\end{bmatrix}, \n",
    "\n",
    "v_4 =\n",
    "\\begin{bmatrix}\n",
    "-6 \\\\\n",
    "0 \\\\\n",
    "7i \\\\\n",
    "-8 + i\n",
    "\\end{bmatrix}\n",
    "$$\n",
    "\n",
    "Brug Corollary 8.3.5 fra noterne til at afgøre om vektorerne $v_1, v_2, v_3$ og $v_4$ er lineært uafhængige eller ej. SymPy kan bruges til at beregne determinanter.\n",
    "\n",
    "![image.png](../../../misc/images/collaries/8.3.5.png)"
   ]
  },
  {
   "cell_type": "markdown",
   "metadata": {},
   "source": [
    "### Svar:\n",
    "Vi starter med at indskrive matrixerne i kode:"
   ]
  },
  {
   "cell_type": "code",
   "execution_count": 7,
   "metadata": {},
   "outputs": [],
   "source": [
    "v1 = Matrix([1,1,0,I])\n",
    "v2 = Matrix([4 + I,1,-I,0])\n",
    "v3 = Matrix([1 + I,1 - I,5 * I,-7])\n",
    "v4 = Matrix([-6,0,7 * I,-8 + I])"
   ]
  },
  {
   "cell_type": "markdown",
   "metadata": {},
   "source": [
    "Nu kan vi tjekke om de er lineære uafhængige:"
   ]
  },
  {
   "cell_type": "code",
   "execution_count": 8,
   "metadata": {},
   "outputs": [
    {
     "data": {
      "text/latex": [
       "$\\displaystyle \\left[\\begin{matrix}1 & 4 + i & 1 + i & -6\\\\1 & 1 & 1 - i & 0\\\\0 & - i & 5 i & 7 i\\\\i & 0 & -7 & -8 + i\\end{matrix}\\right]$"
      ],
      "text/plain": [
       "Matrix([\n",
       "[1, 4 + I, 1 + I,     -6],\n",
       "[1,     1, 1 - I,      0],\n",
       "[0,    -I,   5*I,    7*I],\n",
       "[I,     0,    -7, -8 + I]])"
      ]
     },
     "execution_count": 8,
     "metadata": {},
     "output_type": "execute_result"
    }
   ],
   "source": [
    "T = Matrix.hstack(v1,v2,v3,v4)\n",
    "T"
   ]
  },
  {
   "cell_type": "code",
   "execution_count": 9,
   "metadata": {},
   "outputs": [
    {
     "data": {
      "text/latex": [
       "$\\displaystyle 0$"
      ],
      "text/plain": [
       "0"
      ]
     },
     "execution_count": 9,
     "metadata": {},
     "output_type": "execute_result"
    }
   ],
   "source": [
    "T.det()"
   ]
  },
  {
   "cell_type": "markdown",
   "metadata": {},
   "source": [
    "Da vi har fundet determinanten til at være lig med 0 er de lineært afhængige."
   ]
  },
  {
   "cell_type": "markdown",
   "metadata": {},
   "source": [
    "# Opgave 4: Lineært afhængighed\n",
    "Givet er vektorerne\n",
    "$$\n",
    "u_1 =\n",
    "\\begin{bmatrix}\n",
    "1 \\\\\n",
    "1 \\\\\n",
    "-6\n",
    "\\end{bmatrix},\n",
    "\n",
    "u_2 =\n",
    "\\begin{bmatrix}\n",
    "1 \\\\\n",
    "1 \\\\\n",
    "a\n",
    "\\end{bmatrix},\n",
    "\n",
    "u_3 =\n",
    "\\begin{bmatrix}\n",
    "a \\\\\n",
    "-2 \\\\\n",
    "0\n",
    "\\end{bmatrix}\n",
    "$$\n",
    "\n",
    "hvor $a \\in \\mathbb{R}$ er en konstant. Bestem i hånden alle værdier af konstanten a således at vektorerne $u_1, u_2$ og $u_3$ er lineært afhængige."
   ]
  },
  {
   "cell_type": "code",
   "execution_count": 10,
   "metadata": {},
   "outputs": [],
   "source": [
    "a = symbols('a')\n",
    "u1 = Matrix([1,1,-6])\n",
    "u2 = Matrix([1,1,a])\n",
    "u3 = Matrix([a,-2,0])"
   ]
  },
  {
   "cell_type": "markdown",
   "metadata": {},
   "source": [
    "### Svar:\n",
    "Vi gør brug af collary 8.3.5:\n",
    "![image.png](../../../misc/images/collaries/8.3.5.png)"
   ]
  },
  {
   "cell_type": "code",
   "execution_count": 11,
   "metadata": {},
   "outputs": [
    {
     "data": {
      "text/latex": [
       "$\\displaystyle \\left[\\begin{matrix}1 & 1 & a\\\\1 & 1 & -2\\\\-6 & a & 0\\end{matrix}\\right]$"
      ],
      "text/plain": [
       "Matrix([\n",
       "[ 1, 1,  a],\n",
       "[ 1, 1, -2],\n",
       "[-6, a,  0]])"
      ]
     },
     "execution_count": 11,
     "metadata": {},
     "output_type": "execute_result"
    }
   ],
   "source": [
    "T = Matrix.hstack(u1,u2,u3)\n",
    "T"
   ]
  },
  {
   "cell_type": "code",
   "execution_count": 12,
   "metadata": {},
   "outputs": [
    {
     "data": {
      "text/latex": [
       "$\\displaystyle a^{2} + 8 a + 12$"
      ],
      "text/plain": [
       "a**2 + 8*a + 12"
      ]
     },
     "execution_count": 12,
     "metadata": {},
     "output_type": "execute_result"
    }
   ],
   "source": [
    "T.det()"
   ]
  },
  {
   "cell_type": "markdown",
   "metadata": {},
   "source": [
    "$$\n",
    "A(1;1) =\n",
    "\\begin{bmatrix}\n",
    "\\times & \\times & \\times \\\\\n",
    "\\times & 1 & -2 \\\\\n",
    "\\times & a & 0\n",
    "\\end{bmatrix} =\n",
    "\\begin{bmatrix}\n",
    "1 & -2 \\\\\n",
    "a & 0\n",
    "\\end{bmatrix} \n",
    "$$\n",
    "\n",
    "$$\n",
    "A(2;1) =\n",
    "\\begin{bmatrix}\n",
    "\\times & 1 & a \\\\\n",
    "\\times & \\times & \\times \\\\\n",
    "\\times & a & 0\n",
    "\\end{bmatrix} =\n",
    "\\begin{bmatrix}\n",
    "1 & a \\\\\n",
    "a & 0\n",
    "\\end{bmatrix} \n",
    "$$\n",
    "\n",
    "$$\n",
    "A(3;1) =\n",
    "\\begin{bmatrix}\n",
    "\\times & 1 & a \\\\\n",
    "\\times & 1 & -2 \\\\\n",
    "\\times & \\times & \\times\n",
    "\\end{bmatrix} =\n",
    "\\begin{bmatrix}\n",
    "1 & a \\\\\n",
    "1 & -2\n",
    "\\end{bmatrix} \n",
    "$$\n",
    "\n",
    "Nu vil vi udregne deres determinanter:\n",
    "Benyttes bogstaver a, b, c og d som matricens elementer, kan vi skrive dette som:\n",
    "$$\n",
    "det(\\begin{bmatrix} a & b \\\\ c & d\\end{bmatrix}) = ad - bc\n",
    "$$\n",
    "\n",
    "\n",
    "$$\n",
    "det(A(1;1)) = \n",
    "1 \\cdot 0 - (-2) \\cdot a  = 2a\n",
    "$$\n",
    "\n",
    "$$\n",
    "det(A(2;1)) = \n",
    "1 \\cdot 0 - a \\cdot a  = -a^2\n",
    "$$\n",
    "\n",
    "$$\n",
    "det(A(3;1)) = \n",
    "1 \\cdot -2 - a \\cdot 1  = -2 - a\n",
    "$$\n",
    "\n",
    "Vi løser nu ligningen:\n",
    "$$\n",
    "det(A) = A[1][1] \\cdot det(A(1;1)) - A[2][1] \\cdot det(A(2;1)) + A[3][1] \\cdot det(A(3;1))\n",
    "$$\n",
    "\n",
    "$$\n",
    "= 1 \\cdot 2a - 1 \\cdot -a^2 + (-6) \\cdot (-2 - a) = 2a + a^2 + 12 + 6a = a^2 + 8a + 12\n",
    "$$"
   ]
  },
  {
   "cell_type": "markdown",
   "metadata": {},
   "source": [
    "Vi løser 2 grads ligningen: \n"
   ]
  },
  {
   "cell_type": "code",
   "execution_count": 13,
   "metadata": {},
   "outputs": [
    {
     "name": "stdout",
     "output_type": "stream",
     "text": [
      "a1 = -6, a2 = -2\n"
     ]
    }
   ],
   "source": [
    "a, b, c = 1, 8, 12\n",
    "D = b**2 - 4*a*c\n",
    "\n",
    "a1 = (-b - sqrt(D))/(2*a)\n",
    "a2 = (-b + sqrt(D))/(2*a)\n",
    "\n",
    "print(f\"a1 = {a1}, a2 = {a2}\")"
   ]
  },
  {
   "cell_type": "markdown",
   "metadata": {},
   "source": [
    "Vi har nu at $a \\in \\{-6, -2\\}$"
   ]
  },
  {
   "cell_type": "markdown",
   "metadata": {},
   "source": [
    "# Opgave 5: Kvadratiske transponerede matricer\n",
    "Det vides fra Theorem 7.2.2 i noterne at $(A \\cdot B)^T = B^T \\cdot A^T$ for alle $A^T \\in \\mathbb{F}^{m \\times n}$ og $B^T \\in \\mathbb{F}^{n \\times t}$. Betegnelsen $\\mathbb{F}$ står for \n",
    "$\\mathbb{R}$ eller $\\mathbb{C}$.\n",
    "\n",
    "![image.png](../../../misc/images/theorems/7.2.2.png)\n",
    "\n",
    "## Spørgsmål a\n",
    "Konkluder at $(A \\cdot B)^T = B^T \\cdot A^T$ for alle $A, B  \\in \\mathbb{F}^{n \\times m}$.\n"
   ]
  },
  {
   "cell_type": "markdown",
   "metadata": {},
   "source": [
    "### Svar\n",
    "Lad $A$ og $B$ være to matricer i $\\mathbb{F}^{n \\times m}$. Vi har at:\n",
    "\n",
    "1. **Udgangspunkt i Theorem 7.2.2**: Ifølge Theorem 7.2.2 gælder det, at for alle $A \\in \\mathbb{F}^{m \\times n}$ og $B \\in \\mathbb{F}^{n \\times t}$ er $(A \\cdot B)^T = B^T \\cdot A^T$.\n",
    "2. **Anvendelse for kvadratiske matricer**: For at anvende denne regel på tilfældet, hvor både $A$ og $B$ er elementer i $\\mathbb{F}^{n \\times m}$, kan vi specificere, at $m = n$, hvilket gør $A$ og $B$ til kvadratiske matricer.\n",
    "3. **Konklusion**: Derfor, når $A, B \\in \\mathbb{F}^{n \\times n}$, gælder $(A \\cdot B)^T = B^T \\cdot A^T$, fordi vi kan anvende samme regel direkte for kvadratiske matricer, hvor $A$ og $B$ har de samme dimensioner.\n",
    "\n",
    "Dette følger af, at egenskaben i Theorem 7.2.2 holder for alle $m$ og $n$, inklusive tilfældet, hvor $m = n$."
   ]
  },
  {
   "cell_type": "markdown",
   "metadata": {},
   "source": [
    "## Spørgsmål b\n",
    "Antag at matricen $A \\in \\mathbb{F}^{n \\times n}$\n",
    " og at \n",
    ". Brug resultatet fra spørgsmål a til at indse at \n"
   ]
  },
  {
   "cell_type": "code",
   "execution_count": null,
   "metadata": {},
   "outputs": [
    {
     "data": {
      "text/latex": [
       "$\\displaystyle -2$"
      ],
      "text/plain": [
       "-2"
      ]
     },
     "execution_count": 14,
     "metadata": {},
     "output_type": "execute_result"
    }
   ],
   "source": [
    "a = Matrix([[2,1,0,-1],[-2,0,-1,1],[2,1,1,-1],[-2,0,1,0]])\n",
    "a.det()"
   ]
  },
  {
   "cell_type": "code",
   "execution_count": 24,
   "metadata": {},
   "outputs": [
    {
     "data": {
      "text/latex": [
       "$\\displaystyle \\left[\\begin{matrix}1 & 0 & -1\\\\0 & -1 & 1\\\\1 & 1 & -1\\end{matrix}\\right]$"
      ],
      "text/plain": [
       "Matrix([\n",
       "[1,  0, -1],\n",
       "[0, -1,  1],\n",
       "[1,  1, -1]])"
      ]
     },
     "execution_count": 24,
     "metadata": {},
     "output_type": "execute_result"
    }
   ],
   "source": [
    "b = Matrix([[1,0,-1],[0,-1,1],[1,1,-1]])\n",
    "b"
   ]
  },
  {
   "cell_type": "code",
   "execution_count": 27,
   "metadata": {},
   "outputs": [
    {
     "data": {
      "text/plain": [
       "True"
      ]
     },
     "execution_count": 27,
     "metadata": {},
     "output_type": "execute_result"
    }
   ],
   "source": [
    "2 * 1 - (-2) * 0 + 2 * -1 - 2 * 1 == 2 -2 - 2"
   ]
  },
  {
   "cell_type": "code",
   "execution_count": null,
   "metadata": {},
   "outputs": [],
   "source": []
  }
 ],
 "metadata": {
  "kernelspec": {
   "display_name": "DTUMisc",
   "language": "python",
   "name": "python3"
  },
  "language_info": {
   "codemirror_mode": {
    "name": "ipython",
    "version": 3
   },
   "file_extension": ".py",
   "mimetype": "text/x-python",
   "name": "python",
   "nbconvert_exporter": "python",
   "pygments_lexer": "ipython3",
   "version": "3.11.10"
  }
 },
 "nbformat": 4,
 "nbformat_minor": 2
}
