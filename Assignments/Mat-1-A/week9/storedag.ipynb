{
 "cells": [
  {
   "cell_type": "markdown",
   "metadata": {},
   "source": [
    "# Opgave 1: Eksempler på vektorrum\n",
    "\n",
    "I denne opgave betragtes følgende eksempler på vektorrum.\n",
    "\n",
    "1. Det reelle vektorrum $ V_1 = \\mathbb{R}^4 $.\n",
    "2. Det komplekse vektorrum $ V_2 = \\mathbb{C}^4 $.\n",
    "3. Det reelle vektorrum $ V_3 = \\mathbb{R}^{4 \\times 2} $.\n",
    "4. Det komplekse vektorrum $ V_4 = \\mathbb{C}[Z] $.\n",
    "5. Det reelle vektorrum $ V_5 = \\mathbb{C} $.\n"
   ]
  },
  {
   "cell_type": "markdown",
   "metadata": {},
   "source": [
    "## Spørgsmål a\n",
    "Ifølge Definition 9.1.1 fra lærebogen, har hvert vektorrum en nulvektor 0. Angiv nulvektoren i hvert af de fem ovenstående vektorrum."
   ]
  },
  {
   "cell_type": "markdown",
   "metadata": {},
   "source": [
    "### Svar\n",
    "1. \n",
    "$$\n",
    "\\begin{bmatrix}\n",
    "0 \\\\\n",
    "0 \\\\\n",
    "0 \\\\\n",
    "0 \n",
    "\\end{bmatrix}\n",
    "$$\n",
    "\n",
    "2. Da vi kan beskrive det complexe rum som a + bi = 0, så er det også bare 0\n",
    "$$\n",
    "\\begin{bmatrix}\n",
    "0 \\\\\n",
    "0 \\\\\n",
    "0 \\\\\n",
    "0 \n",
    "\\end{bmatrix}\n",
    "$$\n",
    "\n",
    "3. \n",
    "$$\n",
    "\\begin{bmatrix}\n",
    "0 & 0 \\\\\n",
    "0 & 0 \\\\\n",
    "0 & 0 \\\\\n",
    "0 & 0 \n",
    "\\end{bmatrix}\n",
    "$$\n",
    "\n",
    "4. Nulvektoreren er nulpolynomiet, dvs. polynomiet hvorom det gælder at alle dets koefficienter er nul.\n",
    "\n",
    "4. Nulvektoreren er det komplekse tal 0."
   ]
  },
  {
   "cell_type": "markdown",
   "metadata": {},
   "source": [
    "## Spørgsmål b\n",
    "Angiv en basis af de givne vektorrum og bestem rummenes dimensioner.\n",
    "\n",
    "![image.png](../../../misc/images/propositions/9.2.4.png)"
   ]
  },
  {
   "cell_type": "markdown",
   "metadata": {},
   "source": [
    "### Svar:\n",
    "For at finde vores basis vil vi gøre brug af proposition 9.2.4.\n",
    "\n",
    "1. \n",
    "$$\n",
    "\\begin{bmatrix}\n",
    "1 \\\\\n",
    "0 \\\\\n",
    "0 \\\\\n",
    "0 \n",
    "\\end{bmatrix},\n",
    "\n",
    "\\begin{bmatrix}\n",
    "0 \\\\\n",
    "1 \\\\\n",
    "0 \\\\\n",
    "0 \n",
    "\\end{bmatrix},\n",
    "\n",
    "\\begin{bmatrix}\n",
    "0 \\\\\n",
    "0 \\\\\n",
    "1 \\\\\n",
    "0 \n",
    "\\end{bmatrix},\n",
    "\n",
    "\\begin{bmatrix}\n",
    "0 \\\\\n",
    "0 \\\\\n",
    "0 \\\\\n",
    "1 \n",
    "\\end{bmatrix}\n",
    "$$\n",
    "\n",
    "Vi kan nu aflæse at dimensionen er 4.\n",
    "\n",
    "2.\n",
    "Samme som 1.\n",
    "\n",
    "3.\n",
    "Dette vil være det der svare til $dim(1.) \\cdot 2$, altså 8\n",
    "\n",
    "4.\n",
    "Vektorrum $\\mathbb{C}[Z]$ repræsenterer komplekse polynomier i variablen Z med komplekse koefficienter. Basis for $\\mathbb{C}[Z]$ kan vælges som mængden af monomer:\n",
    "$$\n",
    "1, Z, Z^2, Z^3, \\dots\n",
    "$$\n",
    "\n",
    "Basis består her af alle potenser af Z, og dimensionen afhænger af graden af polynomier, hvis vi begrænser graden. Uden begrænsning på graden af polynomierne er dimensionen uendelig.\n",
    "\n",
    "5.\n",
    "Da vi betragter C som et vektorrum over de reelle tal $\\mathbb{R}$, vil en basis være:\n",
    "$$\n",
    "1,i\n",
    "$$\n",
    "hvor 1 og i er de to grundlæggende elementer i de komplekse tal, da et komplekst tal kan skrives som $a+bi$ med $a,b \\in R$. Derfor er dimensionen af dette vektorrum 2.\n"
   ]
  },
  {
   "cell_type": "markdown",
   "metadata": {},
   "source": [
    "# Opgave 2: Koordinater af en vektor med hensyn til en ordnet basis\n",
    "Lad $W = \\{a+bZ+cZ^2 \\mid a,b,c \\in \\mathbb{C}\\} \\subset \\mathbb{C}[Z]$ være mængden bestående af alle polynomier af grad højst to."
   ]
  },
  {
   "cell_type": "markdown",
   "metadata": {},
   "source": [
    "## Spørgsmål a\n",
    "Tjek at W er et underrum af det komplekse vektorrum $\\mathbb{C}[Z]$.\n",
    "![image.png](../../../misc/images/lemmas/9.3.2.png)"
   ]
  },
  {
   "cell_type": "markdown",
   "metadata": {},
   "source": [
    "### Svar:\n",
    "Til dette vil vi gøre brug af følgende steps:\n",
    "\n",
    "1. Non-emptiness: W er defineret som settet af alle polynomier med graden på mest 2 og koffecienter inde for $\\mathbb{C}$. Vi har nu nulpolynomiet $0 = 0 + 0 \\cdot Z + 0 \\cdot Z^2 \\in W$, så W er ikke tom.\n",
    "\n",
    "2. Lukket under addition: Tag to forskellige elementer i W, så $f(Z) = a + bZ + cZ^2$ og $g(Z) = d + eZ + fZ^2$, hvor $a,b,c,d,e,f \\in \\mathbb{C}$.\n",
    "\n",
    "Så vil deres sum: $f(Z) + g(z) = (a+d)+(b+e)Z+(c+f)Z^2$\n",
    "\n",
    "Da a+d, b+e og c+f alle er i $\\mathbb{C}$, så er polynomiet f(Z) + g(Z) også et polynomie af 2 grad med komplexe koefficienter, så vi har $f(Z) + g(Z) \\in W$. Derfor er W lukket under addition.\n",
    "\n",
    "3. Lukket under scalar multiplikation: Tag et hvert element $f(Z) = a + bZ + bZ^2 \\in W$ og en scaler $a \\in \\mathbb{C}$.\n",
    "\n",
    "Så er multiplikationen: $a \\cdot f(Z) = \\alpha a + (\\alpha b)Z + (\\alpha c)Z^2$\n",
    "\n",
    "Da $\\alpha a, \\alpha b \\text{ og } \\alpha c$ er i $\\mathbb{C}$, så er polynomiet $a \\cdot f(Z) \\in W$. Derfor er W lukket under scalar multiplikation.\n",
    "\n",
    "### Konklusion\n",
    "Da W er non-empty, Lukket under addition og scalar multiplikation, tilfredsstiller vi Lemma 9.3.2. Derfor er W et subset af $\\mathbb{C}[Z]$.\n",
    "\n"
   ]
  },
  {
   "cell_type": "markdown",
   "metadata": {},
   "source": [
    "## Spørgsmål b\n",
    "Tjek at følgen $(1,Z,Z^2)$ er en ordnet basis for W. Tjek at følgen \n",
    "$(1,1+Z,1+Z+Z^2)$ også er en ordnet basis for W.\n",
    "\n",
    "![image.png](../../../misc/images/definitions/9.2.3.png)"
   ]
  },
  {
   "cell_type": "markdown",
   "metadata": {},
   "source": [
    "### Svar:\n",
    "\n",
    "1. $ (1, Z, Z^2) $\n",
    "\n",
    "   (i) **Lineært uafhængige:**  \n",
    "   Da vi har formlen $ a + bZ + cZ^2 = 1 $, som kun er sand, når $ a = 1 $ og $ b = c = 0 $. Det samme gælder for de andre basisvektorer, hvilket viser, at de er lineært uafhængige.\n",
    "\n",
    "   (ii) **Linearkombination af vektorerne i $ W $:**  \n",
    "   Enhver vektor i $ W $ kan udtrykkes som en linearkombination af $ (1, Z, Z^2) $. Derfor udgør $ (1, Z, Z^2) $ en basis for $ W $.\n",
    "\n",
    "2. $ (1, 1+Z, 1+Z+Z^2) $\n",
    "\n",
    "   (i) **Lineært uafhængige:**  \n",
    "   For at undersøge, om $ (1, 1+Z, 1+Z+Z^2) $ er lineært uafhængige, antager vi en linearkombination:\n",
    "   $$\n",
    "   a \\cdot 1 + b \\cdot (1 + Z) + c \\cdot (1 + Z + Z^2) = 0\n",
    "   $$\n",
    "   for skalarer $ a, b, c \\in \\mathbb{C} $. Ved at udvide og samle led ser vi, at ligningen kan opfyldes kun hvis $ a = b = c = 0 $. Derfor er vektorerne lineært uafhængige.\n",
    "\n",
    "   (ii) **Linearkombination af vektorerne i $ W $:**  \n",
    "   Enhver vektor i $ W $, som er et polynomium af grad højst 2, kan udtrykkes som en linearkombination af $ (1, 1+Z, 1+Z+Z^2) $. Dette viser, at $ (1, 1+Z, 1+Z+Z^2) $ også udgør en basis for $ W $.\n"
   ]
  },
  {
   "cell_type": "code",
   "execution_count": null,
   "metadata": {
    "vscode": {
     "languageId": "plaintext"
    }
   },
   "outputs": [],
   "source": []
  },
  {
   "cell_type": "markdown",
   "metadata": {},
   "source": []
  }
 ],
 "metadata": {
  "language_info": {
   "name": "python"
  }
 },
 "nbformat": 4,
 "nbformat_minor": 2
}
