{
 "cells": [
  {
   "cell_type": "code",
   "execution_count": 38,
   "metadata": {},
   "outputs": [],
   "source": [
    "from sympy import *"
   ]
  },
  {
   "cell_type": "markdown",
   "metadata": {},
   "source": [
    "# Spørgsmål 1\n",
    "Betragt det elektriske netværk givet ovenfor med de to modstande."
   ]
  },
  {
   "cell_type": "markdown",
   "metadata": {},
   "source": [
    "## a)\n",
    "Antag, at $U = 12.6 \\mathrm{V}$, $R_1 = 3\\Omega$ og $R_2 = 7\\Omega$. Udregn $u$, $I_1$ og $I_2$."
   ]
  },
  {
   "cell_type": "code",
   "execution_count": 39,
   "metadata": {},
   "outputs": [],
   "source": [
    "U, u, R1, R2, I1, I2 = symbols('U u R1 R2 I1 I2')\n",
    "\n",
    "eq1 = Eq(U - u, R1 * I1)\n",
    "eq2 = Eq(u, R2 * I2)\n",
    "eq3 = Eq(I1 - I2, 0)\n",
    "\n",
    "# Indsæt værdier\n",
    "eq1 = eq1.subs({U: 12.6, R1: 3})\n",
    "eq2 = eq2.subs({R2: 7})"
   ]
  },
  {
   "cell_type": "code",
   "execution_count": 40,
   "metadata": {},
   "outputs": [
    {
     "data": {
      "text/plain": [
       "{I1: 1.26000000000000, I2: 1.26000000000000, u: 8.82000000000000}"
      ]
     },
     "execution_count": 40,
     "metadata": {},
     "output_type": "execute_result"
    }
   ],
   "source": [
    "solve((eq1, eq2, eq3), (u, I1, I2))"
   ]
  },
  {
   "cell_type": "markdown",
   "metadata": {},
   "source": [
    "Dermed er $u = 8.82\\mathrm{V}$, $I_1 = 1.26\\mathrm{A}$ og $I_2 = 1.26\\mathrm{A}$"
   ]
  },
  {
   "cell_type": "markdown",
   "metadata": {},
   "source": [
    "## b)\n"
   ]
  },
  {
   "cell_type": "code",
   "execution_count": 41,
   "metadata": {},
   "outputs": [],
   "source": [
    "U, u, R1, R2, I1, I2 = symbols('U u R1 R2 I1 I2')\n",
    "\n",
    "eq1 = Eq(U - u, R1 * I1)\n",
    "eq2 = Eq(u, R2 * I2)\n",
    "eq3 = Eq(I1 - I2, 0)"
   ]
  },
  {
   "cell_type": "code",
   "execution_count": 42,
   "metadata": {},
   "outputs": [
    {
     "data": {
      "text/latex": [
       "$\\displaystyle \\frac{R_{2} U}{R_{1} + R_{2}}$"
      ],
      "text/plain": [
       "R2*U/(R1 + R2)"
      ]
     },
     "execution_count": 42,
     "metadata": {},
     "output_type": "execute_result"
    }
   ],
   "source": [
    "solve((eq1, eq2, eq3), (u, I1, I2))[u]"
   ]
  },
  {
   "cell_type": "markdown",
   "metadata": {},
   "source": [
    "## Spørgsmål 2"
   ]
  },
  {
   "cell_type": "markdown",
   "metadata": {},
   "source": [
    "**a)**\n",
    "Jeg tager udgangspunkt i Ohms lov anvendt på kanterne $R_{1}$ ... $R_{5}$. Disse har tilhørende strømme $I_{1}$ ... $I_{5}$. \n",
    "\n",
    "**For $R_{1}$:** $U-u_{1} = I_{1} \\cdot R_{1}$\n",
    "\n",
    "**For $R_{2}$:** $u_{1} = I_{2} \\cdot R_{2}$\n",
    "\n",
    "**For $R_{3}$:** $U-u_{2} = I_{3} \\cdot R_{3}$\n",
    "\n",
    "**For $R_{4}$:** $u_{2} = I_{4} \\cdot R_{4}$\n",
    "\n",
    "**For $R_{5}$:** $u_{2}  - u_{1}= I_{5} \\cdot R_{5}$"
   ]
  },
  {
   "cell_type": "markdown",
   "metadata": {},
   "source": [
    "**b)**\n",
    "\n",
    "**For $u_{1}$:** $I_1 + I_5 - I_2 = 0 \\Leftrightarrow  I_2 = I_1+I_5$\n",
    "\n",
    "**For $u_{2}$:** $I_3-I_4-I_5 = 0 \\Leftrightarrow  I_4+I_5 = I_3$"
   ]
  },
  {
   "cell_type": "markdown",
   "metadata": {},
   "source": [
    "**c)**"
   ]
  },
  {
   "cell_type": "code",
   "execution_count": 43,
   "metadata": {},
   "outputs": [
    {
     "data": {
      "text/plain": [
       "({i1: 1.41728395061728,\n",
       "  i2: 1.36543209876543,\n",
       "  i3: 1.24444444444444,\n",
       "  i4: 1.29629629629630,\n",
       "  i5: -0.0518518518518519,\n",
       "  u1: 4.09629629629630,\n",
       "  u2: 3.88888888888889},\n",
       " 5.27160493827160)"
      ]
     },
     "execution_count": 43,
     "metadata": {},
     "output_type": "execute_result"
    }
   ],
   "source": [
    "i=symbols('i1:6')\n",
    "u=symbols('u1:3')\n",
    "\n",
    "U = 12.6\n",
    "R1 = 6\n",
    "R3 = 7\n",
    "R2 = R4 = 3\n",
    "R5 = 4\n",
    "\n",
    "# Kirchhoff's Current Law equations\n",
    "u1=Eq(i[1], i[0] + i[4]) # I_2 = I_1+I_5\n",
    "u2=Eq(i[3]+i[4],i[2]) # I_4+I_5 = I_3\n",
    "\n",
    "# Ohm's law equations for each branch\n",
    "r1=Eq(U-u[0],i[0]*R1)\n",
    "r2=Eq(u[0],i[1]*R2)\n",
    "r3=Eq(U-u[1],i[2]*R3)\n",
    "r4=Eq(u[1],i[3]*R4)\n",
    "r5=Eq(u[1]-u[0],i[4]*R5)\n",
    "\n",
    "solution = solve((r1,r2,r3,r4,r5,u1,u2),(u[0], u[1], i[0], i[1], i[2], i[3], i[4]))\n",
    "\n",
    "ITotal = sum([solution[i[j]] for j in range(len(i))])\n",
    "solution,ITotal\n"
   ]
  },
  {
   "cell_type": "markdown",
   "metadata": {},
   "source": [
    "**d)**\n"
   ]
  },
  {
   "cell_type": "code",
   "execution_count": 44,
   "metadata": {},
   "outputs": [
    {
     "data": {
      "text/plain": [
       "({i1: 1.40000000000000,\n",
       "  i2: 1.40000000000000,\n",
       "  i3: 1.26000000000000,\n",
       "  i4: 1.26000000000000,\n",
       "  u1: 4.20000000000000,\n",
       "  u2: 3.78000000000000},\n",
       " 5.32000000000000)"
      ]
     },
     "execution_count": 44,
     "metadata": {},
     "output_type": "execute_result"
    }
   ],
   "source": [
    "i=symbols('i1:5')\n",
    "\n",
    "# Kirchhoff's Current Law equations\n",
    "u1=Eq(i[0]-i[1],0) # I_1 - I_2 = 0\n",
    "u2=Eq(i[2]-i[3],0) # I_3 - I_4 = 0\n",
    "\n",
    "# Ohm's law equations for each branch\n",
    "r1=Eq(U-u[0],i[0]*R1)\n",
    "r2=Eq(u[0],i[1]*R2)\n",
    "r3=Eq(U-u[1],i[2]*R3)\n",
    "r4=Eq(u[1],i[3]*R4)\n",
    "\n",
    "solution = solve([r1,r2,r3,r4,u1,u2],u + i)\n",
    "\n",
    "ITotal = sum([solution[i[j]] for j in range(len(i))])\n",
    "solution,ITotal\n"
   ]
  },
  {
   "cell_type": "markdown",
   "metadata": {},
   "source": [
    "**e)**"
   ]
  },
  {
   "cell_type": "code",
   "execution_count": 45,
   "metadata": {},
   "outputs": [
    {
     "data": {
      "text/plain": [
       "({i1: 1.26000000000000,\n",
       "  i2: 1.26000000000000,\n",
       "  i3: 1.26000000000000,\n",
       "  i4: 1.26000000000000,\n",
       "  i5: 0.0,\n",
       "  u1: 3.78000000000000,\n",
       "  u2: 3.78000000000000},\n",
       " 5.04000000000000)"
      ]
     },
     "execution_count": 45,
     "metadata": {},
     "output_type": "execute_result"
    }
   ],
   "source": [
    "i=symbols('i1:6')\n",
    "u=symbols('u1:3')\n",
    "\n",
    "U = 12.6\n",
    "R1 = R3 = 7\n",
    "R2 = R4 = 3\n",
    "R5 = 4\n",
    "\n",
    "# Kirchhoff's Current Law equations\n",
    "u1=Eq(i[1], i[0] + i[4]) # I_2 = I_1+I_5\n",
    "u2=Eq(i[3]+i[4],i[2]) # I_4+I_5 = I_3\n",
    "\n",
    "# Ohm's law equations for each branch\n",
    "r1=Eq(U-u[0],i[0]*R1)\n",
    "r2=Eq(u[0],i[1]*R2)\n",
    "r3=Eq(U-u[1],i[2]*R3)\n",
    "r4=Eq(u[1],i[3]*R4)\n",
    "r5=Eq(u[1]-u[0],i[4]*R5)\n",
    "\n",
    "solution = solve([r1,r2,r3,r4,r5,u1,u2],u + i)\n",
    "\n",
    "ITotal = sum([solution[i[j]] for j in range(len(i))])\n",
    "solution, ITotal\n"
   ]
  },
  {
   "cell_type": "markdown",
   "metadata": {},
   "source": [
    "**f)**"
   ]
  },
  {
   "cell_type": "markdown",
   "metadata": {},
   "source": [
    "Vi er givet, at $R_5$ risistoren er 0 $(I_5 = 0)$. Dette implikerer, at der ikke er nogen spændingsforskel over $R_5$, så vi har at $u_1 = u_2$. Vi kan altså fjerne $R_5$ fra ligningen."
   ]
  },
  {
   "cell_type": "code",
   "execution_count": 46,
   "metadata": {},
   "outputs": [
    {
     "data": {
      "text/plain": [
       "({i1: 0.882000000000000,\n",
       "  i2: 2.14200000000000,\n",
       "  i3: 1.26000000000000,\n",
       "  i4: 1.26000000000000,\n",
       "  u1: 6.42600000000000,\n",
       "  u2: 3.78000000000000},\n",
       " 2.14200000000000)"
      ]
     },
     "execution_count": 46,
     "metadata": {},
     "output_type": "execute_result"
    }
   ],
   "source": [
    "# Define symbols\n",
    "i = symbols('i1:5')\n",
    "u = symbols('u1 u2')\n",
    "\n",
    "# Ohm's law equations for each branch\n",
    "r1 = Eq(U - u[0], i[0] * R1)  # U - u1 = i1 * R1\n",
    "r2 = Eq(u[0], i[1] * R2)      # u1 = i2 * R2\n",
    "r3 = Eq(U - u[1], i[2] * R3)  # U - u2 = i3 * R3\n",
    "r4 = Eq(u[1], i[3] * R4)      # u2 = i4 * R4\n",
    "\n",
    "# Kirchhoff's Current Law equations\n",
    "kcl1 = Eq(i[1], i[0] + i[3])  # i2 = i1 + i4 at u1 node\n",
    "kcl2 = Eq(i[2], i[3])         # i3 = i4 at u2 node\n",
    "\n",
    "# Solve the system of equations\n",
    "solution = solve([r1, r2, r3, r4, kcl1, kcl2], u + i)\n",
    "\n",
    "# Calculate the total current flowing from the battery (i1 + i2)\n",
    "ITotal = solution[i[0]] + solution[i[2]]\n",
    "solution, ITotal\n"
   ]
  },
  {
   "attachments": {
    "image.png": {
     "image/png": "[encoded data removed]"
    }
   },
   "cell_type": "markdown",
   "metadata": {},
   "source": [
    "# Spørgsmål 3\n",
    "![image.png](attachment:image.png)"
   ]
  },
  {
   "cell_type": "markdown",
   "metadata": {},
   "source": [
    "**a)**\n"
   ]
  },
  {
   "cell_type": "markdown",
   "metadata": {},
   "source": [
    "Vi ved at vi har med en cube at gøre, som betyder vi har 12 sidder med en resistance på $2 \\Omega$. Ud fra symatrien kan vores kube sættes op som parallele og serie resistorer baseret på vejen fra jørne til jørne.\n",
    "\n"
   ]
  },
  {
   "cell_type": "code",
   "execution_count": 47,
   "metadata": {},
   "outputs": [
    {
     "data": {
      "text/plain": [
       "7.56"
      ]
     },
     "execution_count": 47,
     "metadata": {},
     "output_type": "execute_result"
    }
   ],
   "source": [
    "R = 2\n",
    "U = 12.6\n",
    "REq = 5 * R / 6\n",
    "\n",
    "I = U / REq\n",
    "I"
   ]
  },
  {
   "cell_type": "markdown",
   "metadata": {},
   "source": [
    "**b)**"
   ]
  },
  {
   "cell_type": "code",
   "execution_count": 50,
   "metadata": {},
   "outputs": [
    {
     "data": {
      "text/latex": [
       "$\\displaystyle 10.08$"
      ],
      "text/plain": [
       "10.0800000000000"
      ]
     },
     "execution_count": 50,
     "metadata": {},
     "output_type": "execute_result"
    }
   ],
   "source": [
    "i=symbols('i1:14')\n",
    "u=symbols('u1:7')\n",
    "R=2\n",
    "U=12.6\n",
    "RD=5.\n",
    "\n",
    "eq1=Eq(i[0],i[1]+i[3])\n",
    "eq2=Eq(i[1]+i[6],i[2])\n",
    "eq3=Eq(i[3]+i[9],i[4])\n",
    "eq4=Eq(i[5],i[6]+i[7])\n",
    "eq5=Eq(i[8],i[9]+i[10])\n",
    "eq6=Eq(i[7]+i[10],i[11])\n",
    "\n",
    "\n",
    "\n",
    "eq7=Eq(U-u[0],i[0]*R)\n",
    "eq8=Eq(u[0]-u[1],i[1]*R)\n",
    "eq10=Eq(u[0]-u[2],i[3]*R)\n",
    "eq12=Eq(U-u[3],i[5]*R)\n",
    "eq13=Eq(u[3]-u[2],i[6]*R)\n",
    "eq14=Eq(U-u[4],i[8]*R)\n",
    "eq15=Eq(u[4]-u[2],i[9]*R)\n",
    "eq16=Eq(u[4]-u[5],i[10]*R)\n",
    "eq18=Eq(u[3]-u[5],i[7]*R)\n",
    "\n",
    "eq9=Eq(u[1],i[2]*R)\n",
    "eq11=Eq(u[2],i[4]*R)\n",
    "eq17=Eq(u[5],i[11]*R)\n",
    "eq19=Eq(U,i[12]*RD)\n",
    "\n",
    "sol=solve({eq1,eq2,eq3,eq4,eq5,eq6,eq7,eq8,eq9,eq10,eq11,eq12,eq13,eq14,eq15,eq16,eq17,eq18, eq19},u+i)\n",
    "sol[i[2]]+sol[i[4]]+sol[i[11]]+sol[i[12]]"
   ]
  },
  {
   "cell_type": "markdown",
   "metadata": {},
   "source": []
  }
 ],
 "metadata": {
  "kernelspec": {
   "display_name": "DTUMisc",
   "language": "python",
   "name": "python3"
  },
  "language_info": {
   "codemirror_mode": {
    "name": "ipython",
    "version": 3
   },
   "file_extension": ".py",
   "mimetype": "text/x-python",
   "name": "python",
   "nbconvert_exporter": "python",
   "pygments_lexer": "ipython3",
   "version": "3.11.10"
  }
 },
 "nbformat": 4,
 "nbformat_minor": 2
}
