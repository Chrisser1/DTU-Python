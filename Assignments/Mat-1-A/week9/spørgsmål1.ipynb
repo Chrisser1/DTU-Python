{
 "cells": [
  {
   "cell_type": "code",
   "execution_count": 1,
   "id": "initial_id",
   "metadata": {
    "ExecuteTime": {
     "end_time": "2024-11-08T08:52:21.808937Z",
     "start_time": "2024-11-08T08:52:21.804291Z"
    },
    "collapsed": true
   },
   "outputs": [],
   "source": [
    "from sympy import *"
   ]
  },
  {
   "cell_type": "markdown",
   "id": "94832759d33988d",
   "metadata": {},
   "source": [
    "# Spørgsmål 1\n",
    "Betragt det elektriske netværk givet ovenfor med de to modstande."
   ]
  },
  {
   "cell_type": "markdown",
   "id": "5e6881f843309093",
   "metadata": {},
   "source": [
    "## a)\n",
    "Antag, at $U = 12.6 \\mathrm{V}$, $R_1 = 3\\Omega$ og $R_2 = 7\\Omega$. Udregn $u$, $I_1$ og $I_2$."
   ]
  },
  {
   "cell_type": "code",
   "execution_count": 2,
   "id": "720ad0a4d96a60a",
   "metadata": {
    "ExecuteTime": {
     "end_time": "2024-11-08T08:52:21.868569Z",
     "start_time": "2024-11-08T08:52:21.815484Z"
    }
   },
   "outputs": [],
   "source": [
    "U, u, R1, R2, I1, I2 = symbols('U u R1 R2 I1 I2')\n",
    "\n",
    "eq1 = Eq(U - u, R1 * I1)\n",
    "eq2 = Eq(u, R2 * I2)\n",
    "eq3 = Eq(I1 - I2, 0)\n",
    "\n",
    "# Indsæt værdier\n",
    "eq1 = eq1.subs({U: 12.6, R1: 3})\n",
    "eq2 = eq2.subs({R2: 7})"
   ]
  },
  {
   "cell_type": "code",
   "execution_count": 3,
   "id": "fb4b8de86088308f",
   "metadata": {
    "ExecuteTime": {
     "end_time": "2024-11-08T08:52:21.894871Z",
     "start_time": "2024-11-08T08:52:21.884775Z"
    }
   },
   "outputs": [
    {
     "data": {
      "text/plain": [
       "{I1: 1.26000000000000, I2: 1.26000000000000, u: 8.82000000000000}"
      ]
     },
     "execution_count": 3,
     "metadata": {},
     "output_type": "execute_result"
    }
   ],
   "source": [
    "solve((eq1, eq2, eq3), (u, I1, I2))"
   ]
  },
  {
   "cell_type": "markdown",
   "id": "73b9825f7f0cf0b1",
   "metadata": {},
   "source": [
    "Dermed er $u = 8.82\\mathrm{V}$, $I_1 = 1.26\\mathrm{A}$ og $I_2 = 1.26\\mathrm{A}$"
   ]
  },
  {
   "cell_type": "markdown",
   "id": "56b54c47ae1a1c09",
   "metadata": {},
   "source": [
    "## b)\n"
   ]
  },
  {
   "cell_type": "code",
   "execution_count": 4,
   "id": "2d662e6f155b9068",
   "metadata": {
    "ExecuteTime": {
     "end_time": "2024-11-08T08:52:21.913197Z",
     "start_time": "2024-11-08T08:52:21.908852Z"
    }
   },
   "outputs": [],
   "source": [
    "U, u, R1, R2, I1, I2 = symbols('U u R1 R2 I1 I2')\n",
    "\n",
    "eq1 = Eq(U - u, R1 * I1)\n",
    "eq2 = Eq(u, R2 * I2)\n",
    "eq3 = Eq(I1 - I2, 0)"
   ]
  },
  {
   "cell_type": "code",
   "execution_count": 5,
   "id": "7bc5fcbf4ccd42b2",
   "metadata": {
    "ExecuteTime": {
     "end_time": "2024-11-08T08:52:21.940288Z",
     "start_time": "2024-11-08T08:52:21.928725Z"
    }
   },
   "outputs": [
    {
     "data": {
      "text/latex": [
       "$\\displaystyle \\frac{R_{2} U}{R_{1} + R_{2}}$"
      ],
      "text/plain": [
       "R2*U/(R1 + R2)"
      ]
     },
     "execution_count": 5,
     "metadata": {},
     "output_type": "execute_result"
    }
   ],
   "source": [
    "solve((eq1, eq2, eq3), (u, I1, I2))[u]"
   ]
  }
 ],
 "metadata": {
  "kernelspec": {
   "display_name": "DTUMisc",
   "language": "python",
   "name": "python3"
  },
  "language_info": {
   "codemirror_mode": {
    "name": "ipython",
    "version": 3
   },
   "file_extension": ".py",
   "mimetype": "text/x-python",
   "name": "python",
   "nbconvert_exporter": "python",
   "pygments_lexer": "ipython3",
   "version": "3.11.10"
  }
 },
 "nbformat": 4,
 "nbformat_minor": 5
}
