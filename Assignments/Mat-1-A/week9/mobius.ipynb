{
 "cells": [
  {
   "cell_type": "code",
   "execution_count": 374,
   "metadata": {},
   "outputs": [],
   "source": [
    "from sympy import *"
   ]
  },
  {
   "cell_type": "code",
   "execution_count": 375,
   "metadata": {},
   "outputs": [
    {
     "data": {
      "text/plain": [
       "1.188679245283019"
      ]
     },
     "execution_count": 375,
     "metadata": {},
     "output_type": "execute_result"
    }
   ],
   "source": [
    "R1 = 9\n",
    "U = 12\n",
    "u = 10.6\n",
    "\n",
    "u2 = U - u\n",
    "I = u / R1\n",
    "\n",
    "R2 = u2 / I\n",
    "R2"
   ]
  },
  {
   "cell_type": "code",
   "execution_count": 376,
   "metadata": {},
   "outputs": [
    {
     "data": {
      "text/plain": [
       "({i1: 150/193,\n",
       "  i2: 279/386,\n",
       "  i3: 315/386,\n",
       "  i4: 168/193,\n",
       "  i5: -21/386,\n",
       "  u1: 1953/193,\n",
       "  u2: 1848/193},\n",
       " 615/386)"
      ]
     },
     "execution_count": 376,
     "metadata": {},
     "output_type": "execute_result"
    }
   ],
   "source": [
    "i=symbols('i1:6')\n",
    "u=symbols('u1:3')\n",
    "\n",
    "U = 21\n",
    "R1 = R2 = R3 = 14\n",
    "R4 = 11\n",
    "R5 = 10\n",
    "\n",
    "# Kirchhoff's Current Law equations\n",
    "u1=Eq(i[1], i[0] + i[4]) # I_2 = I_1+I_5\n",
    "u2=Eq(i[3]+i[4],i[2]) # I_4+I_5 = I_3\n",
    "\n",
    "# Ohm's law equations for each branch\n",
    "r1=Eq(U-u[0],i[0]*R1) # U - u1 = i1 * R1\n",
    "r2=Eq(u[0],i[1]*R2) # u1 = i2 * R2\n",
    "r3=Eq(U-u[1],i[2]*R3) # U - u2 = i3*R3\n",
    "r4=Eq(u[1],i[3]*R4) # u2 = i4 * R4\n",
    "r5=Eq(u[1]-u[0],i[4]*R5) # u2 - u1 = i5 * R5\n",
    "\n",
    "solution = solve((r1,r2,r3,r4,r5,u1,u2),(u[0], u[1], i[0], i[1], i[2], i[3], i[4]))\n",
    "\n",
    "ITotal = solution[i[1]]+solution[i[3]]\n",
    "solution,ITotal\n"
   ]
  },
  {
   "cell_type": "code",
   "execution_count": 377,
   "metadata": {},
   "outputs": [
    {
     "data": {
      "text/plain": [
       "1.5932642487046633"
      ]
     },
     "execution_count": 377,
     "metadata": {},
     "output_type": "execute_result"
    }
   ],
   "source": [
    "615/386"
   ]
  },
  {
   "cell_type": "code",
   "execution_count": 378,
   "metadata": {},
   "outputs": [
    {
     "data": {
      "text/plain": [
       "({i1: -3/10,\n",
       "  i2: 9/5,\n",
       "  i3: 441/250,\n",
       "  i4: -42/125,\n",
       "  i5: 21/10,\n",
       "  u1: 126/5,\n",
       "  u2: -462/125},\n",
       " 891/250)"
      ]
     },
     "execution_count": 378,
     "metadata": {},
     "output_type": "execute_result"
    }
   ],
   "source": [
    "# Kirchhoff's Current Law equations\n",
    "u1=Eq(i[1], i[0] + i[4]) # I_2 = I_1+I_5\n",
    "u2=Eq(i[3]+i[4],i[2]) # I_4+I_5 = I_3\n",
    "\n",
    "# Ohm's law equations for each branch\n",
    "r1=Eq(U-u[0],i[0]*R1) # U - u1 = i1 * R1\n",
    "r2=Eq(u[0],i[1]*R2) # u1 = i2 * R2\n",
    "r3=Eq(U-u[1],i[2]*R3) # U - u2 = i3*R3\n",
    "r4=Eq(u[1],i[3]*R4) # u2 = i4 * R4\n",
    "r5=Eq(U,i[4]*R5) # U = i5 * R5\n",
    "\n",
    "solution = solve((r1,r2,r3,r4,r5,u1,u2),(u[0], u[1], i[0], i[1], i[2], i[3], i[4]))\n",
    "\n",
    "ITotal = solution[i[1]]+solution[i[3]]+solution[i[4]]\n",
    "solution,ITotal\n"
   ]
  },
  {
   "cell_type": "code",
   "execution_count": 379,
   "metadata": {},
   "outputs": [
    {
     "data": {
      "text/plain": [
       "3.564"
      ]
     },
     "execution_count": 379,
     "metadata": {},
     "output_type": "execute_result"
    }
   ],
   "source": [
    "891/250"
   ]
  },
  {
   "cell_type": "code",
   "execution_count": 380,
   "metadata": {},
   "outputs": [
    {
     "data": {
      "text/latex": [
       "$\\displaystyle \\frac{5}{146}$"
      ],
      "text/plain": [
       "5/146"
      ]
     },
     "execution_count": 380,
     "metadata": {},
     "output_type": "execute_result"
    }
   ],
   "source": [
    "R1 = R2 = R3 = 6\n",
    "R4 = 7\n",
    "R5 = 5\n",
    "U = 10\n",
    "\n",
    "# Kirchhoff's Current Law equations\n",
    "u1=Eq(i[1], i[0] + i[4]) # I_2 = I_1+I_5\n",
    "u2=Eq(i[3]+i[4],i[2]) # I_4+I_5 = I_3\n",
    "\n",
    "# Ohm's law equations for each branch\n",
    "r1=Eq(U-u[0],i[0]*R1) # U - u1 = i1 * R1\n",
    "r2=Eq(u[0],i[1]*R2) # u1 = i2 * R2\n",
    "r3=Eq(U-u[1],i[2]*R3) # U - u2 = i3*R3\n",
    "r4=Eq(u[1],i[3]*R4) # u2 = i4 * R4\n",
    "r5=Eq(u[1]-u[0],i[4]*R5)\n",
    "\n",
    "solution = solve((r1,r2,r3,r4,r5,u1,u2),(u[0], u[1], i[0], i[1], i[2], i[3], i[4]))\n",
    "\n",
    "solution[i[4]]"
   ]
  },
  {
   "cell_type": "code",
   "execution_count": 381,
   "metadata": {},
   "outputs": [
    {
     "data": {
      "text/latex": [
       "$\\displaystyle 5$"
      ],
      "text/plain": [
       "5"
      ]
     },
     "execution_count": 381,
     "metadata": {},
     "output_type": "execute_result"
    }
   ],
   "source": [
    "i=symbols('i1:13')\n",
    "u=symbols('u1:7')\n",
    "R = 6\n",
    "U = 25\n",
    "\n",
    "eq1=Eq(i[0],i[1]+i[3])\n",
    "eq2=Eq(i[1]+i[6],i[2])\n",
    "eq3=Eq(i[3]+i[9],i[4])\n",
    "eq4=Eq(i[5],i[6]+i[7])\n",
    "eq5=Eq(i[8],i[9]+i[10])\n",
    "eq6=Eq(i[7]+i[10],i[11])\n",
    "\n",
    "\n",
    "\n",
    "eq7=Eq(U-u[0],i[0]*R)\n",
    "eq8=Eq(u[0]-u[1],i[1]*R)\n",
    "eq10=Eq(u[0]-u[2],i[3]*R)\n",
    "eq12=Eq(U-u[3],i[5]*R)\n",
    "eq13=Eq(u[3]-u[2],i[6]*R)\n",
    "eq14=Eq(U-u[4],i[8]*R)\n",
    "eq15=Eq(u[4]-u[2],i[9]*R)\n",
    "eq16=Eq(u[4]-u[5],i[10]*R)\n",
    "eq18=Eq(u[3]-u[5],i[7]*R)\n",
    "\n",
    "eq9=Eq(u[1],i[2]*R)\n",
    "eq11=Eq(u[2],i[4]*R)\n",
    "eq17=Eq(u[5],i[11]*R)\n",
    "\n",
    "sol=solve({eq1,eq2,eq3,eq4,eq5,eq6,eq7,eq8,eq9,eq10,eq11,eq12,eq13,eq14,eq15,eq16,eq17,eq18},u+i)\n",
    "sol[i[2]]+sol[i[4]]+sol[i[11]]"
   ]
  },
  {
   "cell_type": "code",
   "execution_count": 382,
   "metadata": {},
   "outputs": [
    {
     "data": {
      "text/plain": [
       "5.0"
      ]
     },
     "execution_count": 382,
     "metadata": {},
     "output_type": "execute_result"
    }
   ],
   "source": [
    "R = 6\n",
    "U = 25\n",
    "\n",
    "REq = 5 * R / 6\n",
    "\n",
    "I = U / REq\n",
    "I"
   ]
  },
  {
   "cell_type": "code",
   "execution_count": 383,
   "metadata": {},
   "outputs": [
    {
     "data": {
      "text/latex": [
       "$\\displaystyle \\frac{40}{3}$"
      ],
      "text/plain": [
       "40/3"
      ]
     },
     "execution_count": 383,
     "metadata": {},
     "output_type": "execute_result"
    }
   ],
   "source": [
    "i=symbols('i1:14')\n",
    "u=symbols('u1:7')\n",
    "R=6\n",
    "U=25\n",
    "RD=3\n",
    "\n",
    "eq1=Eq(i[0],i[1]+i[3])\n",
    "eq2=Eq(i[1]+i[6],i[2])\n",
    "eq3=Eq(i[3]+i[9],i[4])\n",
    "eq4=Eq(i[5],i[6]+i[7])\n",
    "eq5=Eq(i[8],i[9]+i[10])\n",
    "eq6=Eq(i[7]+i[10],i[11])\n",
    "\n",
    "\n",
    "\n",
    "eq7=Eq(U-u[0],i[0]*R)\n",
    "eq8=Eq(u[0]-u[1],i[1]*R)\n",
    "eq10=Eq(u[0]-u[2],i[3]*R)\n",
    "eq12=Eq(U-u[3],i[5]*R)\n",
    "eq13=Eq(u[3]-u[2],i[6]*R)\n",
    "eq14=Eq(U-u[4],i[8]*R)\n",
    "eq15=Eq(u[4]-u[2],i[9]*R)\n",
    "eq16=Eq(u[4]-u[5],i[10]*R)\n",
    "eq18=Eq(u[3]-u[5],i[7]*R)\n",
    "\n",
    "eq9=Eq(u[1],i[2]*R)\n",
    "eq11=Eq(u[2],i[4]*R)\n",
    "eq17=Eq(u[5],i[11]*R)\n",
    "eq19=Eq(U,i[12]*RD)\n",
    "\n",
    "sol=solve({eq1,eq2,eq3,eq4,eq5,eq6,eq7,eq8,eq9,eq10,eq11,eq12,eq13,eq14,eq15,eq16,eq17,eq18, eq19},u+i)\n",
    "I2 = sol[i[2]]+sol[i[4]]+sol[i[11]]+sol[i[12]]\n",
    "I2"
   ]
  },
  {
   "cell_type": "code",
   "execution_count": 384,
   "metadata": {},
   "outputs": [
    {
     "data": {
      "text/plain": [
       "13.333"
      ]
     },
     "execution_count": 384,
     "metadata": {},
     "output_type": "execute_result"
    }
   ],
   "source": [
    "round(40/3,3)\n"
   ]
  },
  {
   "cell_type": "code",
   "execution_count": 385,
   "metadata": {},
   "outputs": [
    {
     "data": {
      "text/latex": [
       "$\\displaystyle 8.333$"
      ],
      "text/plain": [
       "8.333"
      ]
     },
     "execution_count": 385,
     "metadata": {},
     "output_type": "execute_result"
    }
   ],
   "source": [
    "round(I2 - I,3)"
   ]
  },
  {
   "cell_type": "code",
   "execution_count": 386,
   "metadata": {},
   "outputs": [
    {
     "data": {
      "text/plain": [
       "({i1: 23/49,\n",
       "  i10: 115/98,\n",
       "  i11: 23/7,\n",
       "  i12: 115/98,\n",
       "  i2: 23/98,\n",
       "  i3: 46/49,\n",
       "  i4: 23/98,\n",
       "  i5: -23/98,\n",
       "  i6: 23/98,\n",
       "  i7: 115/98,\n",
       "  i8: 115/98,\n",
       "  i9: 46/49,\n",
       "  u1: 92/7,\n",
       "  u2: 69/7,\n",
       "  u3: 207/14,\n",
       "  u4: 115/14,\n",
       "  u5: 207/14,\n",
       "  u6: 115/14},\n",
       " 276/49)"
      ]
     },
     "execution_count": 386,
     "metadata": {},
     "output_type": "execute_result"
    }
   ],
   "source": [
    "# Define symbols\n",
    "i = symbols('i1:14')  # Current symbols i1 to i13\n",
    "u = symbols('u1:7')   # Voltage symbols u1 to u6\n",
    "R = 7                 # Resistance value\n",
    "U = 23                # Voltage source\n",
    "\n",
    "# Define equations based on the resistor network\n",
    "# Kirchhoff's Current Law (KCL) equations\n",
    "eq1 = Eq(i[1] - i[4] - i[0], 0)  # i2 - i5 - i1\n",
    "eq2 = Eq(i[0] - i[3] - i[5], 0)  # i1 - i4 - i6\n",
    "eq3 = Eq(i[6] - i[1] - i[2], 0)  # i7 - i2 - i3\n",
    "eq4 = Eq(i[2] + i[3] - i[7], 0)  # i3 + i5 - i8\n",
    "eq5 = Eq(i[9] + i[4] - i[8], 0)  # i10 + i5 - i9\n",
    "eq6 = Eq(i[8] + i[5] - i[11], 0) # i9 + i6 - i12\n",
    "\n",
    "# Kirchhoff's Voltage Law (KVL) equations for each resistor\n",
    "# Ordered by resistor numbers in the circuit\n",
    "eq8 = Eq(u[0] - u[1], i[0] * R)     # Across R1\n",
    "eq7 = Eq(u[2] - u[0], i[1] * R)     # Across R2\n",
    "eq13 = Eq(u[2] - u[3], i[2] * R)    # Across R3\n",
    "eq12 = Eq(u[1] - u[3], i[3] * R)    # Across R4\n",
    "eq18 = Eq(u[0] - u[4], i[4] * R)    # Across R5\n",
    "eq10 = Eq(u[1] - u[5], i[5] * R)    # Across R6\n",
    "eq11 = Eq(U - u[2], i[6] * R)       # Across R7\n",
    "eq14 = Eq(u[3], i[7] * R)           # Across R8\n",
    "eq15 = Eq(u[4] - u[5], i[8] * R)    # Across R9\n",
    "eq9 = Eq(U - u[4], i[9] * R)        # Across R10\n",
    "eq17 = Eq(U, i[10] * R)             # Across R11\n",
    "eq16 = Eq(u[5], i[11] * R)          # Across R12\n",
    "\n",
    "# Solve the system of equations\n",
    "solution = solve({eq1, eq2, eq3, eq4, eq5, eq6, eq7, eq8, eq9, eq10, eq11, eq12, eq13, eq14, eq15, eq16, eq17, eq18}, u + i)\n",
    "\n",
    "# Calculate total current\n",
    "total_current = solution[i[10]] + solution[i[7]] + solution[i[11]]\n",
    "solution, total_current"
   ]
  },
  {
   "cell_type": "code",
   "execution_count": 389,
   "metadata": {},
   "outputs": [
    {
     "data": {
      "text/plain": [
       "5.63265306122449"
      ]
     },
     "execution_count": 389,
     "metadata": {},
     "output_type": "execute_result"
    }
   ],
   "source": [
    " 276/49"
   ]
  },
  {
   "cell_type": "code",
   "execution_count": 390,
   "metadata": {},
   "outputs": [
    {
     "data": {
      "text/plain": [
       "({i1: 23/49,\n",
       "  i10: 115/98,\n",
       "  i11: 23/7,\n",
       "  i12: 115/98,\n",
       "  i13: 23/7,\n",
       "  i2: 23/98,\n",
       "  i3: 46/49,\n",
       "  i4: 23/98,\n",
       "  i5: -23/98,\n",
       "  i6: 23/98,\n",
       "  i7: 115/98,\n",
       "  i8: 115/98,\n",
       "  i9: 46/49,\n",
       "  u1: 92/7,\n",
       "  u2: 69/7,\n",
       "  u3: 207/14,\n",
       "  u4: 115/14,\n",
       "  u5: 207/14,\n",
       "  u6: 115/14},\n",
       " 437/49)"
      ]
     },
     "execution_count": 390,
     "metadata": {},
     "output_type": "execute_result"
    }
   ],
   "source": [
    "# Define symbols\n",
    "i = symbols('i1:14')  # Current symbols i1 to i13\n",
    "u = symbols('u1:7')   # Voltage symbols u1 to u6\n",
    "R = 7                 # Resistance value\n",
    "R13 = 4\n",
    "U = 23                # Voltage source\n",
    "\n",
    "# Define equations based on the resistor network\n",
    "# Kirchhoff's Current Law (KCL) equations\n",
    "eq1 = Eq(i[1] - i[4] - i[0], 0)  # i2 - i5 - i1\n",
    "eq2 = Eq(i[0] - i[3] - i[5], 0)  # i1 - i4 - i6\n",
    "eq3 = Eq(i[6] - i[1] - i[2], 0)  # i7 - i2 - i3\n",
    "eq4 = Eq(i[2] + i[3] - i[7], 0)  # i3 + i5 - i8\n",
    "eq5 = Eq(i[9] + i[4] - i[8], 0)  # i10 + i5 - i9\n",
    "eq6 = Eq(i[8] + i[5] - i[11], 0) # i9 + i6 - i12\n",
    "\n",
    "# Kirchhoff's Voltage Law (KVL) equations for each resistor\n",
    "# Ordered by resistor numbers in the circuit\n",
    "eq8 = Eq(u[0] - u[1], i[0] * R)     # Across R1\n",
    "eq7 = Eq(u[2] - u[0], i[1] * R)     # Across R2\n",
    "eq13 = Eq(u[2] - u[3], i[2] * R)    # Across R3\n",
    "eq12 = Eq(u[1] - u[3], i[3] * R)    # Across R4\n",
    "eq18 = Eq(u[0] - u[4], i[4] * R)    # Across R5\n",
    "eq10 = Eq(u[1] - u[5], i[5] * R)    # Across R6\n",
    "eq11 = Eq(U - u[2], i[6] * R)       # Across R7\n",
    "eq14 = Eq(u[3], i[7] * R)           # Across R8\n",
    "eq15 = Eq(u[4] - u[5], i[8] * R)    # Across R9\n",
    "eq9 = Eq(U - u[4], i[9] * R)        # Across R10\n",
    "eq17 = Eq(U, i[10] * R)             # Across R11\n",
    "eq16 = Eq(u[5], i[11] * R)          # Across R12\n",
    "eq19 = Eq(u[0], i[12] * R13)        # Across R13\n",
    "\n",
    "# Solve the system of equations\n",
    "solution = solve({eq1, eq2, eq3, eq4, eq5, eq6, eq7, eq8, eq9, eq10, eq11, eq12, eq13, eq14, eq15, eq16, eq17, eq18, eq19}, u + i)\n",
    "\n",
    "# Calculate total current\n",
    "total_current = solution[i[10]] + solution[i[7]] + solution[i[11]] + solution[i[12]]\n",
    "solution, total_current"
   ]
  },
  {
   "cell_type": "code",
   "execution_count": 391,
   "metadata": {},
   "outputs": [
    {
     "data": {
      "text/plain": [
       "8.918367346938776"
      ]
     },
     "execution_count": 391,
     "metadata": {},
     "output_type": "execute_result"
    }
   ],
   "source": [
    " 437/49"
   ]
  },
  {
   "cell_type": "code",
   "execution_count": 388,
   "metadata": {},
   "outputs": [
    {
     "ename": "KeyError",
     "evalue": "i13",
     "output_type": "error",
     "traceback": [
      "\u001b[1;31m---------------------------------------------------------------------------\u001b[0m",
      "\u001b[1;31mKeyError\u001b[0m                                  Traceback (most recent call last)",
      "Cell \u001b[1;32mIn[388], line 37\u001b[0m\n\u001b[0;32m     34\u001b[0m solution \u001b[38;5;241m=\u001b[39m solve({eq1, eq2, eq3, eq4, eq5, eq6, eq7, eq8, eq9, eq10, eq12, eq13, eq14, eq15, eq16, eq17, eq18, eq19}, u \u001b[38;5;241m+\u001b[39m i)\n\u001b[0;32m     36\u001b[0m \u001b[38;5;66;03m# Calculate total current\u001b[39;00m\n\u001b[1;32m---> 37\u001b[0m total_current \u001b[38;5;241m=\u001b[39m solution[i[\u001b[38;5;241m7\u001b[39m]] \u001b[38;5;241m+\u001b[39m solution[i[\u001b[38;5;241m11\u001b[39m]] \u001b[38;5;241m+\u001b[39m \u001b[43msolution\u001b[49m\u001b[43m[\u001b[49m\u001b[43mi\u001b[49m\u001b[43m[\u001b[49m\u001b[38;5;241;43m12\u001b[39;49m\u001b[43m]\u001b[49m\u001b[43m]\u001b[49m\n\u001b[0;32m     38\u001b[0m solution, total_current\n",
      "\u001b[1;31mKeyError\u001b[0m: i13"
     ]
    }
   ],
   "source": [
    "# Define symbols\n",
    "i = symbols('i1:14')  # Current symbols i1 to i13\n",
    "u = symbols('u1:7')   # Voltage symbols u1 to u6\n",
    "R = 2                 # Resistance value\n",
    "R13 = 5\n",
    "U = 12.6              # Voltage source\n",
    "\n",
    "# Define equations based on the resistor network\n",
    "# Kirchhoff's Current Law (KCL) equations\n",
    "eq1 = Eq(i[1] - i[4] - i[0], 0)  # i2 - i5 - i1\n",
    "eq2 = Eq(i[0] - i[3] - i[5], 0)  # i1 - i4 - i6\n",
    "eq3 = Eq(i[6] - i[1] - i[2], 0)  # i7 - i2 - i3\n",
    "eq4 = Eq(i[2] + i[3] - i[7], 0)  # i3 + i5 - i8\n",
    "eq5 = Eq(i[9] + i[4] - i[8], 0)  # i10 + i5 - i9\n",
    "eq6 = Eq(i[8] + i[5] - i[11], 0) # i9 + i6 - i12\n",
    "\n",
    "# Kirchhoff's Voltage Law (KVL) equations for each resistor\n",
    "# Ordered by resistor numbers in the circuit\n",
    "eq8 = Eq(u[0] - u[1], i[0] * R)     # Across R1\n",
    "eq7 = Eq(u[2] - u[0], i[1] * R)     # Across R2\n",
    "eq13 = Eq(u[2] - u[3], i[2] * R)    # Across R3\n",
    "eq12 = Eq(u[1] - u[3], i[3] * R)    # Across R4\n",
    "eq18 = Eq(u[0] - u[4], i[4] * R)    # Across R5\n",
    "eq10 = Eq(u[1] - u[5], i[5] * R)    # Across R6\n",
    "# eq11 = Eq(U - u[2], i[6] * R)       # Across R7\n",
    "eq14 = Eq(u[3], i[7] * R)           # Across R8\n",
    "eq15 = Eq(u[4] - u[5], i[8] * R)    # Across R9\n",
    "eq9 = Eq(U - u[4], i[9] * R)        # Across R10\n",
    "eq17 = Eq(U, i[10] * R)             # Across R11\n",
    "eq16 = Eq(u[5], i[11] * R)          # Across R12\n",
    "eq19 = Eq(u[0], i[12] * R13)        # Across R13\n",
    "\n",
    "# Solve the system of equations\n",
    "solution = solve({eq1, eq2, eq3, eq4, eq5, eq6, eq7, eq8, eq9, eq10, eq12, eq13, eq14, eq15, eq16, eq17, eq18, eq19}, u + i)\n",
    "\n",
    "# Calculate total current\n",
    "total_current = solution[i[7]] + solution[i[11]] + solution[i[12]]\n",
    "solution, total_current"
   ]
  }
 ],
 "metadata": {
  "kernelspec": {
   "display_name": "DTUMisc",
   "language": "python",
   "name": "python3"
  },
  "language_info": {
   "codemirror_mode": {
    "name": "ipython",
    "version": 3
   },
   "file_extension": ".py",
   "mimetype": "text/x-python",
   "name": "python",
   "nbconvert_exporter": "python",
   "pygments_lexer": "ipython3",
   "version": "3.11.10"
  }
 },
 "nbformat": 4,
 "nbformat_minor": 2
}
