{
 "cells": [
  {
   "cell_type": "code",
   "execution_count": 11,
   "metadata": {},
   "outputs": [],
   "source": [
    "import cmath"
   ]
  },
  {
   "cell_type": "code",
   "execution_count": 12,
   "metadata": {},
   "outputs": [
    {
     "name": "stdout",
     "output_type": "stream",
     "text": [
      "(0.7+0.875j)\n"
     ]
    }
   ],
   "source": [
    "z1 = complex(.7000000000,.8750000000)\n",
    "print(z1)\n",
    "n = 4\n",
    "w = z1**n"
   ]
  },
  {
   "cell_type": "code",
   "execution_count": 13,
   "metadata": {},
   "outputs": [
    {
     "name": "stdout",
     "output_type": "stream",
     "text": [
      "0\n",
      "(0.8749999999999999-0.7j)\n",
      "1\n",
      "(0.7+0.8749999999999999j)\n",
      "2\n",
      "(-0.875+0.6999999999999998j)\n",
      "3\n",
      "(-0.6999999999999998-0.875j)\n"
     ]
    }
   ],
   "source": [
    "(modW,argW) = cmath.polar(w)\n",
    "for p in range(0,n):\n",
    "    print(p)\n",
    "    print(modW**(1/n)*cmath.exp(((argW/n)+p*(2 * cmath.pi / n))*complex(0,1)))"
   ]
  },
  {
   "cell_type": "code",
   "execution_count": null,
   "metadata": {},
   "outputs": [],
   "source": []
  },
  {
   "cell_type": "markdown",
   "metadata": {},
   "source": []
  }
 ],
 "metadata": {
  "kernelspec": {
   "display_name": "DTUMisc",
   "language": "python",
   "name": "python3"
  },
  "language_info": {
   "codemirror_mode": {
    "name": "ipython",
    "version": 3
   },
   "file_extension": ".py",
   "mimetype": "text/x-python",
   "name": "python",
   "nbconvert_exporter": "python",
   "pygments_lexer": "ipython3",
   "version": "3.12.5"
  }
 },
 "nbformat": 4,
 "nbformat_minor": 2
}
