{
 "cells": [
  {
   "cell_type": "code",
   "execution_count": 7,
   "metadata": {},
   "outputs": [],
   "source": [
    "import cmath"
   ]
  },
  {
   "cell_type": "code",
   "execution_count": 8,
   "metadata": {},
   "outputs": [],
   "source": [
    "z1 = complex(2,4)\n",
    "z2 = complex(9,4)\n",
    "# The amount it needs to be turned counter clockwise\n",
    "angle_addition = 0.4\n",
    "vektor = [3, 3]"
   ]
  },
  {
   "cell_type": "code",
   "execution_count": 10,
   "metadata": {},
   "outputs": [
    {
     "name": "stdout",
     "output_type": "stream",
     "text": [
      "(-20.140507077744395+103.15653241949258j) (77.39843223085876+203.58638514542577j)\n"
     ]
    }
   ],
   "source": [
    "#multiply with the amount it needs to be scaled\n",
    "z1 = z1 * 4\n",
    "z2 = z2 * 4\n",
    "\n",
    "# Add to the angle\n",
    "z1 = z1 * cmath.exp(angle_addition * complex(0, 1))\n",
    "z2 = z2 * cmath.exp(angle_addition * complex(0, 1))\n",
    "\n",
    "# Add the vector\n",
    "z1 = complex(z1.real + vektor[0], z1.imag + vektor[1])\n",
    "z2 = complex(z2.real + vektor[0], z2.imag + vektor[1])\n",
    "\n",
    "# Print the results\n",
    "print(z1, z2)"
   ]
  },
  {
   "cell_type": "code",
   "execution_count": null,
   "metadata": {},
   "outputs": [],
   "source": []
  }
 ],
 "metadata": {
  "kernelspec": {
   "display_name": "DTUMisc",
   "language": "python",
   "name": "python3"
  },
  "language_info": {
   "codemirror_mode": {
    "name": "ipython",
    "version": 3
   },
   "file_extension": ".py",
   "mimetype": "text/x-python",
   "name": "python",
   "nbconvert_exporter": "python",
   "pygments_lexer": "ipython3",
   "version": "3.12.5"
  }
 },
 "nbformat": 4,
 "nbformat_minor": 2
}
