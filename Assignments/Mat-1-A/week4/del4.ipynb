{
 "cells": [
  {
   "cell_type": "code",
   "execution_count": 17,
   "metadata": {},
   "outputs": [],
   "source": [
    "import cmath"
   ]
  },
  {
   "cell_type": "code",
   "execution_count": 18,
   "metadata": {},
   "outputs": [
    {
     "name": "stdout",
     "output_type": "stream",
     "text": [
      "(1.033333333+0.6999999999j)\n"
     ]
    }
   ],
   "source": [
    "z1 = complex(1.033333333,.6999999999)\n",
    "print(z1)\n",
    "n = 3\n",
    "w = z1**n"
   ]
  },
  {
   "cell_type": "code",
   "execution_count": 19,
   "metadata": {},
   "outputs": [
    {
     "name": "stdout",
     "output_type": "stream",
     "text": [
      "0\n",
      "(1.033333333+0.6999999999000001j)\n",
      "1\n",
      "(-1.1228844490625043+0.5448929170052453j)\n",
      "2\n",
      "(0.08955111606250371-1.244892916905245j)\n"
     ]
    }
   ],
   "source": [
    "(modW,argW) = cmath.polar(w)\n",
    "for p in range(0,n):\n",
    "    print(p)\n",
    "    print(modW**(1/n)*cmath.exp(((argW/n)+p*(2 * cmath.pi / n))*complex(0,1)))"
   ]
  },
  {
   "cell_type": "code",
   "execution_count": 20,
   "metadata": {},
   "outputs": [
    {
     "ename": "NameError",
     "evalue": "name 'np' is not defined",
     "output_type": "error",
     "traceback": [
      "\u001b[1;31m---------------------------------------------------------------------------\u001b[0m",
      "\u001b[1;31mNameError\u001b[0m                                 Traceback (most recent call last)",
      "Cell \u001b[1;32mIn[20], line 2\u001b[0m\n\u001b[0;32m      1\u001b[0m \u001b[38;5;66;03m# The angle of the complex numbers\u001b[39;00m\n\u001b[1;32m----> 2\u001b[0m \u001b[38;5;28mprint\u001b[39m (\u001b[43mnp\u001b[49m\u001b[38;5;241m.\u001b[39mangle(z_start), np\u001b[38;5;241m.\u001b[39mangle(z_end))\n\u001b[0;32m      4\u001b[0m \u001b[38;5;66;03m# This is alpha and the answer to the task\u001b[39;00m\n\u001b[0;32m      5\u001b[0m \u001b[38;5;28mprint\u001b[39m (np\u001b[38;5;241m.\u001b[39mangle(z_end) \u001b[38;5;241m-\u001b[39m np\u001b[38;5;241m.\u001b[39mangle(z_start))\n",
      "\u001b[1;31mNameError\u001b[0m: name 'np' is not defined"
     ]
    }
   ],
   "source": [
    "# The angle of the complex numbers\n",
    "print (np.angle(z_start), np.angle(z_end))\n",
    "\n",
    "# This is alpha and the answer to the task\n",
    "print (np.angle(z_end) - np.angle(z_start))\n",
    "# This is the answer because alpha(the angle) is the difference between the two"
   ]
  },
  {
   "cell_type": "code",
   "execution_count": null,
   "metadata": {},
   "outputs": [],
   "source": []
  }
 ],
 "metadata": {
  "kernelspec": {
   "display_name": "DTUMisc",
   "language": "python",
   "name": "python3"
  },
  "language_info": {
   "codemirror_mode": {
    "name": "ipython",
    "version": 3
   },
   "file_extension": ".py",
   "mimetype": "text/x-python",
   "name": "python",
   "nbconvert_exporter": "python",
   "pygments_lexer": "ipython3",
   "version": "3.12.5"
  }
 },
 "nbformat": 4,
 "nbformat_minor": 2
}
