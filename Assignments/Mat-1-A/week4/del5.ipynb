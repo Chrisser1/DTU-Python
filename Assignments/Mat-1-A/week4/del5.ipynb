{
 "cells": [
  {
   "cell_type": "code",
   "execution_count": 22,
   "metadata": {},
   "outputs": [],
   "source": [
    "import cmath\n",
    "import numpy as np"
   ]
  },
  {
   "cell_type": "code",
   "execution_count": 23,
   "metadata": {},
   "outputs": [],
   "source": [
    "# this is the complex number put into the function\n",
    "z_start = complex(2, 3)\n",
    "# This is the result of the funtion\n",
    "z_end = complex(-0.7586548541, 3.524832310)"
   ]
  },
  {
   "cell_type": "code",
   "execution_count": 24,
   "metadata": {},
   "outputs": [
    {
     "name": "stdout",
     "output_type": "stream",
     "text": [
      "3.605551275463989 3.605551275640027\n"
     ]
    }
   ],
   "source": [
    "# Prints the length of the two complex number that shows they have the same length\n",
    "# That way you have likely put in the right values\n",
    "print (abs(z_start), abs(z_end))"
   ]
  },
  {
   "cell_type": "code",
   "execution_count": 25,
   "metadata": {},
   "outputs": [
    {
     "name": "stdout",
     "output_type": "stream",
     "text": [
      "0.982793723247329 1.7827937232639886\n",
      "0.8000000000166595\n"
     ]
    }
   ],
   "source": [
    "# The angle of the complex numbers\n",
    "print (np.angle(z_start), np.angle(z_end))\n",
    "\n",
    "# This is alpha and the answer to the task\n",
    "print (np.angle(z_end) - np.angle(z_start))\n",
    "# This is the answer because alpha(the angle) is the difference between the two"
   ]
  },
  {
   "cell_type": "code",
   "execution_count": null,
   "metadata": {},
   "outputs": [],
   "source": []
  },
  {
   "cell_type": "code",
   "execution_count": null,
   "metadata": {},
   "outputs": [],
   "source": []
  },
  {
   "cell_type": "code",
   "execution_count": null,
   "metadata": {},
   "outputs": [],
   "source": []
  }
 ],
 "metadata": {
  "kernelspec": {
   "display_name": "DTUMisc",
   "language": "python",
   "name": "python3"
  },
  "language_info": {
   "codemirror_mode": {
    "name": "ipython",
    "version": 3
   },
   "file_extension": ".py",
   "mimetype": "text/x-python",
   "name": "python",
   "nbconvert_exporter": "python",
   "pygments_lexer": "ipython3",
   "version": "3.12.5"
  }
 },
 "nbformat": 4,
 "nbformat_minor": 2
}
