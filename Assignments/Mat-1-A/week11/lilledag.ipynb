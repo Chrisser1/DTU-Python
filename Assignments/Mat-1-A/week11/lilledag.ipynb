{
 "cells": [
  {
   "cell_type": "code",
   "execution_count": 67,
   "metadata": {},
   "outputs": [],
   "source": [
    "from sympy import *"
   ]
  },
  {
   "cell_type": "markdown",
   "metadata": {},
   "source": [
    "# Opgave 1: Diagonalisering af matrix.\n",
    "En lineær afbildning $f: \\mathbb{R}^3 \\rightarrow \\mathbb{R}^3$ har med hensyn til den ordnede standardbasis e i $\\mathbb{R}$ afbildningsmatricen:\n",
    "\n",
    "$$\n",
    "_e[f]_e=\n",
    "\\begin{bmatrix}\n",
    "1 & 0 & 0 \\\\\n",
    "1 & 1 & 1 \\\\\n",
    "1 & 0 & 2\n",
    "\\end{bmatrix}\n",
    "\\in \\mathbb{R}^{3 \\times 3}\n",
    "$$"
   ]
  },
  {
   "cell_type": "markdown",
   "metadata": {},
   "source": [
    "## Spørgsmål a\n",
    "Angiv en ordnet basis v for $\\mathbb{R}^3$ med hensyn til hvilken afbildningsmatricen for f bliver en diagonalmatrix, og angiv den tilsvarende basisskiftematrix $_e[id_{\\mathbb{R}^3}]_v$ som skifter fra v-koordinater til e-koordinater."
   ]
  },
  {
   "cell_type": "markdown",
   "metadata": {},
   "source": [
    "### Svar:\n",
    "Først vil vi finde egenvektorne, som kan findes\n",
    "\n",
    "\n",
    "$$\n",
    "det(f - Z \\cdot I_n)\n",
    "$$\n",
    "\n",
    "Vi udregner det inde i det() først\n",
    "\n",
    "$$\n",
    "\\begin{bmatrix}\n",
    "1 & 0 & 0 \\\\\n",
    "1 & 1 & 1 \\\\\n",
    "1 & 0 & 2\n",
    "\\end{bmatrix} -\n",
    "Z \\cdot\n",
    "\\begin{bmatrix}\n",
    "1 & 0 & 0 \\\\\n",
    "0 & 1 & 0 \\\\\n",
    "0 & 0 & 1\n",
    "\\end{bmatrix} =\n",
    "\\begin{bmatrix}\n",
    "1 - Z & 0 & 0 \\\\\n",
    "1 & 1 - Z & 1 \\\\\n",
    "1 & 0 & 2 - Z\n",
    "\\end{bmatrix}\n",
    "$$\n",
    "\n",
    "Vi kan nu udregne determinanten:"
   ]
  },
  {
   "cell_type": "code",
   "execution_count": 68,
   "metadata": {},
   "outputs": [
    {
     "data": {
      "text/latex": [
       "$\\displaystyle - \\left(Z - 2\\right) \\left(Z - 1\\right)^{2}$"
      ],
      "text/plain": [
       "-(Z - 2)*(Z - 1)**2"
      ]
     },
     "execution_count": 68,
     "metadata": {},
     "output_type": "execute_result"
    }
   ],
   "source": [
    "Z = symbols('Z')\n",
    "d = Matrix([[1-Z, 0, 0], [1, 1-Z,1],[1,0,2-Z]])\n",
    "factor(d.det())"
   ]
  },
  {
   "cell_type": "markdown",
   "metadata": {},
   "source": [
    "Vi har nu fundet egenværdierne 1 og 2, hvor am(1) = 2 og am(2) = 1. Vi vil nu gerne finde de tilhørende egenvektorrum:\n",
    "\n",
    "For at finde dem vil gøre brug af lemma 11.2.3\n",
    "![image.png](../../../misc/images/lemmas/11.2.3.png)\n",
    "$$\n",
    "\n",
    "$$"
   ]
  },
  {
   "cell_type": "code",
   "execution_count": 69,
   "metadata": {},
   "outputs": [
    {
     "data": {
      "text/plain": [
       "(Matrix([\n",
       " [1, 0, 1],\n",
       " [0, 0, 0],\n",
       " [0, 0, 0]]),\n",
       " (0,))"
      ]
     },
     "execution_count": 69,
     "metadata": {},
     "output_type": "execute_result"
    }
   ],
   "source": [
    "Z = 1\n",
    "d = Matrix([[1-Z, 0, 0], [1, 1-Z,1],[1,0,2-Z]])\n",
    "d.rref()"
   ]
  },
  {
   "cell_type": "markdown",
   "metadata": {},
   "source": [
    "Vi kan nu kigge på vores definition, som jo er\n",
    "$$\n",
    "ker(A-\\lambda \\cdot I_n) \\text{ hvor } A-\\lambda \\cdot I_n = \n",
    "\\begin{bmatrix}\n",
    "1 & 0 & 1 \\\\\n",
    "0 & 0 & 0 \\\\\n",
    "0 & 0 & 0\n",
    "\\end{bmatrix}\n",
    "$$\n",
    "\n",
    "Dette giver os formlen $x_1 + x_3 = 0$\n",
    "\n",
    "vi kan nu løse\n",
    "$$\n",
    "\\begin{bmatrix}\n",
    "x_1 \\\\\n",
    "x_2 \\\\\n",
    "x_3\n",
    "\\end{bmatrix} = \n",
    "\\begin{bmatrix}\n",
    "-x_3 \\\\\n",
    "x_2 \\\\\n",
    "x_3\n",
    "\\end{bmatrix} =\n",
    "x_2 \\cdot \n",
    "\\begin{bmatrix}\n",
    "0 \\\\\n",
    "1 \\\\\n",
    "0\n",
    "\\end{bmatrix} +\n",
    "x_3 \\cdot \n",
    "\\begin{bmatrix}\n",
    "-1 \\\\\n",
    "0 \\\\\n",
    "1\n",
    "\\end{bmatrix}\n",
    "$$\n",
    "\n",
    "$$\n",
    "E_1 = span(\n",
    "\\begin{bmatrix}\n",
    "0 \\\\\n",
    "1 \\\\\n",
    "0\n",
    "\\end{bmatrix},\n",
    "\\begin{bmatrix}\n",
    "-1 \\\\\n",
    "0 \\\\\n",
    "1\n",
    "\\end{bmatrix}\n",
    ")\n",
    "$$"
   ]
  },
  {
   "cell_type": "markdown",
   "metadata": {},
   "source": []
  },
  {
   "cell_type": "code",
   "execution_count": 70,
   "metadata": {},
   "outputs": [
    {
     "data": {
      "text/plain": [
       "(Matrix([\n",
       " [1, 0,  0],\n",
       " [0, 1, -1],\n",
       " [0, 0,  0]]),\n",
       " (0, 1))"
      ]
     },
     "execution_count": 70,
     "metadata": {},
     "output_type": "execute_result"
    }
   ],
   "source": [
    "Z = 2\n",
    "d = Matrix([[1-Z, 0, 0], [1, 1-Z,1],[1,0,2-Z]])\n",
    "d.rref()"
   ]
  },
  {
   "cell_type": "markdown",
   "metadata": {},
   "source": [
    "Vi kan nu kigge på vores definition, som jo er\n",
    "$$\n",
    "ker(A-\\lambda \\cdot I_n) \\text{ hvor } A-\\lambda \\cdot I_n = \n",
    "\\begin{bmatrix}\n",
    "1 & 0 & 0 \\\\\n",
    "0 & 1 & -1 \\\\\n",
    "0 & 0 & 0\n",
    "\\end{bmatrix}\n",
    "$$\n",
    "\n",
    "Dette giver os formlen $x_1 = 0$ og $x_2 = x_3$\n",
    "\n",
    "vi kan nu løse\n",
    "$$\n",
    "\\begin{bmatrix}\n",
    "x_1 \\\\\n",
    "x_2 \\\\\n",
    "x_3\n",
    "\\end{bmatrix} = \n",
    "\\begin{bmatrix}\n",
    "0 \\\\\n",
    "x_3 \\\\\n",
    "x_3\n",
    "\\end{bmatrix} =\n",
    "x_3 \\cdot \n",
    "\\begin{bmatrix}\n",
    "0 \\\\\n",
    "1 \\\\\n",
    "1\n",
    "\\end{bmatrix} \n",
    "$$\n",
    "\n",
    "$$\n",
    "E_2 = span(\n",
    "\\begin{bmatrix}\n",
    "0 \\\\\n",
    "1 \\\\\n",
    "1\n",
    "\\end{bmatrix}\n",
    ")\n",
    "$$"
   ]
  },
  {
   "cell_type": "markdown",
   "metadata": {},
   "source": [
    "Vi har nu funder de to tilhørende egenvektorrum\n",
    "$$\n",
    "E_1 = span(\n",
    "\\begin{bmatrix}\n",
    "0 \\\\\n",
    "1 \\\\\n",
    "0\n",
    "\\end{bmatrix},\n",
    "\\begin{bmatrix}\n",
    "-1 \\\\\n",
    "0 \\\\\n",
    "1\n",
    "\\end{bmatrix}\n",
    ") \\text{ og }\n",
    "E_2 = span(\n",
    "\\begin{bmatrix}\n",
    "0 \\\\\n",
    "1 \\\\\n",
    "1\n",
    "\\end{bmatrix}\n",
    ")\n",
    "$$"
   ]
  },
  {
   "cell_type": "markdown",
   "metadata": {},
   "source": [
    "Vi har nu, at Disse egenvektorer udgør en basis for $\\mathbb{R}^3$, fordi de er lineært uafhængige (de kommer fra forskellige egenværdier og har korrekt dimension)."
   ]
  },
  {
   "cell_type": "markdown",
   "metadata": {},
   "source": [
    "## Spørgsmål b\n",
    "Angiv en invertibel matrix V og en diagonalmatrix A, så\n",
    "$$\n",
    "A = V^{-1} \\cdot _e[f]_e \\cdot V\n",
    "$$"
   ]
  },
  {
   "cell_type": "markdown",
   "metadata": {},
   "source": [
    "![image.png](../../../misc/images/lemmas/11.4.2.png)\n",
    "Vi følger lemmaet"
   ]
  },
  {
   "cell_type": "code",
   "execution_count": 71,
   "metadata": {},
   "outputs": [
    {
     "data": {
      "text/latex": [
       "$\\displaystyle \\left[\\begin{matrix}1 & 0 & 0\\\\0 & 1 & 0\\\\0 & 0 & 2\\end{matrix}\\right]$"
      ],
      "text/plain": [
       "Matrix([\n",
       "[1, 0, 0],\n",
       "[0, 1, 0],\n",
       "[0, 0, 2]])"
      ]
     },
     "execution_count": 71,
     "metadata": {},
     "output_type": "execute_result"
    }
   ],
   "source": [
    "m1 = Matrix([[1, 0, 0], [1, 1, 1],[1,0,2]])\n",
    "m2 = Matrix([[0, -1, 0], [1, 0, 1],[0, 1, 1]])\n",
    "\n",
    "m2.inv() * m1 * m2"
   ]
  },
  {
   "cell_type": "markdown",
   "metadata": {},
   "source": [
    "Vi har nu fundet, at \n",
    "$$\n",
    "V = \n",
    "\\begin{bmatrix}\n",
    "0 & -1 & 0 \\\\ \n",
    "1 & 0 & 1 \\\\\n",
    "0 & 1 & 1\n",
    "\\end{bmatrix}\n",
    "$$\n",
    "\n",
    "og at \n",
    "$$\n",
    "\\begin{bmatrix}\n",
    "1 & 0 & 0 \\\\ \n",
    "0 & 1 & 0 \\\\\n",
    "0 & 0 & 2\n",
    "\\end{bmatrix}\n",
    "$$"
   ]
  },
  {
   "cell_type": "markdown",
   "metadata": {},
   "source": [
    "# Opgave 2: Diagonalisering\n",
    "Denne opgave ønskes løst ved håndregning."
   ]
  },
  {
   "cell_type": "markdown",
   "metadata": {},
   "source": [
    "## Spørgsmål a\n",
    "Givet matricen:\n",
    "$$\n",
    "A = \n",
    "\\begin{bmatrix}\n",
    "9 & -6 \\\\\n",
    "8 & -7 \n",
    "\\end{bmatrix} \\in \\mathbb{R}^{2 \\times 2}\n",
    "$$\n",
    "\n",
    "Undersøg om A kan diagonaliseres og angiv i givet fald en invertibel matrix V og en diagonalmatrix A, således at\n",
    "$$\n",
    "A = V^{-1} \\cdot A \\cdot V\n",
    "$$"
   ]
  },
  {
   "cell_type": "code",
   "execution_count": 74,
   "metadata": {},
   "outputs": [
    {
     "data": {
      "text/plain": [
       "(Matrix([\n",
       " [1, 0],\n",
       " [0, 1]]),\n",
       " (0, 1))"
      ]
     },
     "execution_count": 74,
     "metadata": {},
     "output_type": "execute_result"
    }
   ],
   "source": [
    "Matrix([[0,-6],[8,-16]]).rref()"
   ]
  },
  {
   "cell_type": "code",
   "execution_count": null,
   "metadata": {},
   "outputs": [],
   "source": []
  },
  {
   "cell_type": "code",
   "execution_count": null,
   "metadata": {},
   "outputs": [],
   "source": [
    " "
   ]
  }
 ],
 "metadata": {
  "kernelspec": {
   "display_name": "DTUMisc",
   "language": "python",
   "name": "python3"
  },
  "language_info": {
   "codemirror_mode": {
    "name": "ipython",
    "version": 3
   },
   "file_extension": ".py",
   "mimetype": "text/x-python",
   "name": "python",
   "nbconvert_exporter": "python",
   "pygments_lexer": "ipython3",
   "version": "3.11.10"
  }
 },
 "nbformat": 4,
 "nbformat_minor": 2
}
