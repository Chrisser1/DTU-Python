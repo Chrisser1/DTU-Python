{
 "cells": [
  {
   "cell_type": "code",
   "execution_count": 19,
   "metadata": {},
   "outputs": [],
   "source": [
    "from sympy import *"
   ]
  },
  {
   "cell_type": "markdown",
   "metadata": {},
   "source": [
    "# Opgave 1: Egenværdier og egenvektorer\n",
    "Givet matricen\n",
    "$$\n",
    "A = \n",
    "\\begin{bmatrix}\n",
    "-5 & 10 \\\\\n",
    "1 & 4\n",
    "\\end{bmatrix}\n",
    "\\in \\mathbb{R}^{2 \\times 2}\n",
    "$$\n",
    "\n",
    "Afgør om følgende vektorer er egenvektorer for matricen A. Hvis ja, bestem den tilhørende egenværdi.\n",
    "\n",
    "**1** $\\begin{bmatrix} 1 \\\\ 2 \\end{bmatrix}$\n",
    "\n",
    "**2** $\\begin{bmatrix} 1 \\\\ 1 \\end{bmatrix}$"
   ]
  },
  {
   "cell_type": "markdown",
   "metadata": {},
   "source": [
    "### Svar:\n",
    "For at løse denne vil vi gøre brug af definition 11.1.2\n",
    "![image.png](../../../misc/images/definitions/11.1.2.png)\n",
    "Vi skal undersøge, om de givne vektorer opfylder denne betingelse. Vi starter med $\\begin{bmatrix} 1 \\\\ 2 \\end{bmatrix}$"
   ]
  },
  {
   "cell_type": "code",
   "execution_count": 20,
   "metadata": {},
   "outputs": [
    {
     "data": {
      "text/latex": [
       "$\\displaystyle \\left[\\begin{matrix}15\\\\9\\end{matrix}\\right]$"
      ],
      "text/plain": [
       "Matrix([\n",
       "[15],\n",
       "[ 9]])"
      ]
     },
     "execution_count": 20,
     "metadata": {},
     "output_type": "execute_result"
    }
   ],
   "source": [
    "v = Matrix([[-5,1], [10,4]]).transpose()\n",
    "lambda1 = Matrix([1,2])\n",
    "\n",
    "v*lambda1"
   ]
  },
  {
   "cell_type": "markdown",
   "metadata": {},
   "source": [
    "Da \n",
    "$$\n",
    "\\begin{bmatrix}\n",
    "15 \\\\ 9\n",
    "\\end{bmatrix}\n",
    "$$\n",
    "\n",
    "ikke kan beskrives som\n",
    "$$\n",
    "\\begin{bmatrix}\n",
    "1 \\\\ 2\n",
    "\\end{bmatrix} \\cdot \\lambda\n",
    "$$"
   ]
  },
  {
   "cell_type": "markdown",
   "metadata": {},
   "source": [
    "Vi tjekker nu $\\begin{bmatrix} 1 \\\\ 1 \\end{bmatrix}$"
   ]
  },
  {
   "cell_type": "code",
   "execution_count": 21,
   "metadata": {},
   "outputs": [
    {
     "data": {
      "text/latex": [
       "$\\displaystyle \\left[\\begin{matrix}5\\\\5\\end{matrix}\\right]$"
      ],
      "text/plain": [
       "Matrix([\n",
       "[5],\n",
       "[5]])"
      ]
     },
     "execution_count": 21,
     "metadata": {},
     "output_type": "execute_result"
    }
   ],
   "source": [
    "lambda2 = Matrix([1,1])\n",
    "\n",
    "v * lambda2"
   ]
  },
  {
   "cell_type": "markdown",
   "metadata": {},
   "source": [
    "Som kan aflæses, er $\\begin{bmatrix} 5 \\\\ 5 \\end{bmatrix}$ et multiplum af $\\begin{bmatrix} 1 \\\\ 1 \\end{bmatrix}$. Altså $\\begin{bmatrix} 1 \\\\ 1 \\end{bmatrix}$ er en egenvektor for $A$ med egenværdien $\\lambda = 5$."
   ]
  },
  {
   "cell_type": "markdown",
   "metadata": {},
   "source": [
    "# Opgave 2: Reelle egenværdier og egenvektorer\n",
    "Denne opgave regnes i hånden. Som i den forrige opgave betragtes matricen\n",
    "$$\n",
    "A = \n",
    "\\begin{bmatrix}\n",
    "-5 & 10 \\\\\n",
    "1 & 4\n",
    "\\end{bmatrix}\n",
    "\\in \\mathbb{R}^{2 \\times 2}\n",
    "$$"
   ]
  },
  {
   "cell_type": "markdown",
   "metadata": {},
   "source": [
    "## Spørgsmål a\n",
    "Opstil det karakteriske polynomium for A, og find ved hjælp af dette egenværdierne for \n",
    "A. Bestem også deres algebraiske multipliciteter."
   ]
  },
  {
   "cell_type": "markdown",
   "metadata": {},
   "source": [
    "### Svar: \n",
    "![image.png](../../../misc/images/hints/week11-opgave2.png)\n",
    "Vi har nu \n",
    "$$\n",
    "det(\n",
    "\\begin{bmatrix}\n",
    "-5 & 10 \\\\\n",
    "1 & 4\n",
    "\\end{bmatrix}\n",
    "- Z \\cdot\n",
    "\\begin{bmatrix}\n",
    "1 & 0 \\\\\n",
    "0 & 1\n",
    "\\end{bmatrix}\n",
    ")\n",
    "$$\n",
    "\n",
    "Vi kan nu udregne det inde i det():\n",
    "$$\n",
    "\\begin{bmatrix}\n",
    "-5 & 10 \\\\\n",
    "1 & 4\n",
    "\\end{bmatrix}\n",
    "- Z \\cdot\n",
    "\\begin{bmatrix}\n",
    "1 & 0 \\\\\n",
    "0 & 1\n",
    "\\end{bmatrix}\n",
    "=\n",
    "\\begin{bmatrix}\n",
    "-5 - Z & 10 \\\\\n",
    "1 & 4 - Z\n",
    "\\end{bmatrix}\n",
    "$$\n",
    "\n",
    "Vi har nu \n",
    "$$\n",
    "det(\n",
    "\\begin{bmatrix}\n",
    "-5 - Z & 10 \\\\\n",
    "1 & 4 - Z\n",
    "\\end{bmatrix}\n",
    ") = (-5 - Z) \\cdot (4 - Z) - 10 = -20 + 5Z - 4Z + Z^2 - 10 = Z^2 + Z - 30\n",
    "$$"
   ]
  },
  {
   "cell_type": "markdown",
   "metadata": {},
   "source": [
    "#### Konklusion\n",
    "Det karakteristiske polynomium er $Z^2 + Z - 30$. Egenværdierne er rødderne i dette polynomium: \n",
    "5 og -6 og man har $Z^2 + Z - 30 = (Z-5) \\cdot (Z+6)$. Derfor har begge egenværdier algebraisk multiplicitet 1."
   ]
  },
  {
   "cell_type": "markdown",
   "metadata": {},
   "source": [
    "# Spørgsmål b\n",
    "Find egenrummet $E_{-6}$\n",
    " hørende til egenværdien -6. Hvad er den geometriske multiplicitet af egenværdien -6?\n",
    "\n",
    "![image.png](../../../misc/images/hints/week11-opgave2-b.png)"
   ]
  },
  {
   "cell_type": "markdown",
   "metadata": {},
   "source": [
    "### Svar:\n",
    "Vi ved fra lemma 11.2.3, at $E_i = ker(A-i\\cdot I_2)$. Vi har\n",
    "\n",
    "$$\n",
    "A - (-6) \\cdot I_2 = \n",
    "\\begin{bmatrix}\n",
    "-5 - (-6) & 10 \\\\\n",
    "1 & 4 - (-6)\n",
    "\\end{bmatrix} =\n",
    "\\begin{bmatrix}\n",
    "1 & 10 \\\\\n",
    "1 & 10\n",
    "\\end{bmatrix}\n",
    "$$\n",
    "\n",
    "Vi kan nu reducere dette\n",
    "$$\n",
    "\\begin{bmatrix}\n",
    "1 & 10 \\\\\n",
    "1 & 10\n",
    "\\end{bmatrix} \\rightarrow \n",
    "\\begin{bmatrix}\n",
    "1 & 10 \\\\\n",
    "0 & 0\n",
    "\\end{bmatrix}\n",
    "$$"
   ]
  },
  {
   "cell_type": "markdown",
   "metadata": {},
   "source": [
    "Dette viser, at vi har en vector $v = (v_1, v_2) \\in ker(A - (-6) \\cdot I_2$, hvis og kun hvis $v_1 = -10 \\cdot v_2)$. Derfor har vi:\n",
    "\n",
    "$$\n",
    "E_i = ker(A - (-6) \\cdot I_2) = \\{c \\cdot \\begin{bmatrix} -10 \\\\ 1 \\end{bmatrix}\\}\n",
    "$$\n",
    "\n",
    "En basis for $E_i$ er derfor givet ved\n",
    "$$\n",
    "\\{\\begin{bmatrix} -10 \\\\ 1 \\end{bmatrix}\\}\n",
    "$$\n",
    "\n",
    "Dette besvarer spørgsmålet.\n"
   ]
  },
  {
   "cell_type": "markdown",
   "metadata": {},
   "source": [
    "# Spørgsmål c\n",
    "Egenrummet hørende til egenværdien 5 angives med $E_5$. Prøv at bestemme $dim(E_5)$ ved at bruge Theorem 11.2.4. Brug resultaterne fra Opgave 1 til at angive en basis for $E_5$.\n",
    "![image.png](../../../misc/images/theorems/11.2.4.png)\n",
    "![image.png](../../../misc/images/hints/week11-opgave2-c.png)"
   ]
  },
  {
   "cell_type": "markdown",
   "metadata": {},
   "source": [
    "### Svar:\n",
    "Hvis $dim(E_5)=1, betyder det, at egenrummet $E_5$ er en éndimensionel underrum af $R^2$, hvilket indebærer, at enhver egenvektor for $\\lambda=5$ kan skrives som en skalar gange $\\begin{bmatrix} 1 \\\\ 1 \\end{bmatrix}$. Altså er $\\{\\begin{bmatrix} 1 \\\\ 1 \\end{bmatrix}\\}$ en basis for $E_5$"
   ]
  },
  {
   "cell_type": "markdown",
   "metadata": {},
   "source": [
    "# Opgave 3: Egenværdier og egenvektorer i et uendeligdimensionelt tilfælde\n",
    "Lad $C_\\infty(\\mathbb{R})$ være det uendeligdimensionelle, reelle vektorrum nævnt i Example 9.3.4 fra lærebogen. Den består af funktioner fra $\\mathbb{R}$ til $\\mathbb{R}$ som kan differentieres vilkårligt mange gange. Der gives følgende lineære afbildning $L: C_\\infty(\\mathbb{R}) \\rightarrow C_\\infty(\\mathbb{R})$ defineret ved $L(f) = f''$. Med andre ord: L afbilder en funktion $f \\in C_\\infty(\\mathbb{R})$ til dens andenafledte funktion."
   ]
  },
  {
   "cell_type": "markdown",
   "metadata": {},
   "source": [
    "## Spørgsmål a\n",
    "Afgør om følgende funktioner er egenvektorer for L. Hvis ja, bestem den tilhørende egenværdi.\n",
    "\n",
    "**1.** $f_1(t) = t^2$\n",
    "\n",
    "**2.** $f_2(t) = cos(t)$\n",
    "\n",
    "**3.** $f_3(t) = sin(t)$\n",
    "\n",
    "**4.** $f_4(t) = e^{4t}$\n",
    "\n",
    "**5.** $f_5(t) = t \\cdot e^t$"
   ]
  },
  {
   "cell_type": "markdown",
   "metadata": {},
   "source": [
    "1. $((t^2)')' = (2t)' = 2$, da 2 ikke er proportional med $t^2$ er den ikke en egenvektor for \n",
    "L.\n",
    "\n",
    "2. $(cos(t)')' = -sin(t)' = -cos(t)$, da -cos(t) er proportional når der er en egenværdi på -1 er det en egenvektor for L.\n",
    "\n",
    "3. $(sin(t)')' = cos(t)' = -sin(t)$, da -sin(t) er proportional når der er en egenværdi på -1 er det en egenvektor for L.\n",
    "\n",
    "4. $((e^{4t})')' = (4e^{4t})' = 16e^{4t}$, da $16e^{4t}$ er proportional når der er en egenværdi på 16 er det en egenvektor for L.\n",
    "\n",
    "5. $((te^{t})')' = (e^t + te^{t})' = 2e^t+te^t$, da $2e^t+te^t$ ikke er proportional med $t^2$ er den ikke en egenvektor for \n",
    "L.\n"
   ]
  },
  {
   "cell_type": "markdown",
   "metadata": {},
   "source": [
    "# Opgave 4: Komplekse egenværdier og egenvektorer\n",
    "Givet matricen\n",
    "$$\n",
    "A = \n",
    "\\begin{bmatrix}\n",
    "2 & 2 \\\\\n",
    "-1 & 4\n",
    "\\end{bmatrix} \\in \\mathbb{C}^{2 \\times 2}\n",
    "$$"
   ]
  },
  {
   "cell_type": "markdown",
   "metadata": {},
   "source": [
    "## Spørgsmål a\n",
    "Opstil det karakteriske polynomium for A, og find ved hjælp af dette egenværdierne for A."
   ]
  },
  {
   "cell_type": "markdown",
   "metadata": {},
   "source": [
    "### Svar:\n",
    "### Svar: \n",
    "![image.png](../../../misc/images/hints/week11-opgave2.png)\n",
    "Vi har nu \n",
    "$$\n",
    "det(\n",
    "\\begin{bmatrix}\n",
    "2 & 2 \\\\\n",
    "-1 & 4\n",
    "\\end{bmatrix}\n",
    "- Z \\cdot\n",
    "\\begin{bmatrix}\n",
    "1 & 0 \\\\\n",
    "0 & 1\n",
    "\\end{bmatrix}\n",
    ")\n",
    "$$\n",
    "\n",
    "Vi kan nu udregne det inde i det():\n",
    "$$\n",
    "\\begin{bmatrix}\n",
    "2 & 2 \\\\\n",
    "-1 & 4\n",
    "\\end{bmatrix}\n",
    "- Z \\cdot\n",
    "\\begin{bmatrix}\n",
    "1 & 0 \\\\\n",
    "0 & 1\n",
    "\\end{bmatrix}\n",
    "=\n",
    "\\begin{bmatrix}\n",
    "2 - Z & 2 \\\\\n",
    "-1 & 4 - Z\n",
    "\\end{bmatrix}\n",
    "$$\n",
    "\n",
    "Vi har nu \n",
    "$$\n",
    "det(\n",
    "\\begin{bmatrix}\n",
    "2 - Z & 2 \\\\\n",
    "-1 & 4 - Z\n",
    "\\end{bmatrix}\n",
    ") = (2 - Z) \\cdot (4 - Z) + 2 = 8 - 2Z - 4Z + Z^2 + 2 = Z^2 - 6Z + 10\n",
    "$$\n",
    "\n",
    "Vi skal nu bestemme egenværdierne\n",
    "$a = 1$\n",
    "$b = -6$\n",
    "$c = 10$\n",
    "\n",
    "$D = b^2 - 4ac = (-6)^2 - 4 \\cdot 1 \\cdot 10 = 36 - 40 = -4$\n",
    "\n",
    "$x = \\frac{-6 \\pm \\sqrt{-4}}{2} = -3 \\pm i$\n",
    "\n",
    "Altså er egneværdierne $-3 + i$ og $-3 - i$."
   ]
  },
  {
   "cell_type": "markdown",
   "metadata": {},
   "source": []
  }
 ],
 "metadata": {
  "kernelspec": {
   "display_name": "DTUMisc",
   "language": "python",
   "name": "python3"
  },
  "language_info": {
   "codemirror_mode": {
    "name": "ipython",
    "version": 3
   },
   "file_extension": ".py",
   "mimetype": "text/x-python",
   "name": "python",
   "nbconvert_exporter": "python",
   "pygments_lexer": "ipython3",
   "version": "3.11.10"
  }
 },
 "nbformat": 4,
 "nbformat_minor": 2
}
