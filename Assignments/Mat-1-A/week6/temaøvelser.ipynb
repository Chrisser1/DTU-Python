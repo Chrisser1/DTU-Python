{
 "cells": [
  {
   "cell_type": "markdown",
   "metadata": {},
   "source": [
    "# Temaøvelse 2\n",
    "\n",
    "**Algebraens fundamentalsætning** siger, at ethvert polynomium $ p(Z) \\in \\mathbb{C}[Z] $ af grad mindst én har en rod $ \\lambda \\in \\mathbb{C} $ (se Sætning 4.6.1 i lærebogen). For praktiske anvendelser er det vigtigt at kunne finde en sådan rod eller i det mindste at finde en god numerisk tilnærmelse, også kaldet en approksimation.\n",
    "\n",
    "Målet med denne temaøvelse er at opnå algoritmisk indsigt i, hvordan numeriske approksimationer af rødderne i polynomier med reelle koefficienter kan findes. Vi vil gennemgå to metoder: **bisektionsmetoden** og **Newton-Raphson-metoden**.\n",
    "\n",
    "## Del I: Bisektionsmetoden\n",
    "\n",
    "Begynd med at åbne en kommandolinjeversion af Python. (Vi bruger ipynb)\n",
    "\n",
    "## 1. \n",
    "For at kunne arbejde med rødderne i polynomier $p(X) \\in \\mathbb{R}[X]$, definerer vi funktionen, som et sådant polynomium giver anledning til: $p : \\mathbb{R} \\to \\mathbb{R}$, hvor $x \\mapsto p(x)$. Det første skridt er at finde ud af, hvordan man definerer en sådan funktion i Python.\n",
    "\n",
    "### (a)\n",
    "\n",
    "Overvej som et eksempel polynomiet $p(X) = X^3 - X - 6$. Den tilsvarende funktion $p : \\mathbb{R} \\to \\mathbb{R}$ kan defineres i Python som følger:\n",
    "\n",
    "```python\n",
    "def p(x):\n",
    "    return x**3 - x - 6\n"
   ]
  },
  {
   "cell_type": "code",
   "execution_count": 49,
   "metadata": {},
   "outputs": [],
   "source": [
    "def p(x):\n",
    "    return x**3 - x - 6"
   ]
  },
  {
   "cell_type": "markdown",
   "metadata": {},
   "source": [
    "### (b)\n",
    "\n",
    "Nu kan du beregne værdierne af funktionen $p$ ved hjælp af Python. Skriv for eksempel $p(10)$ og kontroller i hånden, at Python returnerer den korrekte værdi.\n"
   ]
  },
  {
   "cell_type": "code",
   "execution_count": 50,
   "metadata": {},
   "outputs": [
    {
     "data": {
      "text/plain": [
       "984"
      ]
     },
     "execution_count": 50,
     "metadata": {},
     "output_type": "execute_result"
    }
   ],
   "source": [
    "p(10) # 10^3 - 10 - 6 = 1000 - 16 = 984"
   ]
  },
  {
   "cell_type": "markdown",
   "metadata": {},
   "source": [
    "### (c)\n",
    "\n",
    "Brug Python til at beregne $p(-1)$, $p(0)$, $p(1)$, $p(2)$ og $p(3)$. Kan du nu angive en rod i polynomiet $p(X)$?\n"
   ]
  },
  {
   "cell_type": "code",
   "execution_count": 51,
   "metadata": {},
   "outputs": [
    {
     "name": "stdout",
     "output_type": "stream",
     "text": [
      "p(-1) = -6\n",
      "p(0) = -6\n",
      "p(1) = -6\n",
      "p(2) = 0\n",
      "p(3) = 18\n"
     ]
    }
   ],
   "source": [
    "print(f\"p(-1) = {p(-1)}\")\n",
    "print(f\"p(0) = {p(0)}\")\n",
    "print(f\"p(1) = {p(1)}\")\n",
    "print(f\"p(2) = {p(2)}\")\n",
    "print(f\"p(3) = {p(3)}\")"
   ]
  },
  {
   "cell_type": "markdown",
   "metadata": {},
   "source": [
    "Generelt vil man sjældent være heldig at finde en rod i et polynomium $f(X)$ blot ved at beregne nogle enkelte af dens værdier. Derfor vil vi nu studere et kriterium, der af og til kan anvendes til i det mindste at bestemme, hvor en rod cirka er placeret. Vi vil starte med at formulere en sætning for kontinuerte funktioner. Vi vil ikke definere, hvad en kontinueret funktion præcist er, men meget løst sagt er en funktion kontinueret, hvis dens graf ikke har nogen “huller”. \n",
    "\n",
    "Du må frit benytte i denne temaøvelse, at enhver funktion $f : \\mathbb{R} \\to \\mathbb{R}$, hvor $x \\mapsto f(x)$, og hvor $f(X) \\in \\mathbb{R}[X]$ er et polynomium, er kontinueret. Kontinuerte funktioner har nogle rare egenskaber, blandt andet den følgende sætning, kendt som mellemværdisætningen.\n",
    "\n",
    "### Sætning 1 \n",
    "Lad $a, b$ være reelle tal, der opfylder $a < b$. Lad yderligere $f : [a,b] \\to \\mathbb{R}$ være en kontinueret funktion.\n",
    "\n",
    "- Hvis $f(a) < f(b)$, og $y$ opfylder $f(a) < y < f(b)$, så er $y = f(x)$ for nogle $x$ i intervallet $[a, b]$.\n",
    "\n",
    "- Hvis $f(a) > f(b)$, og $y$ opfylder $f(b) < y < f(a)$, så er $y = f(x)$ for nogle $x$ i intervallet $[a, b]$.\n",
    "\n",
    "Vi vil ikke bevise denne sætning, men du må bruge den frit. Hvis $f : \\mathbb{R} \\to \\mathbb{R}$ er en funktion, og $\\lambda \\in \\mathbb{R}$ opfylder $f(\\lambda) = 0$, kalder vi $\\lambda$ for et nulpunkt i $f$. Hvis $f$ er defineret ud fra et polynomium $f(X)$, er et nulpunkt i $f$ simpelthen en rod i polynomiet $f(X)$. Mellemværdisætningen leder til en nyttig konsekvens vedrørende nulpunkter i kontinuerte funktioner:\n",
    "\n",
    "### Korollar 2 \n",
    "Lad $a, b$ være reelle tal, der opfylder $a < b$. Lad yderligere $f : [a,b] \\to \\mathbb{R}$ være en kontinueret funktion, der opfylder $f(a) \\cdot f(b) < 0$. Da eksisterer der $x \\in [a,b]$, således at $f(x) = 0$. Med andre ord: funktionen $f$ har et nulpunkt i intervallet $[a, b]$.\n",
    "\n",
    "## 2. \n",
    "Målet med dette spørgsmål er at forstå, hvorfor Korollar 2 er en logisk konsekvens af Sætning 1.\n"
   ]
  },
  {
   "cell_type": "markdown",
   "metadata": {},
   "source": [
    "### (a), (b) og (c)\n",
    "Vis først og fremmest, at $f(a) \\cdot f(b) < 0$ medfører, at \n",
    "$f(a) < 0 \\land f(b) > 0$ eller $f(a) > 0 \\land f(b) < 0$.\n",
    "\n",
    "### Svar\n",
    "Korollar 2 følger logisk af Sætning 1, fordi hvis $f(a) \\cdot f(b) < 0$, så betyder det, at $f(a)$ og $f(b)$ har forskellige fortegn. Det vil sige, at enten $f(a) < 0$ og $f(b) > 0$, eller $f(a) > 0$ og $f(b) < 0$. Ifølge Sætning 1 skal der derfor eksistere en værdi $x$ mellem $a$ og $b$, hvor $f(x) = 0$, hvilket er præcis, hvad Korollar 2 siger.\n",
    "\n",
    "Hvis vi antager, at $f(a) \\cdot f(b) < 0$, så må enten $f(a) < 0$ og $f(b) > 0$, eller $f(a) > 0$ og $f(b) < 0$, da produktet af to tal med forskellige fortegn altid vil være negativt. Dette er også i overensstemmelse med Sætning 1, som bekræfter, at der må være et punkt $x$ i intervallet $[a, b]$, hvor $f(x) = 0$, når der er et skift i fortegn.\n"
   ]
  },
  {
   "cell_type": "markdown",
   "metadata": {},
   "source": [
    "## 3.\n",
    "Polynomiet $p(X) = X^3 - X - 6$ blev med vilje valgt på en sådan måde, at det havde den “pæne” rod 2. Vi vælger nu et andet polynomium uden sådanne pæne rødder.\n",
    "### (a)\n",
    "Betragt polynomiet $f(X) = X^3 - X - 5$, og definér i Python den tilsvarende funktion $f : \\mathbb{R} \\to \\mathbb{R}$, det vil sige funktionen, der opfylder $x \\mapsto x^3 - x - 5$."
   ]
  },
  {
   "cell_type": "code",
   "execution_count": 52,
   "metadata": {},
   "outputs": [],
   "source": [
    "def f(x):\n",
    "    return x**3 - x - 5"
   ]
  },
  {
   "cell_type": "markdown",
   "metadata": {},
   "source": [
    "### (b)\n",
    "Benyt Python til at udregne $f(x)$ for $x \\in \\{0, 1, 2, 3\\}$. Konkludér ved hjælp af Korollar 2 og det faktum, at $f(1) < 0$ og $f(2) > 0$, at polynomiet $f(X) = X^3 - X - 5$ har en rod i intervallet $[1, 2]$. Som nævnt tidligere må du frit benytte, at en polynomiefunktion er kontinueret.\n"
   ]
  },
  {
   "cell_type": "code",
   "execution_count": 53,
   "metadata": {},
   "outputs": [
    {
     "name": "stdout",
     "output_type": "stream",
     "text": [
      "f(0) = -5\n",
      "f(1) = -5\n",
      "f(2) = 1\n",
      "f(3) = 19\n"
     ]
    }
   ],
   "source": [
    "for i in range(4):\n",
    "    print(f\"f({i}) = {f(i)}\")"
   ]
  },
  {
   "cell_type": "markdown",
   "metadata": {},
   "source": [
    "#### Konklusion\n",
    "Ved hjælp af Python har vi beregnet værdierne af $f(x)$ for $x \\in \\{0, 1, 2, 3\\}$ for polynomiet $f(X) = X^3 - X - 5$. Resultaterne viser følgende:\n",
    "\n",
    "- $f(0) = -5$\n",
    "- $f(1) = -5$\n",
    "- $f(2) = 1$\n",
    "- $f(3) = 19$\n",
    "\n",
    "Vi observerer, at $f(1) < 0$ og $f(2) > 0$. Ifølge Korollar 2, og fordi polynomier er kontinuerte, må der eksistere en rod i intervallet $[1, 2]$, hvor $f(x) = 0$. Dette betyder, at polynomiet $f(X) = X^3 - X - 5$ har en rod mellem $x = 1$ og $x = 2$."
   ]
  },
  {
   "cell_type": "markdown",
   "metadata": {},
   "source": [
    "### (c)\n",
    "For et givet interval $[a,b]$ kalder man værdien $\\frac{(a+b)}{2}$ for midtpunktet af dette interval og værdien $b - a$ for bredden af intervallet. For eksempel har intervallet $[1, 2]$ midtpunktet $\\frac{(1 + 2)}{2} = 1.5$ og bredden $2 - 1 = 1$. Udregn nu $f(x)$ i midtpunktet af intervallet $[1, 2]$. Har polynomiet $X^3 - X - 5$ en rod i intervallet $[1, 1.5]$ eller i intervallet $[1.5, 2]$? Bemærk, at disse intervaller har bredden $1/2$, det vil sige halvdelen af bredden af intervallet $[1, 2]$.\n"
   ]
  },
  {
   "cell_type": "code",
   "execution_count": 54,
   "metadata": {},
   "outputs": [
    {
     "name": "stdout",
     "output_type": "stream",
     "text": [
      "f(1.5) = -3.125\n"
     ]
    }
   ],
   "source": [
    "print(f\"f(1.5) = {f(1.5)}\")"
   ]
  },
  {
   "cell_type": "markdown",
   "metadata": {},
   "source": [
    "#### Svar\n",
    "Ved at udregne $f(1.5)$ får vi værdien $f(1.5) = -3.125$. Da $f(1.5) < 0$ og $f(2) > 0$ fra den tidligere udregning, kan vi ifølge Korollar 2 konkludere, at der eksisterer en rod i intervallet $[1.5, 2]$, fordi funktionen skifter fortegn inden for dette interval. Dette betyder, at polynomiet $X^3 - X - 5$ har en rod mellem $x = 1.5$ og $x = 2$."
   ]
  },
  {
   "cell_type": "markdown",
   "metadata": {},
   "source": [
    "### (d)\n",
    "Bestem nu, baseret på værdien af $f(x)$ i midtpunktet af det interval, du lige har\n",
    "fundet, et interval med bredden $\\frac{1}{4}$ indeholdende en rod i polynomiet $X^3 − X − 5$."
   ]
  },
  {
   "cell_type": "markdown",
   "metadata": {},
   "source": [
    "#### Svar\n",
    "Vi har tidligere fundet, at roden af polynomiet $X^3 - X - 5$ ligger i intervallet $[1.5, 2]$. Nu skal vi finde midtpunktet af dette interval for at kunne indsnævre roden yderligere.\n",
    "\n",
    "Midtpunktet af intervallet $[1.5, 2]$ er:"
   ]
  },
  {
   "cell_type": "code",
   "execution_count": 55,
   "metadata": {},
   "outputs": [
    {
     "data": {
      "text/plain": [
       "1.75"
      ]
     },
     "execution_count": 55,
     "metadata": {},
     "output_type": "execute_result"
    }
   ],
   "source": [
    "(1.5 + 2) / 2"
   ]
  },
  {
   "cell_type": "markdown",
   "metadata": {},
   "source": [
    "Vi udregner nu $f(1.75)$:"
   ]
  },
  {
   "cell_type": "code",
   "execution_count": 56,
   "metadata": {},
   "outputs": [
    {
     "name": "stdout",
     "output_type": "stream",
     "text": [
      "f(1.75) = -1.390625\n"
     ]
    }
   ],
   "source": [
    "print(f\"f(1.75) = {f(1.75)}\")"
   ]
  },
  {
   "cell_type": "markdown",
   "metadata": {},
   "source": [
    "Vi ser at $f(1.75)$ er en værdi, der er mindre end 0, og vi ved, at $f(2) > 0$. Det betyder, at roden ligger i intervallet $[1.75, 2]$. Vi har nu at bredden er lig med:"
   ]
  },
  {
   "cell_type": "code",
   "execution_count": 57,
   "metadata": {},
   "outputs": [
    {
     "data": {
      "text/plain": [
       "0.25"
      ]
     },
     "execution_count": 57,
     "metadata": {},
     "output_type": "execute_result"
    }
   ],
   "source": [
    "2 - 1.75"
   ]
  },
  {
   "cell_type": "markdown",
   "metadata": {},
   "source": [
    "Vi har fundet at intervallet $[1.75, 2]$ har bredden $\\frac{1}{4}$."
   ]
  },
  {
   "cell_type": "markdown",
   "metadata": {},
   "source": [
    "### (e)\n",
    "Man kan i princippet fortsætte proceduren fra 3 (d) adskillige gange, hvor man hver gang finder et interval, der indeholder en rod i $X^3 - X - 5$, med en bredde, der er halvt så stor som det forrige intervals. Udfør yderligere to trin, og bestem et interval med bredden $1/16$, der indeholder en rod i polynomiet $X^3 - X - 5$.\n"
   ]
  },
  {
   "cell_type": "markdown",
   "metadata": {},
   "source": [
    "#### Svar\n",
    "Vi udregner de næste to midtpunkter."
   ]
  },
  {
   "cell_type": "code",
   "execution_count": 58,
   "metadata": {},
   "outputs": [
    {
     "data": {
      "text/plain": [
       "1.875"
      ]
     },
     "execution_count": 58,
     "metadata": {},
     "output_type": "execute_result"
    }
   ],
   "source": [
    "(1.75 + 2) / 2"
   ]
  },
  {
   "cell_type": "code",
   "execution_count": 59,
   "metadata": {},
   "outputs": [
    {
     "data": {
      "text/plain": [
       "1.9375"
      ]
     },
     "execution_count": 59,
     "metadata": {},
     "output_type": "execute_result"
    }
   ],
   "source": [
    "(1.875 + 2) / 2"
   ]
  },
  {
   "cell_type": "markdown",
   "metadata": {},
   "source": [
    "Vi tjekker nu om vi holder reglen $f(x) < 0$ og $f(x_1) > 0$"
   ]
  },
  {
   "cell_type": "code",
   "execution_count": 60,
   "metadata": {},
   "outputs": [
    {
     "name": "stdout",
     "output_type": "stream",
     "text": [
      "f(1.875) = -0.283203125\n",
      "f(1.9375) = 0.335693359375\n"
     ]
    }
   ],
   "source": [
    "print(f\"f(1.875) = {f(1.875)}\")\n",
    "print(f\"f(1.9375) = {f(1.9375)}\")"
   ]
  },
  {
   "cell_type": "markdown",
   "metadata": {},
   "source": [
    "Da $f(1.875) < 0$ og $f(1.9375) > 0$, er roden i intervallet $[1.875, 1.9375]$. Vi udregner bredden til at være:"
   ]
  },
  {
   "cell_type": "code",
   "execution_count": 61,
   "metadata": {},
   "outputs": [
    {
     "data": {
      "text/plain": [
       "0.0625"
      ]
     },
     "execution_count": 61,
     "metadata": {},
     "output_type": "execute_result"
    }
   ],
   "source": [
    "1.9375 - 1.875"
   ]
  },
  {
   "cell_type": "markdown",
   "metadata": {},
   "source": [
    "##### Konklusion:\n",
    "Efter yderligere to trin har vi indsnævret roden til intervallet $[1.875, 1.9375]$ med en bredde på $1/16$, som indeholder en rod i polynomiet $X^3 - X - 5$."
   ]
  },
  {
   "cell_type": "markdown",
   "metadata": {},
   "source": [
    "Idéerne, der blev præsenteret herover, giver anledning til en algoritme, der kan finde approksimationer af rødderne i et polynomium med reelle koefficienter. Mere præcist: givet $p(X) \\in \\mathbb{R}[x]$ og $a, b \\in \\mathbb{R}$ sådan at $a < b$, og $p(a) \\cdot p(b) < 0$, så kan vi rekursivt definere en sekvens af intervaller $[a_0, b_0], [a_1, b_1], [a_2, b_2], \\dots$ som følger:\n",
    "\n",
    "$\n",
    "[a_n, b_n] = \n",
    "\\begin{cases} \n",
    "    [a, b] & \\text{hvis } n = 0 \\\\\n",
    "    \\left[ a_{n-1}, \\frac{a_{n-1} + b_{n-1}}{2} \\right] & \\text{hvis } n \\geq 1 \\text{ og } p(a_{n-1}) \\cdot p\\left(\\frac{a_{n-1} + b_{n-1}}{2}\\right) \\leq 0 \\\\\n",
    "    \\left[ \\frac{a_{n-1} + b_{n-1}}{2}, b_{n-1} \\right] & \\text{hvis } n \\geq 1 \\text{ og } p(a_{n-1}) \\cdot p\\left(\\frac{a_{n-1} + b_{n-1}}{2}\\right) > 0.\n",
    "\\end{cases}\n",
    "$\n",
    "\n",
    "At benytte midtpunkterne i alle de fundne intervaller giver derefter bedre og bedre approksimationer af en rod i polynomiet $p(X)$. Med andre ord: sekvensen af reelle tal $r_0, r_1, r_2, \\dots$ defineret som\n",
    "\n",
    "$\n",
    "r_n = \\frac{a_n + b_n}{2}\n",
    "$\n",
    "\n",
    "er approksimationer af en rod i $p(X)$. Jo større værdien af $n$ er, desto bedre bliver approksimationen. Denne metode til tilnærmelse af rødder kaldes bisektionsmetoden.\n"
   ]
  },
  {
   "cell_type": "markdown",
   "metadata": {},
   "source": [
    "## 4.\n",
    "### (a)\n",
    "Benyt Python på polynomiet $f(X) = X^3 - X - 5$ med $[a, b] = [1, 2]$ til at bestemme $r_4$. Du kan genbruge de intervaller, du allerede har bestemt i den tidligere opgave. Benyt også Python til at udregne $f(r_4)$. Svar: $r_4 = 1.90625$, og $f(r_4) = 0.020660400390625$."
   ]
  },
  {
   "cell_type": "markdown",
   "metadata": {},
   "source": [
    "### Svar\n",
    "For at løse denne opgave opstiller vi funktionen ovenfor."
   ]
  },
  {
   "cell_type": "code",
   "execution_count": 74,
   "metadata": {},
   "outputs": [],
   "source": [
    "from typing import Callable, List\n",
    "\n",
    "def approxRoot(function: Callable[[float], float], a: float, b: float, n: int = 0):\n",
    "    if n == 0:\n",
    "        a,b = a, b\n",
    "        r = (a + b)/2\n",
    "        x = function(r)\n",
    "\n",
    "        out = f'''\n",
    "        a = {a}\n",
    "        b = {b}\n",
    "        r = {r}\n",
    "        function(r) = {x}\n",
    "        '''\n",
    "        print(out)\n",
    "        return\n",
    "    elif n >= 1 and function(a) * function((a + b)/2) <= 0:\n",
    "        b = (a + b)/2\n",
    "    elif n >= 1 and function(a) * function((a + b)/2) > 0:\n",
    "        a = (a + b)/2\n",
    "    approxRoot(function, a, b, n - 1)"
   ]
  },
  {
   "cell_type": "code",
   "execution_count": 80,
   "metadata": {},
   "outputs": [
    {
     "name": "stdout",
     "output_type": "stream",
     "text": [
      "\n",
      "        a = 1.875\n",
      "        b = 1.9375\n",
      "        r = 1.90625\n",
      "        function(r) = 0.020660400390625\n",
      "        \n"
     ]
    }
   ],
   "source": [
    "approxRoot(f,a=1,b=2,n=4)"
   ]
  },
  {
   "cell_type": "markdown",
   "metadata": {},
   "source": [
    "### Bemærkning 3\n",
    "Bemærk som en lille advarsel, at man i en realistisk anvendelse måske kun kender koefficienterne af $p(X)$ til en vis numerisk præcision. Hvis $(a_{n-1} + b_{n-1})/2$ allerede er tæt på en rod i $p(X)$, kan det derfor være umuligt pålideligt at bestemme, om $p(a_{n-1}) \\cdot p\\left(\\frac{a_{n-1} + b_{n-1}}{2}\\right) > 0$ eller $p(a_{n-1}) \\cdot p\\left(\\frac{a_{n-1} + b_{n-1}}{2}\\right) \\leq 0$, og man kan ikke være sikker på andet end, at $p(a_{n-1}) \\cdot p\\left(\\frac{a_{n-1} + b_{n-1}}{2}\\right)$ er meget tæt på nul. Sådanne overvejelser er emner for numerisk analyse og er vigtige, når man udvikler såkaldt numeriske algoritmer.\n"
   ]
  },
  {
   "cell_type": "code",
   "execution_count": null,
   "metadata": {},
   "outputs": [],
   "source": []
  }
 ],
 "metadata": {
  "kernelspec": {
   "display_name": "DTUMisc",
   "language": "python",
   "name": "python3"
  },
  "language_info": {
   "codemirror_mode": {
    "name": "ipython",
    "version": 3
   },
   "file_extension": ".py",
   "mimetype": "text/x-python",
   "name": "python",
   "nbconvert_exporter": "python",
   "pygments_lexer": "ipython3",
   "version": "3.12.7"
  }
 },
 "nbformat": 4,
 "nbformat_minor": 2
}
