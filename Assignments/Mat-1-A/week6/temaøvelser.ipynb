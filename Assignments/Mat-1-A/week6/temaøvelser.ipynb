{
 "cells": [
  {
   "cell_type": "markdown",
   "metadata": {},
   "source": [
    "# Temaøvelse 2\n",
    "\n",
    "**Algebraens fundamentalsætning** siger, at ethvert polynomium $ p(Z) \\in \\mathbb{C}[Z] $ af grad mindst én har en rod $ \\lambda \\in \\mathbb{C} $ (se Sætning 4.6.1 i lærebogen). For praktiske anvendelser er det vigtigt at kunne finde en sådan rod eller i det mindste at finde en god numerisk tilnærmelse, også kaldet en approksimation.\n",
    "\n",
    "Målet med denne temaøvelse er at opnå algoritmisk indsigt i, hvordan numeriske approksimationer af rødderne i polynomier med reelle koefficienter kan findes. Vi vil gennemgå to metoder: **bisektionsmetoden** og **Newton-Raphson-metoden**.\n",
    "\n",
    "## Del I: Bisektionsmetoden\n",
    "\n",
    "Begynd med at åbne en kommandolinjeversion af Python. (Vi bruger ipynb)\n",
    "\n",
    "## 1. \n",
    "For at kunne arbejde med rødderne i polynomier $p(X) \\in \\mathbb{R}[X]$, definerer vi funktionen, som et sådant polynomium giver anledning til: $p : \\mathbb{R} \\to \\mathbb{R}$, hvor $x \\mapsto p(x)$. Det første skridt er at finde ud af, hvordan man definerer en sådan funktion i Python.\n",
    "\n",
    "### (a)\n",
    "\n",
    "Overvej som et eksempel polynomiet $p(X) = X^3 - X - 6$. Den tilsvarende funktion $p : \\mathbb{R} \\to \\mathbb{R}$ kan defineres i Python som følger:\n",
    "\n",
    "```python\n",
    "def p(x):\n",
    "    return x**3 - x - 6\n"
   ]
  },
  {
   "cell_type": "code",
   "execution_count": 2,
   "metadata": {},
   "outputs": [],
   "source": [
    "def p(x):\n",
    "    return x**3 - x - 6"
   ]
  },
  {
   "cell_type": "markdown",
   "metadata": {},
   "source": [
    "### (b)\n",
    "\n",
    "Nu kan du beregne værdierne af funktionen $p$ ved hjælp af Python. Skriv for eksempel $p(10)$ og kontroller i hånden, at Python returnerer den korrekte værdi.\n"
   ]
  },
  {
   "cell_type": "code",
   "execution_count": 3,
   "metadata": {},
   "outputs": [
    {
     "data": {
      "text/plain": [
       "984"
      ]
     },
     "execution_count": 3,
     "metadata": {},
     "output_type": "execute_result"
    }
   ],
   "source": [
    "p(10) # 10^3 - 10 - 6 = 1000 - 16 = 984"
   ]
  },
  {
   "cell_type": "markdown",
   "metadata": {},
   "source": [
    "### (c)\n",
    "\n",
    "Brug Python til at beregne $p(-1)$, $p(0)$, $p(1)$, $p(2)$ og $p(3)$. Kan du nu angive en rod i polynomiet $p(X)$?\n"
   ]
  },
  {
   "cell_type": "code",
   "execution_count": 4,
   "metadata": {},
   "outputs": [
    {
     "name": "stdout",
     "output_type": "stream",
     "text": [
      "p(-1) = -6\n",
      "p(0) = -6\n",
      "p(1) = -6\n",
      "p(2) = 0\n",
      "p(3) = 18\n"
     ]
    }
   ],
   "source": [
    "print(f\"p(-1) = {p(-1)}\")\n",
    "print(f\"p(0) = {p(0)}\")\n",
    "print(f\"p(1) = {p(1)}\")\n",
    "print(f\"p(2) = {p(2)}\")\n",
    "print(f\"p(3) = {p(3)}\")"
   ]
  },
  {
   "cell_type": "markdown",
   "metadata": {},
   "source": [
    "Generelt vil man sjældent være heldig at finde en rod i et polynomium $f(X)$ blot ved at beregne nogle enkelte af dens værdier. Derfor vil vi nu studere et kriterium, der af og til kan anvendes til i det mindste at bestemme, hvor en rod cirka er placeret. Vi vil starte med at formulere en sætning for kontinuerte funktioner. Vi vil ikke definere, hvad en kontinueret funktion præcist er, men meget løst sagt er en funktion kontinueret, hvis dens graf ikke har nogen “huller”. \n",
    "\n",
    "Du må frit benytte i denne temaøvelse, at enhver funktion $f : \\mathbb{R} \\to \\mathbb{R}$, hvor $x \\mapsto f(x)$, og hvor $f(X) \\in \\mathbb{R}[X]$ er et polynomium, er kontinueret. Kontinuerte funktioner har nogle rare egenskaber, blandt andet den følgende sætning, kendt som mellemværdisætningen.\n",
    "\n",
    "### Sætning 1 \n",
    "Lad $a, b$ være reelle tal, der opfylder $a < b$. Lad yderligere $f : [a,b] \\to \\mathbb{R}$ være en kontinueret funktion.\n",
    "\n",
    "- Hvis $f(a) < f(b)$, og $y$ opfylder $f(a) < y < f(b)$, så er $y = f(x)$ for nogle $x$ i intervallet $[a, b]$.\n",
    "\n",
    "- Hvis $f(a) > f(b)$, og $y$ opfylder $f(b) < y < f(a)$, så er $y = f(x)$ for nogle $x$ i intervallet $[a, b]$.\n",
    "\n",
    "Vi vil ikke bevise denne sætning, men du må bruge den frit. Hvis $f : \\mathbb{R} \\to \\mathbb{R}$ er en funktion, og $\\lambda \\in \\mathbb{R}$ opfylder $f(\\lambda) = 0$, kalder vi $\\lambda$ for et nulpunkt i $f$. Hvis $f$ er defineret ud fra et polynomium $f(X)$, er et nulpunkt i $f$ simpelthen en rod i polynomiet $f(X)$. Mellemværdisætningen leder til en nyttig konsekvens vedrørende nulpunkter i kontinuerte funktioner:\n",
    "\n",
    "### Korollar 2 \n",
    "Lad $a, b$ være reelle tal, der opfylder $a < b$. Lad yderligere $f : [a,b] \\to \\mathbb{R}$ være en kontinueret funktion, der opfylder $f(a) \\cdot f(b) < 0$. Da eksisterer der $x \\in [a,b]$, således at $f(x) = 0$. Med andre ord: funktionen $f$ har et nulpunkt i intervallet $[a, b]$.\n",
    "\n",
    "## 2. \n",
    "Målet med dette spørgsmål er at forstå, hvorfor Korollar 2 er en logisk konsekvens af Sætning 1.\n"
   ]
  },
  {
   "cell_type": "markdown",
   "metadata": {},
   "source": [
    "### (a), (b) og (c)\n",
    "Vis først og fremmest, at $f(a) \\cdot f(b) < 0$ medfører, at \n",
    "$f(a) < 0 \\land f(b) > 0$ eller $f(a) > 0 \\land f(b) < 0$.\n",
    "\n",
    "### Svar\n",
    "Korollar 2 følger logisk af Sætning 1, fordi hvis $f(a) \\cdot f(b) < 0$, så betyder det, at $f(a)$ og $f(b)$ har forskellige fortegn. Det vil sige, at enten $f(a) < 0$ og $f(b) > 0$, eller $f(a) > 0$ og $f(b) < 0$. Ifølge Sætning 1 skal der derfor eksistere en værdi $x$ mellem $a$ og $b$, hvor $f(x) = 0$, hvilket er præcis, hvad Korollar 2 siger.\n",
    "\n",
    "Hvis vi antager, at $f(a) \\cdot f(b) < 0$, så må enten $f(a) < 0$ og $f(b) > 0$, eller $f(a) > 0$ og $f(b) < 0$, da produktet af to tal med forskellige fortegn altid vil være negativt. Dette er også i overensstemmelse med Sætning 1, som bekræfter, at der må være et punkt $x$ i intervallet $[a, b]$, hvor $f(x) = 0$, når der er et skift i fortegn.\n"
   ]
  },
  {
   "cell_type": "markdown",
   "metadata": {},
   "source": [
    "## 3.\n",
    "Polynomiet $p(X) = X^3 - X - 6$ blev med vilje valgt på en sådan måde, at det havde den “pæne” rod 2. Vi vælger nu et andet polynomium uden sådanne pæne rødder.\n",
    "### (a)\n",
    "Betragt polynomiet $f(X) = X^3 - X - 5$, og definér i Python den tilsvarende funktion $f : \\mathbb{R} \\to \\mathbb{R}$, det vil sige funktionen, der opfylder $x \\mapsto x^3 - x - 5$."
   ]
  },
  {
   "cell_type": "code",
   "execution_count": 5,
   "metadata": {},
   "outputs": [],
   "source": [
    "def f(x):\n",
    "    return x**3 - x - 5"
   ]
  },
  {
   "cell_type": "markdown",
   "metadata": {},
   "source": [
    "### (b)\n",
    "Benyt Python til at udregne $f(x)$ for $x \\in \\{0, 1, 2, 3\\}$. Konkludér ved hjælp af Korollar 2 og det faktum, at $f(1) < 0$ og $f(2) > 0$, at polynomiet $f(X) = X^3 - X - 5$ har en rod i intervallet $[1, 2]$. Som nævnt tidligere må du frit benytte, at en polynomiefunktion er kontinueret.\n"
   ]
  },
  {
   "cell_type": "code",
   "execution_count": 6,
   "metadata": {},
   "outputs": [
    {
     "name": "stdout",
     "output_type": "stream",
     "text": [
      "f(0) = -5\n",
      "f(1) = -5\n",
      "f(2) = 1\n",
      "f(3) = 19\n"
     ]
    }
   ],
   "source": [
    "for i in range(4):\n",
    "    print(f\"f({i}) = {f(i)}\")"
   ]
  },
  {
   "cell_type": "markdown",
   "metadata": {},
   "source": [
    "#### Konklusion\n",
    "Ved hjælp af Python har vi beregnet værdierne af $f(x)$ for $x \\in \\{0, 1, 2, 3\\}$ for polynomiet $f(X) = X^3 - X - 5$. Resultaterne viser følgende:\n",
    "\n",
    "- $f(0) = -5$\n",
    "- $f(1) = -5$\n",
    "- $f(2) = 1$\n",
    "- $f(3) = 19$\n",
    "\n",
    "Vi observerer, at $f(1) < 0$ og $f(2) > 0$. Ifølge Korollar 2, og fordi polynomier er kontinuerte, må der eksistere en rod i intervallet $[1, 2]$, hvor $f(x) = 0$. Dette betyder, at polynomiet $f(X) = X^3 - X - 5$ har en rod mellem $x = 1$ og $x = 2$."
   ]
  },
  {
   "cell_type": "markdown",
   "metadata": {},
   "source": [
    "### (c)\n",
    "For et givet interval $[a,b]$ kalder man værdien $\\frac{(a+b)}{2}$ for midtpunktet af dette interval og værdien $b - a$ for bredden af intervallet. For eksempel har intervallet $[1, 2]$ midtpunktet $\\frac{(1 + 2)}{2} = 1.5$ og bredden $2 - 1 = 1$. Udregn nu $f(x)$ i midtpunktet af intervallet $[1, 2]$. Har polynomiet $X^3 - X - 5$ en rod i intervallet $[1, 1.5]$ eller i intervallet $[1.5, 2]$? Bemærk, at disse intervaller har bredden $1/2$, det vil sige halvdelen af bredden af intervallet $[1, 2]$.\n"
   ]
  },
  {
   "cell_type": "code",
   "execution_count": 7,
   "metadata": {},
   "outputs": [
    {
     "name": "stdout",
     "output_type": "stream",
     "text": [
      "f(1.5) = -3.125\n"
     ]
    }
   ],
   "source": [
    "print(f\"f(1.5) = {f(1.5)}\")"
   ]
  },
  {
   "cell_type": "markdown",
   "metadata": {},
   "source": [
    "#### Svar\n",
    "Ved at udregne $f(1.5)$ får vi værdien $f(1.5) = -3.125$. Da $f(1.5) < 0$ og $f(2) > 0$ fra den tidligere udregning, kan vi ifølge Korollar 2 konkludere, at der eksisterer en rod i intervallet $[1.5, 2]$, fordi funktionen skifter fortegn inden for dette interval. Dette betyder, at polynomiet $X^3 - X - 5$ har en rod mellem $x = 1.5$ og $x = 2$."
   ]
  },
  {
   "cell_type": "markdown",
   "metadata": {},
   "source": [
    "### (d)\n",
    "Bestem nu, baseret på værdien af $f(x)$ i midtpunktet af det interval, du lige har\n",
    "fundet, et interval med bredden $\\frac{1}{4}$ indeholdende en rod i polynomiet $X^3 − X − 5$."
   ]
  },
  {
   "cell_type": "markdown",
   "metadata": {},
   "source": [
    "#### Svar\n",
    "Vi har tidligere fundet, at roden af polynomiet $X^3 - X - 5$ ligger i intervallet $[1.5, 2]$. Nu skal vi finde midtpunktet af dette interval for at kunne indsnævre roden yderligere.\n",
    "\n",
    "Midtpunktet af intervallet $[1.5, 2]$ er:"
   ]
  },
  {
   "cell_type": "code",
   "execution_count": 8,
   "metadata": {},
   "outputs": [
    {
     "data": {
      "text/plain": [
       "1.75"
      ]
     },
     "execution_count": 8,
     "metadata": {},
     "output_type": "execute_result"
    }
   ],
   "source": [
    "(1.5 + 2) / 2"
   ]
  },
  {
   "cell_type": "markdown",
   "metadata": {},
   "source": [
    "Vi udregner nu $f(1.75)$:"
   ]
  },
  {
   "cell_type": "code",
   "execution_count": 9,
   "metadata": {},
   "outputs": [
    {
     "name": "stdout",
     "output_type": "stream",
     "text": [
      "f(1.75) = -1.390625\n"
     ]
    }
   ],
   "source": [
    "print(f\"f(1.75) = {f(1.75)}\")"
   ]
  },
  {
   "cell_type": "markdown",
   "metadata": {},
   "source": [
    "Vi ser at $f(1.75)$ er en værdi, der er mindre end 0, og vi ved, at $f(2) > 0$. Det betyder, at roden ligger i intervallet $[1.75, 2]$. Vi har nu at bredden er lig med:"
   ]
  },
  {
   "cell_type": "code",
   "execution_count": 10,
   "metadata": {},
   "outputs": [
    {
     "data": {
      "text/plain": [
       "0.25"
      ]
     },
     "execution_count": 10,
     "metadata": {},
     "output_type": "execute_result"
    }
   ],
   "source": [
    "2 - 1.75"
   ]
  },
  {
   "cell_type": "markdown",
   "metadata": {},
   "source": [
    "Vi har fundet at intervallet $[1.75, 2]$ har bredden $\\frac{1}{4}$."
   ]
  },
  {
   "cell_type": "markdown",
   "metadata": {},
   "source": [
    "### (e)\n",
    "Man kan i princippet fortsætte proceduren fra 3 (d) adskillige gange, hvor man hver gang finder et interval, der indeholder en rod i $X^3 - X - 5$, med en bredde, der er halvt så stor som det forrige intervals. Udfør yderligere to trin, og bestem et interval med bredden $1/16$, der indeholder en rod i polynomiet $X^3 - X - 5$.\n"
   ]
  },
  {
   "cell_type": "markdown",
   "metadata": {},
   "source": [
    "#### Svar\n",
    "Vi udregner de næste to midtpunkter."
   ]
  },
  {
   "cell_type": "code",
   "execution_count": 11,
   "metadata": {},
   "outputs": [
    {
     "data": {
      "text/plain": [
       "1.875"
      ]
     },
     "execution_count": 11,
     "metadata": {},
     "output_type": "execute_result"
    }
   ],
   "source": [
    "(1.75 + 2) / 2"
   ]
  },
  {
   "cell_type": "code",
   "execution_count": 12,
   "metadata": {},
   "outputs": [
    {
     "data": {
      "text/plain": [
       "1.9375"
      ]
     },
     "execution_count": 12,
     "metadata": {},
     "output_type": "execute_result"
    }
   ],
   "source": [
    "(1.875 + 2) / 2"
   ]
  },
  {
   "cell_type": "markdown",
   "metadata": {},
   "source": [
    "Vi tjekker nu om vi holder reglen $f(x) < 0$ og $f(x_1) > 0$"
   ]
  },
  {
   "cell_type": "code",
   "execution_count": 13,
   "metadata": {},
   "outputs": [
    {
     "name": "stdout",
     "output_type": "stream",
     "text": [
      "f(1.875) = -0.283203125\n",
      "f(1.9375) = 0.335693359375\n"
     ]
    }
   ],
   "source": [
    "print(f\"f(1.875) = {f(1.875)}\")\n",
    "print(f\"f(1.9375) = {f(1.9375)}\")"
   ]
  },
  {
   "cell_type": "markdown",
   "metadata": {},
   "source": [
    "Da $f(1.875) < 0$ og $f(1.9375) > 0$, er roden i intervallet $[1.875, 1.9375]$. Vi udregner bredden til at være:"
   ]
  },
  {
   "cell_type": "code",
   "execution_count": 14,
   "metadata": {},
   "outputs": [
    {
     "data": {
      "text/plain": [
       "0.0625"
      ]
     },
     "execution_count": 14,
     "metadata": {},
     "output_type": "execute_result"
    }
   ],
   "source": [
    "1.9375 - 1.875"
   ]
  },
  {
   "cell_type": "markdown",
   "metadata": {},
   "source": [
    "##### Konklusion:\n",
    "Efter yderligere to trin har vi indsnævret roden til intervallet $[1.875, 1.9375]$ med en bredde på $1/16$, som indeholder en rod i polynomiet $X^3 - X - 5$."
   ]
  },
  {
   "cell_type": "markdown",
   "metadata": {},
   "source": [
    "Idéerne, der blev præsenteret herover, giver anledning til en algoritme, der kan finde approksimationer af rødderne i et polynomium med reelle koefficienter. Mere præcist: givet $p(X) \\in \\mathbb{R}[x]$ og $a, b \\in \\mathbb{R}$ sådan at $a < b$, og $p(a) \\cdot p(b) < 0$, så kan vi rekursivt definere en sekvens af intervaller $[a_0, b_0], [a_1, b_1], [a_2, b_2], \\dots$ som følger:\n",
    "\n",
    "$\n",
    "[a_n, b_n] = \n",
    "\\begin{cases} \n",
    "    [a, b] & \\text{hvis } n = 0 \\\\\n",
    "    \\left[ a_{n-1}, \\frac{a_{n-1} + b_{n-1}}{2} \\right] & \\text{hvis } n \\geq 1 \\text{ og } p(a_{n-1}) \\cdot p\\left(\\frac{a_{n-1} + b_{n-1}}{2}\\right) \\leq 0 \\\\\n",
    "    \\left[ \\frac{a_{n-1} + b_{n-1}}{2}, b_{n-1} \\right] & \\text{hvis } n \\geq 1 \\text{ og } p(a_{n-1}) \\cdot p\\left(\\frac{a_{n-1} + b_{n-1}}{2}\\right) > 0.\n",
    "\\end{cases}\n",
    "$\n",
    "\n",
    "At benytte midtpunkterne i alle de fundne intervaller giver derefter bedre og bedre approksimationer af en rod i polynomiet $p(X)$. Med andre ord: sekvensen af reelle tal $r_0, r_1, r_2, \\dots$ defineret som\n",
    "\n",
    "$\n",
    "r_n = \\frac{a_n + b_n}{2}\n",
    "$\n",
    "\n",
    "er approksimationer af en rod i $p(X)$. Jo større værdien af $n$ er, desto bedre bliver approksimationen. Denne metode til tilnærmelse af rødder kaldes bisektionsmetoden.\n"
   ]
  },
  {
   "cell_type": "markdown",
   "metadata": {},
   "source": [
    "## 4.\n",
    "### (a)\n",
    "Benyt Python på polynomiet $f(X) = X^3 - X - 5$ med $[a, b] = [1, 2]$ til at bestemme $r_4$. Du kan genbruge de intervaller, du allerede har bestemt i den tidligere opgave. Benyt også Python til at udregne $f(r_4)$. Svar: $r_4 = 1.90625$, og $f(r_4) = 0.020660400390625$."
   ]
  },
  {
   "cell_type": "markdown",
   "metadata": {},
   "source": [
    "### Svar\n",
    "For at løse denne opgave opstiller vi funktionen ovenfor."
   ]
  },
  {
   "cell_type": "code",
   "execution_count": 15,
   "metadata": {},
   "outputs": [],
   "source": [
    "from typing import Callable\n",
    "\n",
    "def approxRoot(function: Callable[[float], float], a: float, b: float, n: int = 0):\n",
    "    if n == 0:\n",
    "        a,b = a, b\n",
    "        r = (a + b)/2\n",
    "        x = function(r)\n",
    "\n",
    "        out = f'''\n",
    "        a = {a}\n",
    "        b = {b}\n",
    "        r = {r}\n",
    "        function(r) = {x}\n",
    "        '''\n",
    "        print(out)\n",
    "        return\n",
    "    elif n >= 1 and function(a) * function((a + b)/2) <= 0:\n",
    "        b = (a + b)/2\n",
    "    elif n >= 1 and function(a) * function((a + b)/2) > 0:\n",
    "        a = (a + b)/2\n",
    "    approxRoot(function, a, b, n - 1)"
   ]
  },
  {
   "cell_type": "code",
   "execution_count": 16,
   "metadata": {},
   "outputs": [
    {
     "name": "stdout",
     "output_type": "stream",
     "text": [
      "\n",
      "        a = 1.875\n",
      "        b = 1.9375\n",
      "        r = 1.90625\n",
      "        function(r) = 0.020660400390625\n",
      "        \n"
     ]
    }
   ],
   "source": [
    "approxRoot(f,a=1,b=2,n=4)"
   ]
  },
  {
   "cell_type": "markdown",
   "metadata": {},
   "source": [
    "### (b)\n",
    "Antag fortsat, at $f(X) = X^3 - X - 5$, og $[a, b] = [1, 2]$, og vis ved induktion på $n$, at bredden af intervallet $[a_n, b_n]$ er lig med $1 / 2^n$ for alle $n \\in \\mathbb{Z}_{>0}$. En konsekvens af dette er, at afstanden fra $r_n$ til en rod i $f(X)$ højst er $1 / 2^{n+1}$."
   ]
  },
  {
   "cell_type": "markdown",
   "metadata": {},
   "source": [
    "#### Induktionsstart\n",
    "For n = 0 er bredden af det første interval $[a_0, b_0] = [1,2]$, så $\\newline$\n",
    "$b_0 - a_0 = 2 - 1 = 1 \\newline$ \n",
    "\n",
    "Vi bemærker nu at dette er lig med $\\frac{1}{20}$, som stemmer overens med påstanden. Derfor gælder påstanden for $n = 0$.\n",
    "\n",
    "#### Induktionsantagelse\n",
    "Antag, at påstanden gælder for $n = k$, altså at bredden af intervallet $[a_k, b_k]$ er: $\\newline$\n",
    "$b_k - a_k = \\frac{1}{2^k}$\n",
    "\n",
    "#### Induktionsskridt\n",
    "Vi skal nu vise, at påstanden også gælder for $ n = k + 1 $. Det vil sige, vi skal vise, at bredden af intervallet $ [a_{k+1}, b_{k+1}] $ er $ \\frac{1}{2^{k+1}} $.\n",
    "\n",
    "Ved bisektionsmetoden bliver det nye interval $ [a_{k+1}, b_{k+1}] $ fundet ved at halvere bredden af intervallet $ [a_k, b_k] $. Det betyder:\n",
    "\n",
    "$\n",
    "b_{k+1} - a_{k+1} = \\frac{b_k - a_k}{2}\n",
    "$\n",
    "\n",
    "Indsætter vi induktionsantagelsen, får vi:\n",
    "\n",
    "$\n",
    "b_{k+1} - a_{k+1} = \\frac{1}{2} \\cdot \\frac{1}{2^k} = \\frac{1}{2^{k+1}}\n",
    "$\n",
    "\n",
    "Dermed er påstanden også sand for $ n = k + 1 $.\n",
    "\n",
    "#### Afstand fra $r_n$ til roden\n",
    "Midtpunktet $r_n$ af intervallet $[a_n, b_n]$ er givet ved:\n",
    "\n",
    "$$\n",
    "r_n = \\frac{a_n + b_n}{2}\n",
    "$$\n",
    "\n",
    "Da vi har vist, at bredden af intervallet $[a_n, b_n]$ er $\\frac{1}{2^n}$, og midtpunktet er midt i dette interval, er afstanden fra $r_n$ til en rod højst halvdelen af intervalbredden:\n",
    "\n",
    "$$\n",
    "\\text{Afstand} = \\frac{1}{2} \\cdot \\frac{1}{2^n} = \\frac{1}{2^{n+1}}\n",
    "$$\n"
   ]
  },
  {
   "cell_type": "markdown",
   "metadata": {},
   "source": [
    "### Bemærkning 3\n",
    "Bemærk som en lille advarsel, at man i en realistisk anvendelse måske kun kender koefficienterne af $p(X)$ til en vis numerisk præcision. Hvis $(a_{n-1} + b_{n-1})/2$ allerede er tæt på en rod i $p(X)$, kan det derfor være umuligt pålideligt at bestemme, om $p(a_{n-1}) \\cdot p\\left(\\frac{a_{n-1} + b_{n-1}}{2}\\right) > 0$ eller $p(a_{n-1}) \\cdot p\\left(\\frac{a_{n-1} + b_{n-1}}{2}\\right) \\leq 0$, og man kan ikke være sikker på andet end, at $p(a_{n-1}) \\cdot p\\left(\\frac{a_{n-1} + b_{n-1}}{2}\\right)$ er meget tæt på nul. Sådanne overvejelser er emner for numerisk analyse og er vigtige, når man udvikler såkaldt numeriske algoritmer.\n"
   ]
  },
  {
   "cell_type": "markdown",
   "metadata": {},
   "source": [
    "## Del II: Newton-Raphsons metode til bestemmelse af rødder i polynomier med reelle koefficienter\n",
    "\n",
    "Hvis alt gik godt, fandt du i det forrige, at polynomiet $X^3 - X - 5$ har en rod, der er indeholdt i intervallet $[1.875, 1.9375]$. Midtpunktet i dette interval er derfor en rimelig approksimation for en rod i $X^3 - X - 5$. Som allerede udregnet i den forrige opgave er dette midtpunkt lig med $\\frac{(1.875 + 1.9375)}{2} = 1.90625$. Vi vil nu behandle en anden måde, hvorpå man kan finde numeriske tilnærmelser af rødderne i et polynomium $p(X) \\in \\mathbb{R}[X]$.\n",
    "\n",
    "## 5. \n",
    "Lad $p(X) \\in \\mathbb{R}[X]$ være et polynomium af grad mindst én. Desuden antages det, at $\\lambda \\in \\mathbb{R}$ er en rod i $p(X)$. Som før definerer vi den funktion, som dette polynomium giver anledning til, ved $p : \\mathbb{R} \\to \\mathbb{R}$, hvor $x \\mapsto p(x)$.\n",
    "\n",
    "### (a)\n",
    "Antag, at $\\lambda$ er en rod i $p(X)$ med multiplicitet $m$, hvor $m$ er mindst to. Benyt Definition 4.6.1 i lærebogen til at konkludere, at der i dette tilfælde eksisterer et polynomium $g(X)$, således at $f(X) = (X - \\lambda)^m \\cdot g(X)$. Benyt nu antagelsen om, at $m$ er mindst to, til at udlede, at der findes et polynomium $h(X)$, således at $f(X) = (X - \\lambda)^2 \\cdot h(X)$.\n"
   ]
  },
  {
   "cell_type": "markdown",
   "metadata": {},
   "source": [
    "![Definition 4.6.1](../../../misc/images/definitions/4.6.1.png)\n"
   ]
  },
  {
   "cell_type": "markdown",
   "metadata": {},
   "source": [
    "#### Svar:\n",
    "Vi er blevet givet $\\lambda$ som en rod i polynomiet $p(X)$ og det er angivet at multiplicitetten $m \\geq 2$. Da vi ved at polynomiet kan skrives som: $\\newline f(X) = (X - \\lambda)^m \\cdot h(X)$\n",
    "\n",
    "Siden $m \\geq 2$, ved vi, at $ (X - \\lambda) $ mindst optræder to gange som en faktor i udtrykket. Derfor kan vi faktorisere $ (X - \\lambda)^2 $ ud fra udtrykket for $ f(X) $. Dette giver:\n",
    "$\n",
    "\\newline f(X) = (X - \\lambda)^2 \\cdot \\underbrace{(X - \\lambda)^{m-2} \\cdot g(X)}_{h(X)}\n",
    "$\n",
    "\n",
    "Den resterende faktor efter at have faktoriseret $ (X - \\lambda)^2 $ er $ (X - \\lambda)^{m-2} \\cdot g(X) $, som vi kalder $ h(X) $. Således definerer vi:\n",
    "$\n",
    "\\newline h(X) = (X - \\lambda)^{m-2} \\cdot g(X)\n",
    "$\n",
    "Dette er også et polynomium, fordi både $ (X - \\lambda)^{m-2} $ og $ g(X) $ er polynomier.\n",
    "\n",
    "Vi har nu vist, at der eksisterer et polynomium $ h(X) $, således at:\n",
    "$\n",
    "\\newline f(X) = (X - \\lambda)^2 \\cdot h(X)\n",
    "$\n",
    "hvor $ h(X) = (X - \\lambda)^{m-2} \\cdot g(X) $.\n"
   ]
  },
  {
   "cell_type": "markdown",
   "metadata": {},
   "source": [
    "### (b)\n",
    "For et givet polynomium\n",
    "\n",
    "$\n",
    "\\newline f(X) = a_0 + a_1 X + a_2 X^2 + \\cdots + a_n X^n\n",
    "$\n",
    "\n",
    "defineres den afledte af $ f(X) $, betegnet ved $ f'(X) $ eller sommetider også $ f(X)' $, på sædvanlig måde som\n",
    "\n",
    "$\n",
    "\\newline f'(X) = a_1 + 2a_2 X + \\cdots + n a_n X^{n-1}.\n",
    "$\n",
    "\n",
    "Vis, at hvis $ \\lambda $ er en rod i $ f(X) $ med multiplicitet mindst to, så er $ \\lambda $ en rod i $ f'(X) $. Hint: udnyt, at\n",
    "\n",
    "$\n",
    "\\newline f(X) = (X - \\lambda)^2 \\cdot h(X)\n",
    "$\n",
    "\n",
    "for et polynomium $ h(X) $, og benyt produktreglen for differentiation.\n"
   ]
  },
  {
   "cell_type": "markdown",
   "metadata": {},
   "source": [
    "### Svar:\n",
    "Vi er givet, at $ f(X) $ kan skrives som:\n",
    "\n",
    "$\n",
    "\\newline f(X) = (X - \\lambda)^2 \\cdot h(X)\n",
    "$\n",
    "\n",
    "hvor $ h(X) $ er et polynomium. Dette betyder, at $ \\lambda $ er en rod af $ f(X) $ med multiplicitet mindst to, og vi skal nu vise, at $ \\lambda $ også er en rod af $ f'(X) $.\n",
    "\n",
    "#### Trin 1: Differentiering af $ f(X) $ ved brug af produktreglen\n",
    "\n",
    "For at differentiere $ f(X) = (X - \\lambda)^2 \\cdot h(X) $, benytter vi produktreglen:\n",
    "\n",
    "$\n",
    "\\newline (f \\cdot g)' = f' \\cdot g + f \\cdot g'\n",
    "$\n",
    "\n",
    "Anvend produktreglen på $ f(X) = (X - \\lambda)^2 \\cdot h(X) $:\n",
    "\n",
    "$\n",
    "\\newline f'(X) = \\frac{d}{dX} \\left( (X - \\lambda)^2 \\right) \\cdot h(X) + (X - \\lambda)^2 \\cdot h'(X)\n",
    "$\n",
    "\n",
    "Den afledte af $ (X - \\lambda)^2 $ er:\n",
    "\n",
    "$\n",
    "\\newline \\frac{d}{dX} \\left( (X - \\lambda)^2 \\right) = 2(X - \\lambda)\n",
    "$\n",
    "\n",
    "Så vi får:\n",
    "\n",
    "$\n",
    "\\newline f'(X) = 2(X - \\lambda) \\cdot h(X) + (X - \\lambda)^2 \\cdot h'(X)\n",
    "$\n",
    "\n",
    "#### Trin 2: Sæt $ X = \\lambda $\n",
    "\n",
    "Vi skal nu undersøge, om $ \\lambda $ er en rod af $ f'(X) $. For at gøre det, indsætter vi $ X = \\lambda $ i udtrykket for $ f'(X) $:\n",
    "\n",
    "$\n",
    "\\newline f'(\\lambda) = 2(\\lambda - \\lambda) \\cdot h(\\lambda) + (\\lambda - \\lambda)^2 \\cdot h'(\\lambda)\n",
    "$\n",
    "\n",
    "Bemærk, at begge led indeholder faktorer af $ (\\lambda - \\lambda) = 0 $, så begge led bliver nul:\n",
    "\n",
    "$\n",
    "\\newline f'(\\lambda) = 2(0) \\cdot h(\\lambda) + 0^2 \\cdot h'(\\lambda) = 0\n",
    "$\n",
    "\n",
    "Derfor er $ f'(\\lambda) = 0 $, hvilket betyder, at $ \\lambda $ er en rod i $ f'(X) $."
   ]
  },
  {
   "cell_type": "markdown",
   "metadata": {},
   "source": [
    "### (c)\n",
    "Antag, at $ \\lambda $ er en rod i $ f(X) $ med multiplicitet én. Vis, at der i dette tilfælde eksisterer et polynomium $ g(X) $, således at\n",
    "\n",
    "$\n",
    "\\newline f(X) = (X - \\lambda) \\cdot g(X)\n",
    "$\n",
    "\n",
    "og\n",
    "\n",
    "$\n",
    "\\newline g(\\lambda) \\neq 0.\n",
    "$\n",
    "\n",
    "### (d)\n",
    "Vis, at hvis $ \\lambda $ er en rod i $ f(X) $ med multiplicitet én, så er $ f'(\\lambda) \\neq 0 $. Hint: benyt igen produktreglen til at finde et udtryk for $ f'(X) $, denne gang på produktet \n",
    "\n",
    "$\n",
    "\\newline f(X) = (X - \\lambda) \\cdot g(X).\n",
    "$\n",
    "\n",
    "Udnyt derefter det faktum, at $ g(\\lambda) \\neq 0 $."
   ]
  },
  {
   "cell_type": "markdown",
   "metadata": {},
   "source": [
    "#### Svar til (c) og (d):\n",
    "Ligesom i forrige opgave ved vi, at hvis $ \\lambda $ er en rod i $ f(X) $ med multiplicitet én, betyder det, at $ f(X) $ kan faktoriseres som $ (X - \\lambda) $. Vi har nu, at:\n",
    "\n",
    "$\n",
    "\\newline f(X) = (X - \\lambda) \\cdot g(X)\n",
    "$\n",
    "\n",
    "hvor $ g(X) $ ikke har $ \\lambda $ som en rod. Med andre ord, $ g(\\lambda) \\neq 0 $.\n",
    "\n",
    "For at verificere dette, kan vi anvende produktreglen til at differentiere $ f(X) $:\n",
    "\n",
    "$\n",
    "\\newline f'(X) = \\frac{d}{dX} \\left( (X - \\lambda) \\cdot g(X) \\right)\n",
    "$\n",
    "\n",
    "Produktreglen siger, at:\n",
    "\n",
    "$\n",
    "\\newline (f \\cdot g)' = f' \\cdot g + f \\cdot g'\n",
    "$\n",
    "\n",
    "Anvend produktreglen på udtrykket for $ f(X) $:\n",
    "\n",
    "$\n",
    "\\newline f'(X) = \\frac{d}{dX} \\left( X - \\lambda \\right) \\cdot g(X) + (X - \\lambda) \\cdot g'(X)\n",
    "$\n",
    "\n",
    "Da den afledte af $ X - \\lambda $ er 1, får vi:\n",
    "\n",
    "$\n",
    "\\newline f'(X) = g(X) + (X - \\lambda) \\cdot g'(X)\n",
    "$\n",
    "\n",
    "Når vi sætter $ X = \\lambda $, får vi:\n",
    "\n",
    "$\n",
    "\\newline f'(\\lambda) = g(\\lambda) + (\\lambda - \\lambda) \\cdot g'(\\lambda)\n",
    "$\n",
    "\n",
    "Da $ (\\lambda - \\lambda) = 0 $, forsvinder det andet led, og vi står tilbage med:\n",
    "\n",
    "$\n",
    "\\newline f'(\\lambda) = g(\\lambda)\n",
    "$\n",
    "\n",
    "Da vi ved, at $ g(\\lambda) \\neq 0 $, følger det, at $ f'(\\lambda) \\neq 0 $.\n",
    "\n",
    "### Konklusion:\n",
    "Vi har nu vist, at hvis $ \\lambda $ er en rod i $ f(X) $ med multiplicitet én, så er $ f'(\\lambda) \\neq 0 $, som vi ønskede at bevise.\n"
   ]
  },
  {
   "cell_type": "markdown",
   "metadata": {},
   "source": [
    "# 7"
   ]
  },
  {
   "cell_type": "code",
   "execution_count": 26,
   "metadata": {},
   "outputs": [],
   "source": [
    "def newtonRaphsons(function: Callable[[float], float], prime_function: Callable[[float], float], n: int = 0, x0: float = 0) -> float:\n",
    "    if n==0:\n",
    "        return x0\n",
    "    else:\n",
    "        return (newtonRaphsons(function,prime_function, n - 1, x0)-function(newtonRaphsons(function,prime_function, n - 1, x0))/prime_function(newtonRaphsons(function,prime_function, n - 1, x0)))"
   ]
  },
  {
   "cell_type": "code",
   "execution_count": 27,
   "metadata": {},
   "outputs": [],
   "source": [
    "def f(x):\n",
    "    return x**3 - x - 5\n",
    "\n",
    "def fprime(x):\n",
    "    return 3*x**2 - 1"
   ]
  },
  {
   "cell_type": "code",
   "execution_count": 34,
   "metadata": {},
   "outputs": [
    {
     "data": {
      "text/plain": [
       "1.9041748600816821"
      ]
     },
     "execution_count": 34,
     "metadata": {},
     "output_type": "execute_result"
    },
    {
     "ename": "",
     "evalue": "",
     "output_type": "error",
     "traceback": [
      "\u001b[1;31mThe Kernel crashed while executing code in the current cell or a previous cell. \n",
      "\u001b[1;31mPlease review the code in the cell(s) to identify a possible cause of the failure. \n",
      "\u001b[1;31mClick <a href='https://aka.ms/vscodeJupyterKernelCrash'>here</a> for more info. \n",
      "\u001b[1;31mView Jupyter <a href='command:jupyter.viewOutput'>log</a> for further details."
     ]
    }
   ],
   "source": [
    "newtonRaphsons(function=f, prime_function=fprime, n=2, x0=2)"
   ]
  },
  {
   "cell_type": "code",
   "execution_count": 33,
   "metadata": {},
   "outputs": [
    {
     "data": {
      "text/plain": [
       "1.9041748600816821"
      ]
     },
     "execution_count": 33,
     "metadata": {},
     "output_type": "execute_result"
    }
   ],
   "source": []
  },
  {
   "cell_type": "markdown",
   "metadata": {},
   "source": []
  },
  {
   "cell_type": "markdown",
   "metadata": {},
   "source": []
  }
 ],
 "metadata": {
  "kernelspec": {
   "display_name": "DTUMisc",
   "language": "python",
   "name": "python3"
  },
  "language_info": {
   "codemirror_mode": {
    "name": "ipython",
    "version": 3
   },
   "file_extension": ".py",
   "mimetype": "text/x-python",
   "name": "python",
   "nbconvert_exporter": "python",
   "pygments_lexer": "ipython3",
   "version": "3.12.7"
  }
 },
 "nbformat": 4,
 "nbformat_minor": 2
}
