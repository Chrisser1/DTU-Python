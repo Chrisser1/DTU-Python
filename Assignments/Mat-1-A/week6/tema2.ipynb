{
 "cells": [
  {
   "cell_type": "markdown",
   "metadata": {},
   "source": [
    "# Function to calculate nulpunkt"
   ]
  },
  {
   "cell_type": "code",
   "execution_count": 1,
   "metadata": {},
   "outputs": [],
   "source": [
    "from typing import Callable\n",
    "\n",
    "def approxRoot(function: Callable[[float], float], a: float, b: float, n: int = 0):\n",
    "    if n == 0:\n",
    "        a,b = a, b\n",
    "        r = (a + b)/2\n",
    "        x = function(r)\n",
    "\n",
    "        out = f'''\n",
    "        a = {a}\n",
    "        b = {b}\n",
    "        r = {r}\n",
    "        function(r) = {x}\n",
    "        '''\n",
    "        print(out)\n",
    "        return\n",
    "    elif n >= 1 and function(a) * function((a + b)/2) <= 0:\n",
    "        b = (a + b)/2\n",
    "    elif n >= 1 and function(a) * function((a + b)/2) > 0:\n",
    "        a = (a + b)/2\n",
    "    approxRoot(function, a, b, n - 1)\n",
    "\n",
    "def newtonRaphsons(function: Callable[[float], float], prime_function: Callable[[float], float], n: int = 0, x0: float = 0) -> float:\n",
    "    if n==0:\n",
    "        return x0\n",
    "    else:\n",
    "        return (newtonRaphsons(function,prime_function, n - 1, x0)-function(newtonRaphsons(function,prime_function, n - 1, x0))/prime_function(newtonRaphsons(function,prime_function, n - 1, x0)))"
   ]
  },
  {
   "cell_type": "markdown",
   "metadata": {},
   "source": [
    "# Question 1"
   ]
  },
  {
   "cell_type": "code",
   "execution_count": 2,
   "metadata": {},
   "outputs": [],
   "source": [
    "def F(x):\n",
    "    return 16 * x**3 - 7 * x**2 - 18 * x + 50"
   ]
  },
  {
   "cell_type": "code",
   "execution_count": 3,
   "metadata": {},
   "outputs": [
    {
     "name": "stdout",
     "output_type": "stream",
     "text": [
      "\n",
      "        a = -1.75\n",
      "        b = -1.5\n",
      "        r = -1.625\n",
      "        function(r) = -7.890625\n",
      "        \n"
     ]
    }
   ],
   "source": [
    "approxRoot(function=F, a=-2, b=-1, n=2)"
   ]
  },
  {
   "cell_type": "markdown",
   "metadata": {},
   "source": [
    "# Question 2"
   ]
  },
  {
   "cell_type": "code",
   "execution_count": 4,
   "metadata": {},
   "outputs": [
    {
     "name": "stdout",
     "output_type": "stream",
     "text": [
      "0.1875\n"
     ]
    }
   ],
   "source": [
    "a,b,n = 6,9,4\n",
    "\n",
    "E_n = (b-a)/(2**n)\n",
    "\n",
    "print(E_n)"
   ]
  },
  {
   "cell_type": "markdown",
   "metadata": {},
   "source": [
    "# Question 3"
   ]
  },
  {
   "cell_type": "code",
   "execution_count": 5,
   "metadata": {},
   "outputs": [],
   "source": [
    "def F(x):\n",
    "    return 4 * x**3 + 121/8 * x**2 - 153/4 * x + 185/4"
   ]
  },
  {
   "cell_type": "code",
   "execution_count": 6,
   "metadata": {},
   "outputs": [
    {
     "name": "stdout",
     "output_type": "stream",
     "text": [
      "\n",
      "        a = -5.781250000000001\n",
      "        b = -5.78125\n",
      "        r = -5.78125\n",
      "        function(r) = 0.0\n",
      "        \n"
     ]
    }
   ],
   "source": [
    "approxRoot(function=F, a=-6, b=-5, n=50)"
   ]
  },
  {
   "cell_type": "markdown",
   "metadata": {},
   "source": [
    "# Question 4"
   ]
  },
  {
   "cell_type": "code",
   "execution_count": 7,
   "metadata": {},
   "outputs": [],
   "source": [
    "def F(x):\n",
    "    return 4 * x**3 - 167/4 * x**2 + 151/2 * x - 135/2\n",
    "\n",
    "def FPrime(x):\n",
    "    return 12 * x**2 - (167/2) * x + 151/2"
   ]
  },
  {
   "cell_type": "code",
   "execution_count": 8,
   "metadata": {},
   "outputs": [
    {
     "data": {
      "text/plain": [
       "8.437500382561177"
      ]
     },
     "execution_count": 8,
     "metadata": {},
     "output_type": "execute_result"
    }
   ],
   "source": [
    "newtonRaphsons(function=F, prime_function=FPrime, n=3, x0=9)"
   ]
  },
  {
   "cell_type": "code",
   "execution_count": 9,
   "metadata": {},
   "outputs": [
    {
     "data": {
      "text/plain": [
       "8.437499999999998"
      ]
     },
     "execution_count": 9,
     "metadata": {},
     "output_type": "execute_result"
    }
   ],
   "source": [
    "newtonRaphsons(function=F, prime_function=FPrime, n=13, x0=9)"
   ]
  },
  {
   "cell_type": "markdown",
   "metadata": {},
   "source": [
    "# Question 5"
   ]
  },
  {
   "cell_type": "code",
   "execution_count": 10,
   "metadata": {},
   "outputs": [],
   "source": [
    "import math\n",
    "def f(x):\n",
    "    return math.sin(x) - (9/10) * x\n",
    "\n",
    "def fPrime(x):\n",
    "    return math.cos(x) - (9/10)\n"
   ]
  },
  {
   "cell_type": "code",
   "execution_count": 11,
   "metadata": {},
   "outputs": [
    {
     "data": {
      "text/plain": [
       "0.7866830720492116"
      ]
     },
     "execution_count": 11,
     "metadata": {},
     "output_type": "execute_result"
    }
   ],
   "source": [
    "# Initial guess (close to pi/2 since the solution is in (0, pi))\n",
    "x0 = math.pi / 2\n",
    "newtonRaphsons(function=f, prime_function=fPrime, n=15, x0=x0)"
   ]
  },
  {
   "cell_type": "code",
   "execution_count": null,
   "metadata": {},
   "outputs": [],
   "source": []
  }
 ],
 "metadata": {
  "kernelspec": {
   "display_name": "DTUMisc",
   "language": "python",
   "name": "python3"
  },
  "language_info": {
   "codemirror_mode": {
    "name": "ipython",
    "version": 3
   },
   "file_extension": ".py",
   "mimetype": "text/x-python",
   "name": "python",
   "nbconvert_exporter": "python",
   "pygments_lexer": "ipython3",
   "version": "3.12.7"
  }
 },
 "nbformat": 4,
 "nbformat_minor": 2
}
