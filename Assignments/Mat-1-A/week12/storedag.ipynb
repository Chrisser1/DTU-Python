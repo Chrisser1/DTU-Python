{
 "cells": [
  {
   "cell_type": "code",
   "execution_count": 11,
   "metadata": {},
   "outputs": [],
   "source": [
    "from sympy import *"
   ]
  },
  {
   "cell_type": "markdown",
   "metadata": {},
   "source": [
    "# Opgave 1: En reel, ikke lineær differentialligning\n",
    "Givet den reelle differentialligning $f'(t)^2-4e^{2t} \\cdot f(t) = 0$."
   ]
  },
  {
   "cell_type": "markdown",
   "metadata": {},
   "source": [
    "## Spørgsmål a\n",
    "Er funktionen $f(t) = t$ løsning til differentialligningen?"
   ]
  },
  {
   "cell_type": "markdown",
   "metadata": {},
   "source": [
    "### Svar:\n",
    "For at tjekke dette vil vi se hvad der sker hvis vi indsætter t.\n",
    "\n",
    "$$\n",
    "f'(t)^2-4e^{2t} \\cdot f(t) = 0 \\Leftrightarrow t'^2-4e^{2t} \\cdot t = 0 \\Leftrightarrow 0-4te^{2t} = 0\n",
    "$$\n",
    "Som vi kan se, så er $-4te^{2t} \\neq 0$, så svaret er nej."
   ]
  },
  {
   "cell_type": "markdown",
   "metadata": {},
   "source": [
    "## Spørgsmål b\n",
    "Er funktionen $f(t)=e^{2t}$ løsning til differentialligningen?"
   ]
  },
  {
   "cell_type": "markdown",
   "metadata": {},
   "source": [
    "### Svar:\n",
    "$$\n",
    "f'(t)^2-4e^{2t} \\cdot f(t) = 0 \\Leftrightarrow ((e^{2t})')^2-4e^{2t} \\cdot t = 0 \\Leftrightarrow (2e^{2t})^2-4e^{2t} \\cdot e^{2t} = 0 \n",
    "$$\n",
    "$$\n",
    "\\Leftrightarrow 2e^{2t} \\cdot 2e^{2t} - 4e^{4t} = 0 \\Leftrightarrow 4e^{4t} - 4e^{4t} = 0\n",
    "$$\n",
    "\n",
    "I dette tilfælde er svaret ja, da vi ser venstresiden er lig med 0."
   ]
  },
  {
   "cell_type": "markdown",
   "metadata": {},
   "source": [
    "## Opgave 2: En reel, lineær differentialligning\n",
    "I denne opgave undersøges den reelle differentialligning\n",
    "$$\n",
    "f'(t) - 3f(t) = t\n",
    "$$"
   ]
  },
  {
   "cell_type": "markdown",
   "metadata": {},
   "source": [
    "## Spørgsmål a\n",
    "Det opgives at der findes reelle tal a og b sådan, at funktionen $at+b$ er en løsning til differentialligningen. Find a og b."
   ]
  },
  {
   "cell_type": "markdown",
   "metadata": {},
   "source": [
    "### Svar:\n",
    "For at finde dette indsætter vi $f(t) = at + b$ og løser dette:\n",
    "$$\n",
    "f'(t) - 3f(t) = t \\Leftrightarrow (at + b)' - 3(at + b) = t \\Leftrightarrow a - 3at + 3b = t \n",
    "$$\n",
    "\n",
    "Vi observere nu, at for at dette holder skal den del der indenholder t være lige med t og resten lig med 0.\n",
    "\n",
    "$$\n",
    "a - 3at + 3b = t \\Leftrightarrow -3at + (a - 3b) = t\n",
    "$$\n",
    "\n",
    "Vi kan nu se, at $-3a = 1$ og at $(a - 3b) = 0$. Vi har nu $a = -\\frac{1}{3}$ og $b = -\\frac{1}{9}$."
   ]
  },
  {
   "cell_type": "markdown",
   "metadata": {},
   "source": [
    "## Spørgsmål b\n",
    "Find den fuldstændige løsning til den reelle differentialligning $f'(t) - 3f(t) = 0$.\n",
    "![image.png](../../../misc/images/theorems/12.1.1.png)\n"
   ]
  },
  {
   "cell_type": "markdown",
   "metadata": {},
   "source": [
    "### Svar:\n",
    "For at løse denne gør vi brug af den fuldstændige løsning til ODE, hvor vi i vores tilfælde har at $a(t) = 3$ og $q(t) = 0$: \n",
    "$$\n",
    "P(t)=\\int a(t)dt= \\int 3dt=3t.\n",
    "$$\n",
    "Da $q(t)=0$, forsvinder integrallen og vi har:\n",
    "$$\n",
    "f(t) = C \\cdot e^{3t}\n",
    "$$"
   ]
  },
  {
   "cell_type": "markdown",
   "metadata": {},
   "source": [
    "## Spørgsmål c\n",
    "Brug svarene fra de forrige spørgsmål til at finde den fuldstændige løsning for den reelle differentialligning $f'(t) - 3f(t) = t$."
   ]
  },
  {
   "cell_type": "markdown",
   "metadata": {},
   "source": [
    "### Svar:\n",
    "For at løse dette gør vi brug af reglen:\n",
    "$$\n",
    "f(t) = f(t)_{homogen} + f(t)_{inhomogen}\n",
    "$$\n",
    "\n",
    "Vi husker fra del 1 at $f(t)_{inhomogen} = -\\frac{1}{3}t - \\frac{1}{9}$\n",
    "\n",
    "vi har nu:\n",
    "$$\n",
    "f(t) = f(t)_{homogen} + f(t)_{inhomogen} \\Leftrightarrow f(t) = C \\cdot e^{3t} - \\frac{1}{3}t - \\frac{1}{9}, C \\in \\mathbb{R}\n",
    "$$"
   ]
  },
  {
   "cell_type": "markdown",
   "metadata": {},
   "source": [
    "# Opgave 3: Begyndelsesbetingelser\n",
    "Den fuldstændige løsning til den reelle differentialligning $f'(t) = e^t \\cdot f(t)$ er givet ved $f(t) = c \\cdot e^{e^t}$, hvor $c \\in \\mathbb{R}$\n"
   ]
  },
  {
   "cell_type": "markdown",
   "metadata": {},
   "source": [
    "## Spørgsmål a\n",
    "Tjek ved indsættelse i den givne differentialligning at $f(t) = 3 \\cdot e^{e^t}$\n",
    " er en løsning."
   ]
  },
  {
   "cell_type": "markdown",
   "metadata": {},
   "source": [
    "### Svar:\n",
    "For at verificere, at $ f(t) = 3 \\cdot e^{e^t} $ er en løsning til differentialligningen $ f'(t) = e^t \\cdot f(t) $, udfører vi følgende trin:\n",
    "\n",
    "#### Trin 1: Beregn $ f'(t) $\n",
    "Vi har givet $ f(t) = 3 \\cdot e^{e^t} $. Vi differentierer $ f(t) $ med hensyn til $ t $:\n",
    "$$\n",
    "f'(t) = 3 \\cdot \\frac{d}{dt}\\left( e^{e^t} \\right).\n",
    "$$\n",
    "\n",
    "Ved brug af kædereglen for $ e^{g(t)} $, hvor $ g(t) = e^t $, får vi:\n",
    "$$\n",
    "\\frac{d}{dt}\\left( e^{e^t} \\right) = e^{e^t} \\cdot \\frac{d}{dt}(e^t).\n",
    "$$\n",
    "\n",
    "Da $ \\frac{d}{dt}(e^t) = e^t $, bliver derivatet:\n",
    "$$\n",
    "f'(t) = 3 \\cdot e^{e^t} \\cdot e^t.\n",
    "$$\n",
    "\n",
    "#### Trin 2: Indsæt $ f(t) $ og $ f'(t) $ i differentialligningen\n",
    "Vi indsætter $ f'(t) = 3 \\cdot e^{e^t} \\cdot e^t $ og $ f(t) = 3 \\cdot e^{e^t} $ i ligningen $ f'(t) = e^t \\cdot f(t) $:\n",
    "$$\n",
    "3 \\cdot e^{e^t} \\cdot e^t = e^t \\cdot \\left( 3 \\cdot e^{e^t} \\right).\n",
    "$$\n",
    "\n",
    "Da venstre og højre side er ens, opfylder funktionen differentialligningen.\n"
   ]
  },
  {
   "cell_type": "markdown",
   "metadata": {},
   "source": [
    "## Spørgsmål b\n",
    "Find den løsning til den givne differentialligning som opfylder begyndelsesbetingelsen $f(0)=1$."
   ]
  },
  {
   "cell_type": "markdown",
   "metadata": {},
   "source": [
    "### Svar:\n",
    "For at løse denne sættet vi t = 0:\n",
    "$$\n",
    "f(t) = C \\cdot e^{e^t} \\Leftrightarrow 1 = C \\cdot e^{1} \\Leftrightarrow C = \\frac{1}{e} \n",
    "$$\n",
    "\n",
    "vi har nu, at den ønskede funktion er $f(t) = \\frac{1}{e} \\cdot e^{e^t}$.\n",
    "\n"
   ]
  },
  {
   "cell_type": "markdown",
   "metadata": {},
   "source": [
    "# Opgave 4: Et homogent, reelt system af lineære differentialligninger (håndregning)\n",
    "Denne opgave er tænkt til håndregning. Et lineært, reelt differentialligningssystem med konstante koefficienter er givet således:\n",
    "$$\n",
    "\\begin{bmatrix}\n",
    "f'_1(t) \\\\\n",
    "f'_2(t)\n",
    "\\end{bmatrix} =\n",
    "\\begin{bmatrix}\n",
    "1 & 8 \\\\\n",
    "1 & -1\n",
    "\\end{bmatrix} \\cdot\n",
    "\\begin{bmatrix}\n",
    "f_1(t) \\\\\n",
    "f_2(t)\n",
    "\\end{bmatrix}\n",
    "$$"
   ]
  },
  {
   "cell_type": "markdown",
   "metadata": {},
   "source": [
    "## Spørgsmål a\n",
    "Find koefficientmatricens egenværdier og tilhørende egenrum, og opstil ved hjælp heraf den fuldstændige løsning til det givne differentialligningssystem."
   ]
  },
  {
   "cell_type": "markdown",
   "metadata": {},
   "source": [
    "### Svar:\n"
   ]
  },
  {
   "cell_type": "code",
   "execution_count": null,
   "metadata": {},
   "outputs": [],
   "source": []
  },
  {
   "cell_type": "code",
   "execution_count": null,
   "metadata": {},
   "outputs": [],
   "source": []
  }
 ],
 "metadata": {
  "kernelspec": {
   "display_name": "DTUMisc",
   "language": "python",
   "name": "python3"
  },
  "language_info": {
   "codemirror_mode": {
    "name": "ipython",
    "version": 3
   },
   "file_extension": ".py",
   "mimetype": "text/x-python",
   "name": "python",
   "nbconvert_exporter": "python",
   "pygments_lexer": "ipython3",
   "version": "3.11.10"
  }
 },
 "nbformat": 4,
 "nbformat_minor": 2
}
