{
 "cells": [
  {
   "cell_type": "code",
   "execution_count": 58,
   "metadata": {},
   "outputs": [],
   "source": [
    "from sympy import *"
   ]
  },
  {
   "cell_type": "markdown",
   "metadata": {},
   "source": [
    "# Opgave 1: Et homogent, komplekst system af lineære differentialligninger\n",
    "Givet følgende komplekse system af differentialligninger:\n",
    "$$\n",
    "\\begin{cases}\n",
    "f_1'(t) = 2f_1(t) - 5f_2(t), \\\\\n",
    "f_2'(t) = f_1(t) - 2f_2(t).\n",
    "\\end{cases}\n",
    "$$"
   ]
  },
  {
   "cell_type": "markdown",
   "metadata": {},
   "source": [
    "## Spørgsmål a\n",
    "Systemet kan skrives på formen\n",
    "$$\n",
    "\\begin{bmatrix}\n",
    "f_1'(t) \\\\\n",
    "f_2'(t)\n",
    "\\end{bmatrix} = \n",
    "A \\cdot\n",
    "\\begin{bmatrix}\n",
    "f_1(t) \\\\\n",
    "f_2(t)\n",
    "\\end{bmatrix}\n",
    "$$\n",
    "Hvad er matricen A? Bestem også matricens karakteristiske polynomium."
   ]
  },
  {
   "cell_type": "markdown",
   "metadata": {},
   "source": [
    "### Svar:\n",
    "$$\n",
    "\\begin{bmatrix}\n",
    "2 & -5 \\\\\n",
    "1 & -2\n",
    "\\end{bmatrix}\n",
    "$$\n",
    "Det karakteristiske polynomie\n",
    "$$\n",
    "\\begin{bmatrix}\n",
    "2-Z & -5 \\\\\n",
    "1 & -2-Z\n",
    "\\end{bmatrix}\n",
    "$$\n",
    "Vi tager nu determinaten\n",
    "$$\n",
    "det(\n",
    "\\begin{bmatrix}\n",
    "2-Z & -5 \\\\\n",
    "1 & -2-Z\n",
    "\\end{bmatrix}\n",
    ") = (2-Z)(-2-Z) + 5 = -4 - 2Z + Z^2 + 2Z + 5 = Z^2 + 1 \n",
    "$$"
   ]
  },
  {
   "cell_type": "markdown",
   "metadata": {},
   "source": [
    "## Spørgsmål b\n",
    "Det oplyses at over de komplekse tal er egenrummet $E_i$ for matricen A fra spørgsmål a givet ved\n",
    "$$\n",
    "E_i = span_\\mathbb{C}(\n",
    "\\begin{bmatrix}\n",
    "2+i \\\\\n",
    "1\n",
    "\\end{bmatrix}\n",
    ")\n",
    "$$\n",
    "Beskriv uden yderligere beregninger egenrummet $E_{-i}$."
   ]
  },
  {
   "cell_type": "markdown",
   "metadata": {},
   "source": [
    "### Svar:\n",
    "Vi ved at når vi kender den ene imaginære egenvektor, så er $\\overline{E_i} = E_{-i}$. Vi har nu:\n",
    "$$\n",
    "E_{-i} = span_\\mathbb{C}(\n",
    "\\begin{bmatrix}\n",
    "2-i \\\\\n",
    "1\n",
    "\\end{bmatrix}\n",
    ")\n",
    "$$"
   ]
  },
  {
   "cell_type": "markdown",
   "metadata": {},
   "source": [
    "## Spørgsmål c\n",
    "Giv den fuldstændige, komplekse løsning til det givne system af differentialligninger.\n"
   ]
  },
  {
   "cell_type": "markdown",
   "metadata": {},
   "source": [
    "### Svar:\n",
    "For at finde den fuldstændige løsning gør vi brug af de to fundne egenvektorer\n",
    "$$\n",
    "\\begin{bmatrix}\n",
    "f_1'(t) \\\\\n",
    "f_2'(t)\n",
    "\\end{bmatrix}\n",
    "= c_1 \\cdot \n",
    "\\begin{bmatrix}\n",
    "2+i \\\\\n",
    "1\n",
    "\\end{bmatrix} \\cdot e^{it} +\n",
    "c_2 \\cdot\n",
    "\\begin{bmatrix}\n",
    "2-i \\\\\n",
    "1\n",
    "\\end{bmatrix} \\cdot e^{-it}, \\text{ hvor } c_1, c_2 \\in \\mathbb{C}\n",
    "$$"
   ]
  },
  {
   "cell_type": "markdown",
   "metadata": {},
   "source": [
    "# Opgave 2: Fra komplekse til reelle løsninger\n",
    "I denne opgave betragtes det samme system af differentialligninger som i Opgave 1:\n",
    "$$\n",
    "\\begin{cases}\n",
    "f_1'(t) = 2f_1(t) - 5f_2(t), \\\\\n",
    "f_2'(t) = f_1(t) - 2f_2(t).\n",
    "\\end{cases}\n",
    "$$\n",
    "Den fuldstændige, komplekse løsning til dette system er:\n",
    "$$\n",
    "\\begin{bmatrix}\n",
    "f_1'(t) \\\\\n",
    "f_2'(t)\n",
    "\\end{bmatrix}\n",
    "= c_1 \\cdot \n",
    "\\begin{bmatrix}\n",
    "2+i \\\\\n",
    "1\n",
    "\\end{bmatrix} \\cdot e^{it} +\n",
    "c_2 \\cdot\n",
    "\\begin{bmatrix}\n",
    "2-i \\\\\n",
    "1\n",
    "\\end{bmatrix} \\cdot e^{-it}, \\text{ hvor } c_1, c_2 \\in \\mathbb{C}\n",
    "$$\n",
    "Målet med opgaven er at eksemplificere hvordan man udfra komplekse løsninger kan finde reelle løsninger. Den generelle fremgangsmåde beskrives i Corollary 12.2.6 fra lærebogen."
   ]
  },
  {
   "cell_type": "markdown",
   "metadata": {},
   "source": [
    "## Spørgsmål a\n",
    "I den givne fuldstændige løsning vælges konstanterne $c_1$ og $c_2$ således at $c_1, c_2 = a$, hvor a er et reelt tal. Vis at løsningen i dette tilfælde kan omskrives til følgende:\n",
    "$$\n",
    "\\begin{bmatrix}\n",
    "f_1'(t) \\\\\n",
    "f_2'(t)\n",
    "\\end{bmatrix} = a \\cdot\n",
    "\\begin{bmatrix}\n",
    "2(e^{it}+e^{-it}) \\\\\n",
    "e^{it}+e^{-it}\n",
    "\\end{bmatrix} + a \\cdot\n",
    "\\begin{bmatrix}\n",
    "i(e^{it}-e^{-it}) \\\\\n",
    "0\n",
    "\\end{bmatrix}\n",
    "$$\n",
    "Brug nu Eulers formler (ligning (3.7) og (3.8) fra lærebogen) til at omskrive $e^{it}$ og $e^{-it}$ til udtryk i $cos(t)$ og $sin(t)$. Hvad er resultatet?\n",
    "![image.png](../../../misc/images/equations/eulers.png)"
   ]
  },
  {
   "cell_type": "markdown",
   "metadata": {},
   "source": [
    "### Svar:\n",
    "$$\n",
    "a \\cdot\n",
    "\\begin{bmatrix}\n",
    "2(cos(t) + i \\cdot sin(t) + cos(t) - i \\cdot sin(t)) \\\\\n",
    "cos(t) + i \\cdot sin(t) + cos(t) - i \\cdot sin(t)\n",
    "\\end{bmatrix} + a \\cdot\n",
    "\\begin{bmatrix}\n",
    "i(cos(t) + i \\cdot sin(t) - cos(t) + i \\cdot sin(t)) \\\\\n",
    "0\n",
    "\\end{bmatrix}\n",
    "$$\n",
    "Vi forkorter\n",
    "$$\n",
    "\\Updownarrow\n",
    "$$\n",
    "$$\n",
    "a \\cdot\n",
    "\\begin{bmatrix}\n",
    "2(cos(t) + cos(t)) \\\\\n",
    "cos(t) + cos(t)\n",
    "\\end{bmatrix} + a \\cdot\n",
    "\\begin{bmatrix}\n",
    "i(2i \\cdot sin(t)) \\\\\n",
    "0\n",
    "\\end{bmatrix} \\Leftrightarrow\n",
    "a \\cdot\n",
    "\\begin{bmatrix}\n",
    "4cos(t) \\\\\n",
    "2cos(t)\n",
    "\\end{bmatrix} + a \\cdot\n",
    "\\begin{bmatrix}\n",
    "-2 \\cdot sin(t) \\\\\n",
    "0\n",
    "\\end{bmatrix}\n",
    "$$\n",
    "$$\n",
    "\\begin{bmatrix}\n",
    "f_1'(t) \\\\\n",
    "f_2'(t)\n",
    "\\end{bmatrix} =\n",
    "a \\cdot\n",
    "\\begin{bmatrix}\n",
    "4cos(t) - 2 \\cdot sin(t) \\\\\n",
    "2cos(t)\n",
    "\\end{bmatrix}\n",
    "$$"
   ]
  },
  {
   "cell_type": "markdown",
   "metadata": {},
   "source": [
    "## Spørgsmål b\n",
    "I den givne fuldstændige løsning vælges nu konstanterne $c_1$ og $c_2$ således at $c_1 = b \\cdot i$ og $c_2 = -b \\cdot i$, hvor $b$ er et reelt tal. Omskriv i dette tilfælde løsningen til et udtryk i $cos(t)$ og $sin(t)$."
   ]
  },
  {
   "cell_type": "markdown",
   "metadata": {},
   "source": [
    "### Svar:\n",
    "Vi har:\n",
    "$$\n",
    "\\begin{bmatrix}\n",
    "f_1'(t) \\\\\n",
    "f_2'(t)\n",
    "\\end{bmatrix} =\n",
    "b \\cdot\n",
    "\\begin{bmatrix}\n",
    "-(e^{it}+e^{-it}) \\\\\n",
    "0\n",
    "\\end{bmatrix} + b \\cdot\n",
    "\\begin{bmatrix}\n",
    "2i \\cdot (e^{it}-e^{-it}) \\\\\n",
    "i \\cdot (e^{it}-e^{-it})\n",
    "\\end{bmatrix} \n",
    "$$\n",
    "Vi simplificerer\n",
    "$$\n",
    "b \\cdot\n",
    "\\begin{bmatrix}\n",
    "-(cos(t) + i \\cdot sin(t) + cos(t) - i \\cdot sin(t)) \\\\\n",
    "0\n",
    "\\end{bmatrix} + b \\cdot\n",
    "\\begin{bmatrix}\n",
    "2i \\cdot (cos(t) + i \\cdot sin(t) - cos(t) + i \\cdot sin(t)) \\\\\n",
    "i \\cdot (cos(t) + i \\cdot sin(t) - cos(t) + i \\cdot sin(t))\n",
    "\\end{bmatrix} \n",
    "$$\n",
    "$$\n",
    "\\Updownarrow\n",
    "$$\n",
    "$$\n",
    "b \\cdot\n",
    "\\begin{bmatrix}\n",
    "-2cos(t) \\\\\n",
    "0\n",
    "\\end{bmatrix} + b \\cdot\n",
    "\\begin{bmatrix}\n",
    "-4 \\cdot sin(t) \\\\\n",
    "-2 \\cdot sin(t)\n",
    "\\end{bmatrix} \n",
    "$$\n",
    "\n",
    "Vi har nu\n",
    "$$\n",
    "\\begin{bmatrix}\n",
    "f_1'(t) \\\\\n",
    "f_2'(t)\n",
    "\\end{bmatrix} =\n",
    "b \\cdot\n",
    "\\begin{bmatrix}\n",
    "-2cos(t) \\\\\n",
    "0\n",
    "\\end{bmatrix} + b \\cdot\n",
    "\\begin{bmatrix}\n",
    "-4 \\cdot sin(t) \\\\\n",
    "-2 \\cdot sin(t)\n",
    "\\end{bmatrix} =\n",
    "b \\cdot\n",
    "\\begin{bmatrix}\n",
    "-2cos(t) - 4 \\cdot sin(t) \\\\\n",
    "-2 \\cdot sin(t)\n",
    "\\end{bmatrix}\n",
    "$$\n"
   ]
  },
  {
   "cell_type": "markdown",
   "metadata": {},
   "source": [
    "# Opgave 3: Begyndelsesbetingelser i et reelt system af lineære differentialligninger\n",
    "Systemet fra Opgave 1 betragtes igen, men nu som et reelt system af differentialligninger. Fra Opgave 2 (og Corollary 12.2.6) konkluderes at systemets fuldstændige, reelle løsning er:\n",
    "$$\n",
    "\\begin{bmatrix}\n",
    "f_1'(t) \\\\\n",
    "f_2'(t)\n",
    "\\end{bmatrix} =\n",
    "a \\cdot\n",
    "\\begin{bmatrix}\n",
    "4cos(t) - 2 \\cdot sin(t) \\\\\n",
    "2cos(t)\n",
    "\\end{bmatrix}\n",
    "b \\cdot\n",
    "\\begin{bmatrix}\n",
    "-2cos(t) - 4 \\cdot sin(t) \\\\\n",
    "-2 \\cdot sin(t)\n",
    "\\end{bmatrix}, \\text{ hvor } a,b \\in \\mathbb{R}\n",
    "$$\n",
    "Bestem den løsning til systemet som opfylder begyndelsesbetingelserne $f_1(\\pi)=1$ og $f_2(\\pi)=3$."
   ]
  },
  {
   "cell_type": "markdown",
   "metadata": {},
   "source": [
    "### Svar:\n"
   ]
  },
  {
   "cell_type": "code",
   "execution_count": 59,
   "metadata": {},
   "outputs": [
    {
     "data": {
      "text/plain": [
       "{a: -1.50000000000000, b: -2.50000000000000}"
      ]
     },
     "execution_count": 59,
     "metadata": {},
     "output_type": "execute_result"
    }
   ],
   "source": [
    "from math import sin, cos\n",
    "a,b = symbols(('a','b'))\n",
    "eq1 = Eq(a * (4 * cos(pi) + 2 * sin(pi)) + b *(-2*cos(pi) - 4*sin(pi)), 1)\n",
    "eq2 = Eq(a * (2*cos(pi)) + b *(-2 * sin(pi)),3)\n",
    "solve((eq1,eq2), (a,b))"
   ]
  },
  {
   "cell_type": "markdown",
   "metadata": {},
   "source": [
    "Vi har nu fundet at $a = -1.5$ og $b = -2.5$, vi har nu\n",
    "$$\n",
    "\\begin{bmatrix}\n",
    "f_1'(t) \\\\\n",
    "f_2'(t)\n",
    "\\end{bmatrix} = \n",
    "(-1.5) \\cdot\n",
    "\\begin{bmatrix}\n",
    "4cos(t) - 2 \\cdot sin(t) \\\\\n",
    "2cos(t)\n",
    "\\end{bmatrix}\n",
    "+ (-2.5) \\cdot\n",
    "\\begin{bmatrix}\n",
    "-2cos(t) - 4 \\cdot sin(t) \\\\\n",
    "-2 \\cdot sin(t)\n",
    "\\end{bmatrix} = \n",
    "\\begin{bmatrix}\n",
    "-cos(t) + 13 \\cdot sin(t) \\\\\n",
    "-3 \\cdot cos(t) + 5 \\cdot sin(t)\n",
    "\\end{bmatrix}\n",
    "$$"
   ]
  },
  {
   "cell_type": "markdown",
   "metadata": {},
   "source": [
    "# Opgave 4: Et inhomogent, reelt system af lineære differentialligninger\n",
    "Givet følgende reelle system af differentialligninger:\n",
    "$$\n",
    "\\begin{cases}\n",
    "f_1'(t) = 2f_1(t) - 5f_2(t) + e^{2t}, \\\\\n",
    "f_2'(t) = f_1(t) - 2f_2(t) - e^{2t}\n",
    "\\end{cases}\n",
    "$$\n",
    "Læg mærke til at det tilhørende homogene system af differentialligninger er systemet betragtet i Opgave 3."
   ]
  },
  {
   "cell_type": "markdown",
   "metadata": {},
   "source": [
    "## Spørgsmål a\n",
    "Det oplyses at der findes en partikulær løsning til det givne system på formen:\n",
    "$$\n",
    "\\begin{bmatrix}\n",
    "f_1(t) \\\\\n",
    "f_2(t)\n",
    "\\end{bmatrix} = \n",
    "\\begin{bmatrix}\n",
    "d_1 \\cdot e^{2t}\\\\\n",
    "d_2 \\cdot e^{2t}\n",
    "\\end{bmatrix},\n",
    "$$\n",
    "hvor $d_1$ og $d_2$ er visse uopgivne reelle tal. Bestem $d_1$ og $d_2$."
   ]
  },
  {
   "cell_type": "markdown",
   "metadata": {},
   "source": [
    "### Svar:\n",
    "Hvis vi indsætter dette får vi\n",
    "$$\n",
    "\\begin{cases}\n",
    "f_1'(t) = 2 \\cdot d_1 \\cdot e^{2t} - 5 \\cdot d_2 \\cdot e^{2t} + e^{2t} = (2d_1 - 5d_2 + 1)e^{2t}, \\\\\n",
    "f_2'(t) = d_1 \\cdot e^{2t} - 2 \\cdot d_2 \\cdot e^{2t} - e^{2t} = (d_1 - 2d_2 - 1)e^{2t}.\n",
    "\\end{cases}\n",
    "$$\n",
    "Vi ser nu at for at dette går op skal konstanterne $d_1$ og $d_2$ opfylde ligningerne:\n",
    "$$\n",
    "\\begin{cases}\n",
    "2d_1 = 2d_1 - 5d_2 + 1, \\\\\n",
    "2d_2 = d_1 - 2d_2 - 1.\n",
    "\\end{cases}\n",
    "$$"
   ]
  },
  {
   "cell_type": "code",
   "execution_count": 60,
   "metadata": {},
   "outputs": [
    {
     "data": {
      "text/plain": [
       "{d_1: 9/5, d_2: 1/5}"
      ]
     },
     "execution_count": 60,
     "metadata": {},
     "output_type": "execute_result"
    }
   ],
   "source": [
    "d1,d2 = symbols(('d_1', 'd_2'))\n",
    "eq1 = Eq(2*d1, 2*d1-5*d2+1)\n",
    "eq2 = Eq(2*d2, d1-2*d2-1)\n",
    "solve((eq1,eq2),(d1,d2))"
   ]
  },
  {
   "cell_type": "markdown",
   "metadata": {},
   "source": [
    "Vi har nu at $d_1 = \\frac{9}{5}$ og $d_2 = \\frac{1}{5}$."
   ]
  },
  {
   "cell_type": "markdown",
   "metadata": {},
   "source": [
    "## Spørgsmål b\n",
    "Giv den fuldstændige, reelle løsning til det givne inhomogene system af differentialligninger.\n"
   ]
  },
  {
   "cell_type": "markdown",
   "metadata": {},
   "source": [
    "### Svar:\n",
    "Vi kender vores $d_1$ og $d_2$. Vi ved at den fuldstændige løsning er lig med $f(t)=f_{particulære}(t) + f_{homogene}(t)$. Vi har nu:\n",
    "$$\n",
    "\\begin{bmatrix}\n",
    "f_1(t) \\\\\n",
    "f_2(t)\n",
    "\\end{bmatrix} = \n",
    "\\begin{bmatrix}\n",
    "\\frac{9 \\cdot e^{2t}}{5} \\\\\n",
    "\\frac{1 \\cdot e^{2t}}{5}\n",
    "\\end{bmatrix} + \n",
    "a \\cdot\n",
    "\\begin{bmatrix}\n",
    "4cos(t) - 2 \\cdot sin(t) \\\\\n",
    "2cos(t)\n",
    "\\end{bmatrix}\n",
    "b \\cdot\n",
    "\\begin{bmatrix}\n",
    "-2cos(t) - 4 \\cdot sin(t) \\\\\n",
    "-2 \\cdot sin(t)\n",
    "\\end{bmatrix}, \\text{ hvor } a,b \\in \\mathbb{R}\n",
    "$$"
   ]
  },
  {
   "cell_type": "markdown",
   "metadata": {},
   "source": [
    "# Opgave 5: En koefficientmatrix som ikke kan diagonaliseres\n",
    "Der betragtes følgende homogene, reelle system af differentialligninger:\n",
    "\\begin{cases}\n",
    "f_1'(t) = 2f_1(t) + f_2(t), \\\\\n",
    "f_2'(t) = -4f_1(t) - 2f_2(t)\n",
    "\\end{cases}"
   ]
  },
  {
   "cell_type": "markdown",
   "metadata": {},
   "source": [
    "## Spørgsmål a\n",
    "Bestem systemets koefficientmatrix A og undersøg dens egenværdier samt egenvektorer ved hjælp af SymPy. Kan koefficientmatricen diagonaliseres?"
   ]
  },
  {
   "cell_type": "markdown",
   "metadata": {},
   "source": [
    "### Svar:\n",
    "Vi starter med koefficientmatrixen:"
   ]
  },
  {
   "cell_type": "code",
   "execution_count": 61,
   "metadata": {},
   "outputs": [
    {
     "data": {
      "text/latex": [
       "$\\displaystyle \\left[\\begin{matrix}2 & 1\\\\-4 & -2\\end{matrix}\\right]$"
      ],
      "text/plain": [
       "Matrix([\n",
       "[ 2,  1],\n",
       "[-4, -2]])"
      ]
     },
     "execution_count": 61,
     "metadata": {},
     "output_type": "execute_result"
    }
   ],
   "source": [
    "M = Matrix([[2,1],[-4,-2]])\n",
    "M"
   ]
  },
  {
   "cell_type": "markdown",
   "metadata": {},
   "source": [
    "Vi finder nu egenværdier samt egenvektorer:"
   ]
  },
  {
   "cell_type": "code",
   "execution_count": 62,
   "metadata": {},
   "outputs": [
    {
     "data": {
      "text/latex": [
       "$\\displaystyle \\left[\\begin{matrix}2 - Z & 1\\\\-4 & - Z - 2\\end{matrix}\\right]$"
      ],
      "text/plain": [
       "Matrix([\n",
       "[2 - Z,      1],\n",
       "[   -4, -Z - 2]])"
      ]
     },
     "execution_count": 62,
     "metadata": {},
     "output_type": "execute_result"
    }
   ],
   "source": [
    "Z = symbols('Z')\n",
    "M = Matrix([[2-Z,1],[-4,-2-Z]])\n",
    "M"
   ]
  },
  {
   "cell_type": "code",
   "execution_count": 63,
   "metadata": {},
   "outputs": [
    {
     "data": {
      "text/latex": [
       "$\\displaystyle Z^{2}$"
      ],
      "text/plain": [
       "Z**2"
      ]
     },
     "execution_count": 63,
     "metadata": {},
     "output_type": "execute_result"
    }
   ],
   "source": [
    "factor(M.det())"
   ]
  },
  {
   "cell_type": "markdown",
   "metadata": {},
   "source": [
    "Vi ser nu at den ene rod er lig med 0, vi har $am(0) = 2$ vi finder nu en mulig diagonal matrix:"
   ]
  },
  {
   "cell_type": "code",
   "execution_count": 64,
   "metadata": {},
   "outputs": [
    {
     "data": {
      "text/plain": [
       "(Matrix([\n",
       " [1, 1/2],\n",
       " [0,   0]]),\n",
       " (0,))"
      ]
     },
     "execution_count": 64,
     "metadata": {},
     "output_type": "execute_result"
    }
   ],
   "source": [
    "Z = 0\n",
    "M = Matrix([[2-Z,1],[-4,-2-Z]])\n",
    "M.rref()"
   ]
  },
  {
   "cell_type": "markdown",
   "metadata": {},
   "source": [
    "En mulig basis kunne altså være $\\begin{bmatrix} 1 \\\\ \\frac{-1/2}{1} \\end{bmatrix}$, så gm(0) = 1. Vi ser nu at A ikke kan diagonaliseres."
   ]
  },
  {
   "cell_type": "markdown",
   "metadata": {},
   "source": [
    "## Spørgsmål b\n",
    "Find nu først den fuldstændige løsning til følgende homogene system af differentialligninger:\n",
    "$$\n",
    "\\begin{bmatrix}\n",
    "g'_1(t) \\\\\n",
    "g'_2(t)\n",
    "\\end{bmatrix} = J \\cdot\n",
    "\\begin{bmatrix}\n",
    "g_1(t) \\\\\n",
    "g_2(t)\n",
    "\\end{bmatrix}\n",
    "$$\n",
    "hvor\n",
    "$$\n",
    "J = \n",
    "\\begin{bmatrix}\n",
    "0 & 1 \\\\\n",
    "0 & 0\n",
    "\\end{bmatrix}\n",
    "$$"
   ]
  },
  {
   "cell_type": "code",
   "execution_count": null,
   "metadata": {},
   "outputs": [],
   "source": []
  }
 ],
 "metadata": {
  "kernelspec": {
   "display_name": "DTUMisc",
   "language": "python",
   "name": "python3"
  },
  "language_info": {
   "codemirror_mode": {
    "name": "ipython",
    "version": 3
   },
   "file_extension": ".py",
   "mimetype": "text/x-python",
   "name": "python",
   "nbconvert_exporter": "python",
   "pygments_lexer": "ipython3",
   "version": "3.11.10"
  }
 },
 "nbformat": 4,
 "nbformat_minor": 2
}
