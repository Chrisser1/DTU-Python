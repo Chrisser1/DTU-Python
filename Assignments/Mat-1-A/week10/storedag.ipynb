{
 "cells": [
  {
   "cell_type": "markdown",
   "metadata": {},
   "source": [
    "# Opgave 1: Linearitet og dimensionssætning"
   ]
  },
  {
   "cell_type": "markdown",
   "metadata": {},
   "source": [
    "## a)\n",
    "Vi er givet to lineære afbildninger $f:\\mathbb{R}^2 \\rightarrow \\mathbb{R}^2$ og $g:\\mathbb{R}^2 \\rightarrow \\mathbb{R}^2$.\n",
    "\n",
    "$$\n",
    "f((x_1, x_2)) = (x_1 - x_2, -x_1 + x_2) \\text{ og } g((x_1, x_2)) = (-x_2, x_1^2)\n",
    "$$\n",
    "\n",
    "Og skal vise at netop én af de to afbildninger er en lineær afbildning mellem de reelle vektorrum $\\mathbb{R}^2 \\text{ og } \\mathbb{R}^2$.\n",
    "\n",
    "![image.png](../../../misc/images/definitions/10.0.1.png)"
   ]
  },
  {
   "cell_type": "markdown",
   "metadata": {},
   "source": [
    "### Svar:\n"
   ]
  },
  {
   "cell_type": "markdown",
   "metadata": {},
   "source": [
    "Vi tjekker nu ud fra definitionen:\n",
    "\n",
    "**(i) Additivitet**\n",
    "\n",
    "**f**\n",
    "Vi skal vise, at $ f((x_1 + y_1, x_2 + y_2)) = f((x_1, x_2)) + f((y_1, y_2)) $.\n",
    "\n",
    "$$\n",
    "f((x_1 + y_1, x_2 + y_2)) = ((x_1 + y_1) - (x_2 + y_2), -(x_1 + y_1) + (x_2 + y_2))\n",
    "$$\n",
    "$$\n",
    "= (x_1 - x_2 + y_1 - y_2, -x_1 + x_2 - y_1 + y_2)\n",
    "$$\n",
    "$$\n",
    "= f((x_1, x_2)) + f((y_1, y_2))\n",
    "$$\n",
    "\n",
    "Da dette er opfyldt, har $ f $ additivitet.\n",
    "\n",
    "**g**\n",
    "Vi skal vise, at $ g((x_1 + y_1, x_2 + y_2)) = g((x_1, x_2)) + g((y_1, y_2)) $.\n",
    "\n",
    "$$\n",
    "g((x_1 + y_1, x_2 + y_2)) = (-(x_2 + y_2), (x_1 + y_1)^2)\n",
    "$$\n",
    "$$\n",
    "= (-x_2 - y_2, x_1^2 + 2x_1 y_1 + y_1^2)\n",
    "$$\n",
    "$$\n",
    "g((x_1, x_2)) + g((y_1, y_2)) = (-x_2, x_1^2) + (-y_2, y_1^2) = (-x_2 - y_2, x_1^2 + y_1^2)\n",
    "$$\n",
    "\n",
    "Da $ x_1^2 + 2x_1 y_1 + y_1^2 \\neq x_1^2 + y_1^2 $, opfylder $ g $ ikke additivitetskravet, og er derfor ikke lineær.\n",
    "\n",
    "**(ii) Homogenitet**\n",
    "\n",
    "**f**\n",
    "Vi skal vise, at $ f(c \\cdot (x_1, x_2)) = c \\cdot f((x_1, x_2)) $ for en vilkårlig skalar $ c $.\n",
    "\n",
    "$$\n",
    "f(c \\cdot (x_1, x_2)) = f((c x_1, c x_2)) = (c x_1 - c x_2, -c x_1 + c x_2)\n",
    "$$\n",
    "$$\n",
    "= c (x_1 - x_2, -x_1 + x_2) = c \\cdot f((x_1, x_2))\n",
    "$$\n",
    "\n",
    "Da dette er opfyldt, har $ f $ også homogenitet.\n",
    "\n",
    "**Konklusion**\n",
    "\n",
    "Kun $ f $ opfylder både additivitet og homogenitet, og er derfor en lineær afbildning fra $ \\mathbb{R}^2 $ til $ \\mathbb{R}^2 $. Funktionen $ g $ opfylder ikke additivitet og er derfor ikke lineær.\n"
   ]
  },
  {
   "cell_type": "markdown",
   "metadata": {},
   "source": [
    "## b)\n",
    "Angiv en basis for f’s kerne samt kernens dimension.\n",
    "\n",
    "![image.png](../../../misc/images/definitions/10.2.1.png)"
   ]
  },
  {
   "cell_type": "markdown",
   "metadata": {},
   "source": [
    "### Svar:\n",
    "For at finde basis vil vi gøre brug af sætningen.\n",
    "\n",
    "Vi skriver den på reduceret trappeform:\n",
    "$$\n",
    "f((x_1, x_2)) = (x_1 - x_2, -x_1 + x_2)\n",
    "$$\n",
    "$$\n",
    "\\begin{bmatrix} \n",
    "1 & -1 \\\\\n",
    "-1 & 1\n",
    "\\end{bmatrix} \\Rightarrow r2 \\leftarrow r2 + r1 = \n",
    "\\begin{bmatrix} \n",
    "1 & -1 \\\\\n",
    "0 & 0\n",
    "\\end{bmatrix}\n",
    "$$\n",
    "\n",
    "Vi ved nu ud fra definitionen, at vi gerne vil have, at $x_1 - x_2 = 0$ som kun går op når $x_1 = x_2$. Nu kan vi observere, at den eneste måde vi kan skrive vores basis er som $\\begin{bmatrix} 1 \\\\ 1 \\end{bmatrix}$, da den tillade: \n",
    "\n",
    "$$\n",
    "\\text{ker f} = \\{t \\cdot \\begin{bmatrix} 1 \\\\ 1 \\end{bmatrix} \\mid t \\in \\mathbb{R} \\}\n",
    "\n",
    "$$\n",
    "\n",
    "Vi har nu $dim(ker f) = 1$, og at vores basis er lig med $\\begin{bmatrix} 1 \\\\ 1 \\end{bmatrix}$."
   ]
  },
  {
   "cell_type": "markdown",
   "metadata": {},
   "source": [
    " ## c)\n",
    " Angiv billedrummet for den fundne lineære afbildning. Angiv også en basis for billedrummet samt billedrummets dimension."
   ]
  },
  {
   "cell_type": "markdown",
   "metadata": {},
   "source": [
    "### Svar:\n",
    "\n",
    "Vi ønsker at finde billedrummet (image) for den fundne lineære afbildning $ f $ samt en basis og dimension for billedrummet.\n",
    "\n",
    "Vi starter med at opskrive vores matrix:\n",
    "$$\n",
    "\\begin{bmatrix}\n",
    "1 & -1 & b_1 \\\\\n",
    "-1 & 1 & b_2\n",
    "\\end{bmatrix} \\Rightarrow r2 \\leftarrow r2 + r1 =\n",
    "\\begin{bmatrix}\n",
    "1 & -1 & b_1 \\\\\n",
    "0 & 0 & b_2 + b_1\n",
    "\\end{bmatrix}\n",
    "$$\n",
    "\n",
    "Vi kan nu observere, at $b_2 + b_1 = 0$, hvilket giver os at $b_2 = -b_1$.\n",
    "\n",
    "$$\n",
    "\\text{image(f)} = \\{\\begin{bmatrix} -1 \\\\ 1 \\end{bmatrix} \\cdot t \\mid t \\in \\mathbb{R}\\}\n",
    "$$\n",
    "\n"
   ]
  },
  {
   "cell_type": "markdown",
   "metadata": {},
   "source": [
    "## d)\n",
    "Check at dimensionssætningen (se Corollary 10.4.3 fra lærebogen) er opfyldt for den fundne lineære afbildning.\n",
    "\n",
    "![image.png](../../../misc/images/collaries/10.4.3.png)"
   ]
  },
  {
   "cell_type": "markdown",
   "metadata": {},
   "source": [
    "### Svar:\n",
    "Vi kan observere at vores dim(imageL) = 1, så vi har altså:\n",
    "$$\n",
    "\\text{dim(image f)} + \\text{dim(ker f)} = 1 + 1 = 2\n",
    "$$\n",
    "\n",
    "og da vi har matrixen $dim(\\mathbb{R}^2) = 2$, så holder kollar 10.4.3."
   ]
  },
  {
   "cell_type": "markdown",
   "metadata": {},
   "source": [
    "# Opgave 2: Undersøgelse af en lineær afbildning\n",
    "Lad $L: \\mathbb{R}^4 \\rightarrow \\mathbb{R}^3$ være give ved forskriften:\n",
    "$$\n",
    "L(\\begin{bmatrix} v_1 \\\\ v_2 \\\\ v_3 \\\\ v_4 \\end{bmatrix}) = \n",
    "\\begin{bmatrix} \n",
    "v_1 + v_2 + 3v_3 + v_4 \\\\ \n",
    "3v_1 - v_2 + 2v_3 + 4v_4 \\\\ \n",
    "2v_1 + 2v_2 + 6v_3 + 4v_4\n",
    "\\end{bmatrix}\n",
    "$$"
   ]
  },
  {
   "cell_type": "markdown",
   "metadata": {},
   "source": [
    "## a)\n",
    "Find en matrix $A \\in \\mathbb{R}^{3 \\times 4}$ hvorom det gælder at\n",
    "$$\n",
    "L(\\begin{bmatrix} v_1 \\\\ v_2 \\\\ v_3 \\\\ v_4 \\end{bmatrix}) = \n",
    "A \\cdot \n",
    "\\begin{bmatrix} v_1 \\\\ v_2 \\\\ v_3 \\\\ v_4 \\end{bmatrix}\n",
    "$$\n",
    "\n",
    "Brug Definition 10.1.1 og Lemma 10.1.1 fra lærebogen til at konkludere at \n",
    "L er en lineær afbildning.\n",
    "![image.png](../../../misc/images/definitions/10.1.1.png)\n",
    "![image.png](../../../misc/images/lemmas/10.1.1.png)"
   ]
  },
  {
   "cell_type": "markdown",
   "metadata": {},
   "source": [
    "### Svar:\n",
    "Vi skriver matrixen op:\n",
    "$$\n",
    "A =\n",
    "\\begin{bmatrix} \n",
    "1 & 1 & 3 & 1 \\\\ \n",
    "3 &-1 & 2 & 4 \\\\ \n",
    "2 & 2 & 6 & 4\n",
    "\\end{bmatrix} \n",
    "$$\n",
    "\n",
    "Vi ser at dette er den lineære afbilled, da $A \\in \\mathbb{F}^{3 \\times 4}$ og $L_a: \\mathbb{F}^4 \\rightarrow \\mathbb{F}^3$."
   ]
  },
  {
   "cell_type": "markdown",
   "metadata": {},
   "source": [
    "## b)\n",
    "Lad $\\beta$ være den standard ordnede basis for $\\mathbb{R}^4$ og $\\gamma$ den for $\\mathbb{R}^3$. Tjek at $A= _\\gamma[L]_\\beta$.\n",
    "![image.png](../../../misc/images/lemmas/10.3.3.png)"
   ]
  },
  {
   "cell_type": "markdown",
   "metadata": {},
   "source": [
    "### Svar:\n"
   ]
  },
  {
   "cell_type": "markdown",
   "metadata": {},
   "source": []
  }
 ],
 "metadata": {
  "language_info": {
   "name": "python"
  }
 },
 "nbformat": 4,
 "nbformat_minor": 2
}
