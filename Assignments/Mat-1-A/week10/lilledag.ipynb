{
 "cells": [
  {
   "cell_type": "code",
   "execution_count": 89,
   "metadata": {},
   "outputs": [],
   "source": [
    "from sympy import *"
   ]
  },
  {
   "cell_type": "markdown",
   "metadata": {},
   "source": [
    "# Opgave 1: SymPy opgaven\n",
    "I denne opgave bruges SymPy til at analysere en lineær afbildning. Der defineres de komplekse vektorrum $V_1 = \\{p(Z) \\in \\mathbb{C}[Z] \\mid deg p(Z) \\le 6\\}$ og $V_2 = \\mathbb{C}^5$. Ydermere defineres den lineære afbildning $L : V_1 \\rightarrow V_2$ ved $P(Z) \\rightarrow (p(0),p(2i),p(1),p(-3),p(1+2i))$. \n"
   ]
  },
  {
   "cell_type": "markdown",
   "metadata": {},
   "source": [
    "## Spørgsmål a\n",
    "Der vælges den ordnede basis $\\beta = (1,Z,Z^2,Z^3,Z^4,Z^5,Z^6)$ i $V_1$ og den standard ordnede basis $\\gamma$ i $V_2$. Bestem afbildningsmatricen $_\\gamma[L]_\\beta$ og indfør matricen i SymPy. Alle beregninger med komplekse tal kan også udføres ved hjælp af SymPy."
   ]
  },
  {
   "cell_type": "markdown",
   "metadata": {},
   "source": [
    "### Svar:\n",
    "Vi ved at den standart ordnet basis for $\\gamma$ er lig med:\n",
    "\n",
    "$$\n",
    "\\gamma = \n",
    "\\begin{bmatrix} \n",
    "1 & 0 & 0 & 0 & 0 \\\\\n",
    "0 & 1 & 0 & 0 & 0 \\\\\n",
    "0 & 0 & 1 & 0 & 0 \\\\\n",
    "0 & 0 & 0 & 1 & 0 \\\\\n",
    "0 & 0 & 0 & 0 & 1 \\\\\n",
    "\\end{bmatrix}\n",
    "$$\n",
    "\n",
    "$$\n",
    "P(Z) \\rightarrow \n",
    "\\begin{bmatrix}\n",
    "p(0) \\\\ \n",
    "p(2i) \\\\ \n",
    "p(1) \\\\ \n",
    "p(-3) \\\\ \n",
    "p(1+2i)\n",
    "\\end{bmatrix}\n",
    "$$"
   ]
  },
  {
   "cell_type": "code",
   "execution_count": 90,
   "metadata": {},
   "outputs": [
    {
     "name": "stdout",
     "output_type": "stream",
     "text": [
      "-64\n",
      "729\n",
      "117 + 44*I\n"
     ]
    }
   ],
   "source": [
    "n = 6\n",
    "print(expand((2 * I)**n))\n",
    "print(3**n)\n",
    "print(expand(((1 + 2 * I))**n))"
   ]
  },
  {
   "cell_type": "markdown",
   "metadata": {},
   "source": [
    "For at finde $_\\gamma[L]_\\beta$ opskriver vi følgende:\n",
    "$$\n",
    "_\\gamma[L]_\\beta = [[L(1)]_\\gamma [L(Z)]_\\gamma [L(Z^2)]_\\gamma [L(Z^3)]_\\gamma [L(Z^4)]_\\gamma [L(Z^5)]_\\gamma [L(Z^6)]_\\gamma]\n",
    "$$\n",
    "\n",
    "$$\n",
    "= [\n",
    "\\begin{bmatrix} % L(1)\n",
    "1 \\\\\n",
    "1 \\\\\n",
    "1 \\\\\n",
    "1 \\\\\n",
    "1\n",
    "\\end{bmatrix}\n",
    "\\begin{bmatrix} % L(Z)\n",
    "0 \\\\\n",
    "2i \\\\\n",
    "1 \\\\\n",
    "-3 \\\\\n",
    "1 + 2i\n",
    "\\end{bmatrix}\n",
    "\\begin{bmatrix} % L(Z^2)\n",
    "0 \\\\\n",
    "−4 \\\\\n",
    "1 \\\\\n",
    "9 \\\\\n",
    "−3+4i\n",
    "\\end{bmatrix}\n",
    "\\begin{bmatrix} % L(Z^3)\n",
    "0 \\\\\n",
    "−8i \\\\\n",
    "1 \\\\\n",
    "-27 \\\\\n",
    "−11−2i\n",
    "\\end{bmatrix}\n",
    "\\begin{bmatrix} % L(Z^4)\n",
    "0 \\\\\n",
    "16 \\\\\n",
    "1 \\\\\n",
    "81 \\\\\n",
    "-7 - 24i\n",
    "\\end{bmatrix}\n",
    "\\begin{bmatrix} % L(Z^5)\n",
    "0 \\\\\n",
    "32i \\\\\n",
    "1 \\\\\n",
    "-243 \\\\\n",
    "41 - 38i\n",
    "\\end{bmatrix}\n",
    "\\begin{bmatrix} % L(Z^6)\n",
    "0 \\\\\n",
    "-64 \\\\\n",
    "1 \\\\\n",
    "729 \\\\\n",
    "117 + 44i\n",
    "\\end{bmatrix}\n",
    "]\n",
    "$$\n",
    "\n",
    "$$\n",
    "=\n",
    "\\begin{bmatrix} % L(1)\n",
    "1 & 0      & 0     & 0      & 0        & 0        & 0         \\\\\n",
    "1 & 2i     & −4    & −8i    & 16       & 32i      & -64       \\\\\n",
    "1 & 1      & 1     & 1      & 1        & 1        & 1         \\\\\n",
    "1 & -3     & 9     & -27    & 81       & -243     & 729       \\\\\n",
    "1 & 1 + 2i & −3+4i & −11−2i & -7 - 24i & 41 - 38i & 117 + 44i \n",
    "\\end{bmatrix}\n",
    "$$"
   ]
  },
  {
   "cell_type": "markdown",
   "metadata": {},
   "source": [
    "## Spørgsmål b\n",
    "Find en basis af $ker(L)$."
   ]
  },
  {
   "cell_type": "markdown",
   "metadata": {},
   "source": [
    "### Svar:\n",
    "For at finde kernen, så vil vi følge hintet:\n",
    "![image.png](../../../misc/images/hints/week10-Opgave1-b-hint-1.png)"
   ]
  },
  {
   "cell_type": "code",
   "execution_count": 91,
   "metadata": {},
   "outputs": [
    {
     "data": {
      "text/latex": [
       "$\\displaystyle \\left[\\begin{matrix}1 & 0 & 0 & 0 & 0 & 0 & 0\\\\1 & 2 i & -4 & - 8 i & 16 & 32 i & -64\\\\1 & 1 & 1 & 1 & 1 & 1 & 1\\\\1 & -3 & 9 & -27 & 81 & -243 & 729\\\\1 & 1 + 2 i & -3 + 4 i & -11 - 2 i & -7 - 24 i & 41 - 38 i & 117 + 44 i\\end{matrix}\\right]$"
      ],
      "text/plain": [
       "Matrix([\n",
       "[1,       0,        0,         0,         0,         0,          0],\n",
       "[1,     2*I,       -4,      -8*I,        16,      32*I,        -64],\n",
       "[1,       1,        1,         1,         1,         1,          1],\n",
       "[1,      -3,        9,       -27,        81,      -243,        729],\n",
       "[1, 1 + 2*I, -3 + 4*I, -11 - 2*I, -7 - 24*I, 41 - 38*I, 117 + 44*I]])"
      ]
     },
     "execution_count": 91,
     "metadata": {},
     "output_type": "execute_result"
    }
   ],
   "source": [
    "m = Matrix([[1,1,1,1,1],\n",
    "                 [0,2*I,1,-3,1+2*I],\n",
    "                 [0,-4,1,9,-3+4*I],\n",
    "                 [0,-8*I,1,-27,-11-2*I],\n",
    "                 [0,16,1,81,-7-24*I],\n",
    "                 [0,32*I,1,-243,41-38*I],\n",
    "                 [0,-64,1,729,117+44*I]\n",
    "                 ]).transpose() # ups\n",
    "m"
   ]
  },
  {
   "cell_type": "code",
   "execution_count": 92,
   "metadata": {},
   "outputs": [
    {
     "data": {
      "text/plain": [
       "[Matrix([\n",
       " [        0],\n",
       " [ 12 - 6*I],\n",
       " [-5 + 16*I],\n",
       " [ -9 - 6*I],\n",
       " [  1 - 4*I],\n",
       " [        1],\n",
       " [        0]]),\n",
       " Matrix([\n",
       " [         0],\n",
       " [ 12 + 54*I],\n",
       " [-47 - 42*I],\n",
       " [ 28 - 14*I],\n",
       " [   6 + 2*I],\n",
       " [         0],\n",
       " [         1]])]"
      ]
     },
     "execution_count": 92,
     "metadata": {},
     "output_type": "execute_result"
    }
   ],
   "source": [
    "ordnetBasis = m.nullspace()\n",
    "ordnetBasis"
   ]
  },
  {
   "cell_type": "code",
   "execution_count": 93,
   "metadata": {},
   "outputs": [
    {
     "data": {
      "text/plain": [
       "(Matrix([\n",
       " [        0],\n",
       " [ 12 - 6*I],\n",
       " [-5 + 16*I],\n",
       " [ -9 - 6*I],\n",
       " [  1 - 4*I],\n",
       " [        1],\n",
       " [        0]]),\n",
       " Matrix([\n",
       " [         0],\n",
       " [ 12 + 54*I],\n",
       " [-47 - 42*I],\n",
       " [ 28 - 14*I],\n",
       " [   6 + 2*I],\n",
       " [         0],\n",
       " [         1]]))"
      ]
     },
     "execution_count": 93,
     "metadata": {},
     "output_type": "execute_result"
    }
   ],
   "source": [
    "v1,v2 = ordnetBasis\n",
    "v1, v2"
   ]
  },
  {
   "cell_type": "markdown",
   "metadata": {},
   "source": [
    "Vi har nu dannet en basis til kernen af afbildningsmatricen $_\\gamma[L]_\\beta$. \n",
    "\n",
    "Vi kan nu bruge følgende til at finde kernen(L)\n",
    "![image.png](../../../misc/images/theorems/10.4.2.png)"
   ]
  },
  {
   "cell_type": "markdown",
   "metadata": {},
   "source": [
    "Vi har nu at vi kan opskrive vores $ker(_\\gamma[L]_\\beta)$ som:\n",
    "$$\n",
    "ker(_\\gamma[L]_\\beta) = \n",
    "\\{\n",
    "t_1 \\cdot \n",
    "\\begin{bmatrix}\n",
    "0 \\\\\n",
    "12-6i \\\\\n",
    "-5+16i \\\\\n",
    "-9-6i \\\\\n",
    "1-4i \\\\\n",
    "1 \\\\\n",
    "0\n",
    "\\end{bmatrix}\n",
    "+\n",
    "t_2 \\cdot \n",
    "\\begin{bmatrix}\n",
    "0 \\\\\n",
    "12+54i \\\\\n",
    "-47-42i \\\\\n",
    "28-14i \\\\\n",
    "6+2i \\\\\n",
    "0 \\\\\n",
    "1\n",
    "\\end{bmatrix}\n",
    "\\mid t_1,t_2 \\in \\mathbb{C}\n",
    "\\}\n",
    "$$"
   ]
  },
  {
   "cell_type": "markdown",
   "metadata": {},
   "source": [
    "Vi kan nu udregne ker(L):\n",
    "$$\n",
    "ker(L) =\n",
    "\\{\n",
    "t_1 \\cdot\n",
    "((12-67i)Z + (-5+16i)Z^2 + (-9-6i)Z^3 + (1-4i)Z^4 + Z^5), \\newline t_2 \\cdot ((12 +54i)Z + (-47-42i)Z^2 + (28-14i)Z^3 + (6+2i)Z^4 + Z^6)\n",
    "\\}\n",
    "$$"
   ]
  },
  {
   "cell_type": "markdown",
   "metadata": {},
   "source": [
    "## Spørgsmål c\n",
    "Find et polynomium $p(Z) \\in V_1$ af lavest mulig grad således at $L(p(Z)) = (1,3,1,3,1)$"
   ]
  },
  {
   "cell_type": "markdown",
   "metadata": {},
   "source": [
    "### Svar:\n",
    "For at løse dette vil vi følge hintet:\n",
    "![image.png](../../../misc/images/hints/week10-opgave1-c-hint1.png)"
   ]
  },
  {
   "cell_type": "code",
   "execution_count": 94,
   "metadata": {},
   "outputs": [
    {
     "data": {
      "text/plain": [
       "(Matrix([\n",
       " [1, 0, 0, 0, 0,         0,          0,              1],\n",
       " [0, 1, 0, 0, 0, -12 + 6*I, -12 - 54*I,            5/6],\n",
       " [0, 0, 1, 0, 0,  5 - 16*I,  47 + 42*I, -7/10 + 7*I/20],\n",
       " [0, 0, 0, 1, 0,   9 + 6*I, -28 + 14*I,  -1/5 - 7*I/30],\n",
       " [0, 0, 0, 0, 1,  -1 + 4*I,   -6 - 2*I,  1/15 - 7*I/60]]),\n",
       " (0, 1, 2, 3, 4))"
      ]
     },
     "execution_count": 94,
     "metadata": {},
     "output_type": "execute_result"
    }
   ],
   "source": [
    "totalMatrix = Matrix.hstack(m, Matrix([[1],[3],[1],[3],[1]]))\n",
    "totalMatrix.rref()\n"
   ]
  },
  {
   "cell_type": "markdown",
   "metadata": {},
   "source": [
    "Vi har nu:\n",
    "$$\n",
    "\\begin{bmatrix}\n",
    "             1 \\\\\n",
    "           5/6 \\\\\n",
    "-7/10 + 7i/20 \\\\\n",
    " -1/5 - 7i/30 \\\\\n",
    " 1/15 - 7i/60 \\\\\n",
    "0 \\\\\n",
    "0\n",
    "\\end{bmatrix}\n",
    "+\n",
    "t_1 \\cdot\n",
    "\\begin{bmatrix}\n",
    "       0 \\\\\n",
    "-12 + 6i \\\\\n",
    " 5 - 16i \\\\\n",
    "  9 + 6i \\\\\n",
    " -1 + 4i \\\\\n",
    "1 \\\\\n",
    "0\n",
    "\\end{bmatrix}\n",
    "+\n",
    "t_2 \\cdot\n",
    "\\begin{bmatrix}\n",
    "        0 \\\\\n",
    "-12 - 54i \\\\\n",
    " 47 + 42i \\\\\n",
    "-28 + 14i \\\\\n",
    "  -6 - 2i \\\\\n",
    "0 \\\\\n",
    "1\n",
    "\\end{bmatrix},\n",
    "\n",
    "t_1, t_2 \\in \\mathbb{C}\n",
    " $$"
   ]
  },
  {
   "cell_type": "code",
   "execution_count": null,
   "metadata": {},
   "outputs": [],
   "source": []
  },
  {
   "cell_type": "markdown",
   "metadata": {},
   "source": [
    "$$\n",
    "\\left(z + \\frac{5}{6}z + \\left(-\\frac{7}{10} + \\frac{7i}{20}\\right)z^2 + \\left(-\\frac{1}{5} - \\frac{7i}{30}\\right)z^3 + \\left(\\frac{1}{15} - \\frac{7i}{60}\\right)z^4\\right) + \\\\\n",
    "t_1 \\cdot \\left(\\left(-12 + 6i\\right)z + \\left(5 - 16i\\right)z^2 + \\left(9 + 6i\\right)z^3 + \\left(-1 + 4i\\right)z^4 + z^5\\right) + \\\\\n",
    "t_2 \\cdot \\left(\\left(-12 - 54i\\right)z + \\left(47 + 42i\\right)z^2 + \\left(-28 + 14i\\right)z^3 + \\left(-6 - 2i\\right)z^4 + z^6\\right),\n",
    "t_1, t_2 \\in \\mathbb{C}\n",
    "$$\n"
   ]
  }
 ],
 "metadata": {
  "kernelspec": {
   "display_name": "DTUMisc",
   "language": "python",
   "name": "python3"
  },
  "language_info": {
   "codemirror_mode": {
    "name": "ipython",
    "version": 3
   },
   "file_extension": ".py",
   "mimetype": "text/x-python",
   "name": "python",
   "nbconvert_exporter": "python",
   "pygments_lexer": "ipython3",
   "version": "3.11.10"
  }
 },
 "nbformat": 4,
 "nbformat_minor": 2
}
