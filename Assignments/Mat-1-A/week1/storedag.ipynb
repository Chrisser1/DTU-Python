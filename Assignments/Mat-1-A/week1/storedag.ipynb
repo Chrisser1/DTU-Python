{
 "cells": [
  {
   "cell_type": "markdown",
   "metadata": {},
   "source": [
    "# Opgave 1: Udsagn\n",
    "Lad P og Q være logiske udsagn.\n",
    "\n",
    "Vi danner nu tre nye udsagn:\n",
    "\n",
    "**u** “Mindst et af udsagnene P og Q er sande”\n",
    "\n",
    "**v** “Netop et af udsagnene P og Q er falsk”\n",
    "\n",
    "**w** “P er sandt og Q er falsk”"
   ]
  },
  {
   "cell_type": "markdown",
   "metadata": {},
   "source": [
    "## Spørgsmål a\n",
    "Opskriv sandhedstabeller for de logiske udsagn u, v og w."
   ]
  },
  {
   "cell_type": "markdown",
   "metadata": {},
   "source": [
    "### Svar:\n",
    "$$\n",
    "\\begin{array}{|c|c|c|c|c|}\n",
    "\\hline\n",
    "P & Q & u & v & w \\\\\n",
    "\\hline\n",
    "T & T & T & F & F \\\\\n",
    "\\hline\n",
    "F & T & T & T & F \\\\\n",
    "\\hline\n",
    "T & F & T & T & T \\\\\n",
    "\\hline\n",
    "F & F & F & F & F \\\\\n",
    "\\hline\n",
    "\\end{array}\n",
    "$$\n"
   ]
  },
  {
   "cell_type": "markdown",
   "metadata": {},
   "source": [
    "## Spørgsmål b\n",
    "Lad nu P og Q betegne de logiske udsagn:\n",
    "\n",
    "P: \"6 er et ulige tal\" og Q: \"3<7\"\n",
    "\n",
    "Brug tabellerne fra forrige spørgsmål til at afklare sandhedsværdien af de tre udsagn u, v og w:"
   ]
  },
  {
   "cell_type": "markdown",
   "metadata": {},
   "source": [
    "### Svar:\n",
    "For at gøre dette observere vi at P er falsk og Q er sand, så vi har altså:\n",
    "$$\n",
    "\\begin{array}{|c|c|c|c|c|}\n",
    "\\hline\n",
    "P & Q & u & v & w \\\\\n",
    "\\hline\n",
    "F & T & T & T & F \\\\\n",
    "\\hline\n",
    "\\end{array}\n",
    "$$\n"
   ]
  },
  {
   "cell_type": "markdown",
   "metadata": {},
   "source": [
    "## Spørgsmål c\n",
    "Hvilket af følgende logiske udsagn $P \\land Q$ eller $P \\lor Q$ er logisk ækvivalent med u?"
   ]
  },
  {
   "cell_type": "markdown",
   "metadata": {},
   "source": [
    "### Svar:\n",
    "Vi opskriver nu sandhedstabellen:\n",
    "$$\n",
    "\\begin{array}{|c|c|c|c|c|}\n",
    "\\hline\n",
    "P & Q & u & P \\land Q & P \\lor Q \\\\\n",
    "\\hline\n",
    "T & T & T & T & T \\\\\n",
    "\\hline\n",
    "F & T & T & F & T \\\\\n",
    "\\hline\n",
    "T & F & T & F & T \\\\\n",
    "\\hline\n",
    "F & F & F & F & F \\\\\n",
    "\\hline\n",
    "\\end{array}\n",
    "$$\n",
    "\n",
    "Som kan observeres er $P \\lor Q = u$"
   ]
  },
  {
   "cell_type": "markdown",
   "metadata": {},
   "source": [
    "# Opgave 2: Eller\n",
    "I udsagnslogikken benytter vi symbolet $\\land$ som udtales “eller”.\n",
    "\n",
    "Lad P og Q være udsagn."
   ]
  },
  {
   "cell_type": "markdown",
   "metadata": {},
   "source": [
    "## Spørgsmål a\n",
    "Opskriv sandhedstabellen for $P \\land Q$"
   ]
  },
  {
   "cell_type": "markdown",
   "metadata": {},
   "source": [
    "### Svar:\n",
    "$$\n",
    "\\begin{array}{|c|c|c|}\n",
    "\\hline\n",
    "P & Q & P \\land Q \\\\\n",
    "\\hline\n",
    "T & T & T \\\\\n",
    "\\hline\n",
    "F & T & F \\\\\n",
    "\\hline\n",
    "T & F & F \\\\\n",
    "\\hline\n",
    "F & F & F \\\\\n",
    "\\hline\n",
    "\\end{array}\n",
    "$$"
   ]
  },
  {
   "cell_type": "markdown",
   "metadata": {},
   "source": [
    "## Spørgsmål b\n",
    "Opskriv sandhedstabellen for $(P \\lor Q) \\land \\neg(P \\land Q)$"
   ]
  },
  {
   "cell_type": "markdown",
   "metadata": {},
   "source": [
    "### Svar:\n",
    "$$\n",
    "\\begin{array}{|c|c|c|c|c|}\n",
    "\\hline\n",
    "P & Q & P \\land Q & P \\lor Q & (P \\lor Q) \\land \\neg(P \\land Q)\\\\\n",
    "\\hline\n",
    "T & T & T & T & F \\\\\n",
    "\\hline\n",
    "F & T & F & T & T \\\\\n",
    "\\hline\n",
    "T & F & F & T & T \\\\\n",
    "\\hline\n",
    "F & F & F & F & F \\\\\n",
    "\\hline\n",
    "\\end{array}\n",
    "$$"
   ]
  },
  {
   "cell_type": "markdown",
   "metadata": {},
   "source": [
    "## Spørgsmål c\n",
    "Giv eksempler på brug af ordet “eller” i almindeligt talesprog og analyser om betydningen af ordet “eller” er ligesom i spørgsmål a eller ligesom i spørgsmål b."
   ]
  },
  {
   "cell_type": "markdown",
   "metadata": {},
   "source": [
    "### Svar:\n",
    "I almideligt talesprog betyder “P eller Q” tit det samme som det logiske udtryk fra spørgsmål b og ikke det matematiske “eller” fra spørgsmål a. Et eksempel er “Jeg har matematik i morgen eller i overmorgen.” Det matematiske “eller” vil ikke udelukke muligheden at man har matematik både i morgen og i overmorgen, men sprogligt er det som regel ikke det man mener. Til orientering: i logik kalder man “eller” som brugt i almindeligt talesprog for “exclusive or”, tit betegnet kort med “xor”."
   ]
  },
  {
   "cell_type": "code",
   "execution_count": null,
   "metadata": {},
   "outputs": [],
   "source": []
  }
 ],
 "metadata": {
  "kernelspec": {
   "display_name": "DTUMisc",
   "language": "python",
   "name": "python3"
  },
  "language_info": {
   "codemirror_mode": {
    "name": "ipython",
    "version": 3
   },
   "file_extension": ".py",
   "mimetype": "text/x-python",
   "name": "python",
   "nbconvert_exporter": "python",
   "pygments_lexer": "ipython3",
   "version": "3.12.7"
  }
 },
 "nbformat": 4,
 "nbformat_minor": 2
}
