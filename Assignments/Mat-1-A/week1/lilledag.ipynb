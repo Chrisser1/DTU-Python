{
 "cells": [
  {
   "cell_type": "markdown",
   "metadata": {},
   "source": [
    "# Opgave 1: Repetitionsopgave: Negation\n",
    "Betragt igen de logiske udsagn $u, v$ og $w$ fra Opgave 1 på Store Dag."
   ]
  },
  {
   "cell_type": "markdown",
   "metadata": {},
   "source": [
    "## Spørgsmål a\n",
    "Opskriv sandhedstabeller for $\\neg u, \\neg v \\text{ og } \\neg w$"
   ]
  },
  {
   "cell_type": "markdown",
   "metadata": {},
   "source": [
    "### Svar:\n",
    "u: $P \\lor Q$\n",
    "\n",
    "$\\neg u: \\neg (P \\lor Q) \\iff \\neg P \\land \\neg Q$\n",
    "\n",
    "$$\n",
    "\\begin{array}{|c|c|c|c|}\n",
    "    \\hline\n",
    "    \\textbf{P} & \\textbf{Q} & \\textbf{P} \\lor \\textbf{Q} & \\neg (P \\lor Q) \\\\\n",
    "    \\hline\n",
    "    T & T & T & F \\\\\n",
    "    \\hline\n",
    "    F & T & T & F\\\\\n",
    "    \\hline\n",
    "    T & F & T & F\\\\\n",
    "    \\hline\n",
    "    F & F & F & T\\\\\n",
    "    \\hline\n",
    "\\end{array}\n",
    "$$\n",
    "\n",
    "v: $\\neg P \\iff Q$\n",
    "\n",
    "$\\neg v: \\neg (\\neg P \\iff Q)$\n",
    "\n",
    "$$\n",
    "\\begin{array}{|c|c|c|c|}\n",
    "    \\hline\n",
    "    \\textbf{P} & \\textbf{Q} & \\neg P \\iff Q & \\neg (\\neg P \\iff Q) \\\\\n",
    "    \\hline\n",
    "    T & T & F & T \\\\\n",
    "    \\hline\n",
    "    F & T & T & F\\\\\n",
    "    \\hline\n",
    "    T & F & T & F\\\\\n",
    "    \\hline\n",
    "    F & F & F & T\\\\\n",
    "    \\hline\n",
    "\\end{array}\n",
    "$$\n",
    "\n",
    "w: $\\neg Q \\land P$\n",
    "\n",
    "$\\neg w: \\neg (\\neg Q \\land P)$\n",
    "\n",
    "$$\n",
    "\\begin{array}{|c|c|c|c|}\n",
    "    \\hline\n",
    "    \\textbf{P} & \\textbf{Q} & \\neg Q \\land P & \\neg (\\neg Q \\land P) \\\\\n",
    "    \\hline\n",
    "    T & T & F & T \\\\\n",
    "    \\hline\n",
    "    F & T & F & T\\\\\n",
    "    \\hline\n",
    "    T & F & T & F\\\\\n",
    "    \\hline\n",
    "    F & F & F & T\\\\\n",
    "    \\hline\n",
    "\\end{array}\n",
    "$$"
   ]
  },
  {
   "cell_type": "markdown",
   "metadata": {},
   "source": [
    "## Spørgsmål b\n",
    "Lad nu P og Q betegne negationen af de logiske udsagn:\n",
    "\n",
    "“6 er et ulige tal” og “3<7”.\n",
    "\n",
    "Hvad er sandhedsværdien af de tre udsagn u, v og w?"
   ]
  },
  {
   "cell_type": "markdown",
   "metadata": {},
   "source": [
    "### Svar:\n",
    "Dette indikerer at P er falsk og Q er sand:\n",
    "\n",
    "u: True\n",
    "\n",
    "v: True\n",
    "\n",
    "w: False"
   ]
  },
  {
   "cell_type": "markdown",
   "metadata": {},
   "source": [
    "# Opgave 2: Implikation\n",
    "## Spørgsmål a\n",
    "Lad $ P $ være et logisk udsagn. Opskriv sandhedstabellerne for $ (P \\implies P) \\implies P $ og $ P \\implies (P \\implies P) $."
   ]
  },
  {
   "cell_type": "markdown",
   "metadata": {},
   "source": [
    "### Svar:\n",
    "$$\n",
    "\\begin{array}{|c|c|c|c|}\n",
    "    \\hline\n",
    "    P & P \\implies P & (P \\implies P) \\implies P & P \\implies (P \\implies P) \\\\\n",
    "    \\hline\n",
    "    \\text{T} & \\text{T} & \\text{T} & \\text{T} \\\\\n",
    "    \\hline\n",
    "    \\text{F} & \\text{T} & \\text{F} & \\text{T} \\\\\n",
    "    \\hline\n",
    "    \\end{array}\n",
    "$$"
   ]
  },
  {
   "cell_type": "markdown",
   "metadata": {},
   "source": [
    "## Spørgsmål b\n",
    "Er ovenstående to logiske udsagn ækvivalente?"
   ]
  },
  {
   "cell_type": "markdown",
   "metadata": {},
   "source": [
    "### Svar:\n",
    "svar: Nej, da deres sandhedstabel ikke er ens"
   ]
  }
 ],
 "metadata": {
  "language_info": {
   "name": "python"
  }
 },
 "nbformat": 4,
 "nbformat_minor": 2
}
