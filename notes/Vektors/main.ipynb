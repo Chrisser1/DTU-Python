{
 "cells": [
  {
   "cell_type": "markdown",
   "metadata": {},
   "source": [
    "# Vectors\n",
    "A vector can be defined as $(v_1,v_2,\\dots,v_n) \\in \\mathbb{F}^n$ where $v_1,v_2,\\dots,v_n \\in \\mathbb{F} \\newline$\n",
    "\n",
    "Now a vector can be written in the format $\\underline{v} = \\begin{bmatrix} v_1 \\\\ \\vdots \\\\ v_n \\end{bmatrix} \\in \\mathbb{F}^{n \\times 1}$ = column vector. \n",
    "\n",
    "A vector can also be written as $\\underline{v} = [v_1, \\dots, v_n] \\in \\mathbb{F}^{1 \\times n}$ = row vector."
   ]
  },
  {
   "cell_type": "markdown",
   "metadata": {},
   "source": [
    "## Vector Calculation Rules\n",
    "\n",
    "### 1. **Vector Addition**\n",
    "- To add two vectors, add corresponding components:\n",
    "$\\newline\n",
    "\\underline{a} + \\underline{b} = \\begin{bmatrix} a_1 \\\\ \\vdots \\\\ a_n \\end{bmatrix} + \\begin{bmatrix} b_1 \\\\ \\vdots \\\\ b_n \\end{bmatrix} = \\begin{bmatrix} a_1 + b_1 \\\\ \\vdots \\\\ a_n + b_n \\end{bmatrix}\n",
    "$\n",
    "\n",
    "### 2. **Scalar Multiplication**\n",
    "- To multiply a vector by a scalar, multiply each component by the scalar:\n",
    "$\\newline\n",
    "c \\cdot \\underline{a} = c \\cdot \\begin{bmatrix} a_1 \\\\ \\vdots \\\\ a_n \\end{bmatrix} = \\begin{bmatrix} c \\cdot a_1 \\\\ \\vdots \\\\ c \\cdot a_n \\end{bmatrix}\n",
    "$\n",
    "\n",
    "### 3. **Dot Product**\n",
    "- The dot product of two vectors is the sum of the products of their corresponding components:\n",
    "$\\newline\n",
    "\\underline{a} \\cdot \\underline{b} = a_1 \\cdot b_1 + \\dots + a_n \\cdot b_n\n",
    "$\n",
    "- **Result:** A scalar value.\n",
    "\n",
    "### 4. **Cross Product** (Only in 3D)\n",
    "\n",
    "- The cross product of two 3D vectors results in a vector perpendicular to both vectors. It is calculated using the determinant of a matrix:\n",
    "  \n",
    "$$\n",
    "\\vec{a} \\times \\vec{b} = \\begin{vmatrix} \\hat{i} & \\hat{j} & \\hat{k} \\\\ a_1 & a_2 & a_3 \\\\ b_1 & b_2 & b_3 \\end{vmatrix} \n",
    "$$\n",
    "\n",
    "- Expanding this determinant, we get:\n",
    "\n",
    "$$\n",
    "\\vec{a} \\times \\vec{b} = \\hat{i} (a_2 b_3 - a_3 b_2) - \\hat{j} (a_1 b_3 - a_3 b_1) + \\hat{k} (a_1 b_2 - a_2 b_1)\n",
    "$$\n",
    "\n",
    "- **Components of the Cross Product**:\n",
    "  - **$ \\hat{i} $ component**: $ a_2 b_3 - a_3 b_2 $\n",
    "  - **$ \\hat{j} $ component**: $ -(a_1 b_3 - a_3 b_1) $\n",
    "  - **$ \\hat{k} $ component**: $ a_1 b_2 - a_2 b_1 $\n",
    "\n",
    "- **Result**: The result is a vector that is perpendicular to both $ \\vec{a} $ and $ \\vec{b} $, following the right-hand rule.\n",
    "\n",
    "- **Geometric Interpretation**: The magnitude of $ \\vec{a} \\times \\vec{b} $ represents the area of the parallelogram formed by $ \\vec{a} $ and $ \\vec{b} $.\n",
    "\n",
    "> **Note**: $ \\hat{i} $, $ \\hat{j} $, and $ \\hat{k} $ are the unit vectors in the directions of the x-axis, y-axis, and z-axis, respectively.\n",
    "\n",
    "### 5. **Magnitude of a Vector**\n",
    "- The magnitude (or length) of a vector is calculated as:\n",
    "$\\newline\n",
    "|\\underline{a}| = \\sqrt{a_1^2 + \\dots + a_n^k}\n",
    "$\n",
    "\n",
    "### 6. **Unit Vector**\n",
    "- A unit vector has a magnitude of 1 and points in the direction of the original vector:\n",
    "$\\newline\n",
    "\\hat{a} = \\frac{\\underline{a}}{|\\underline{a}|}\n",
    "$"
   ]
  },
  {
   "cell_type": "code",
   "execution_count": 1,
   "metadata": {},
   "outputs": [],
   "source": [
    "from sympy import *"
   ]
  },
  {
   "cell_type": "code",
   "execution_count": null,
   "metadata": {},
   "outputs": [],
   "source": []
  }
 ],
 "metadata": {
  "kernelspec": {
   "display_name": "DTUMisc",
   "language": "python",
   "name": "python3"
  },
  "language_info": {
   "codemirror_mode": {
    "name": "ipython",
    "version": 3
   },
   "file_extension": ".py",
   "mimetype": "text/x-python",
   "name": "python",
   "nbconvert_exporter": "python",
   "pygments_lexer": "ipython3",
   "version": "3.11.10"
  }
 },
 "nbformat": 4,
 "nbformat_minor": 2
}
